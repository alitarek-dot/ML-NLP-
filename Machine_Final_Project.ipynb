{
  "nbformat": 4,
  "nbformat_minor": 0,
  "metadata": {
    "colab": {
      "provenance": []
    },
    "kernelspec": {
      "name": "python3",
      "display_name": "Python 3"
    },
    "language_info": {
      "name": "python"
    }
  },
  "cells": [
    {
      "cell_type": "code",
      "execution_count": 1,
      "metadata": {
        "id": "ezoHl_BXOpFB"
      },
      "outputs": [],
      "source": [
        "import pandas as pd\n",
        "import numpy as np\n",
        "import json\n",
        "import string\n",
        "import seaborn as sns\n",
        "import matplotlib.pyplot as plt\n",
        "import plotly.express as px\n",
        "from sklearn import tree\n",
        "from sklearn.pipeline import Pipeline\n",
        "\n",
        "# from sklearn.preprocessing import StandardScaler\n",
        "# from sklearn.model_selection import KFold\n",
        "# from sklearn.model_selection import cross_val_score\n",
        "\n",
        "# Transformers\n",
        "from sklearn.feature_extraction.text import CountVectorizer\n",
        "from sklearn.model_selection import train_test_split\n",
        "from sklearn.metrics import accuracy_score,classification_report,confusion_matrix"
      ]
    },
    {
      "cell_type": "code",
      "source": [
        "! pip install -q kaggle"
      ],
      "metadata": {
        "id": "hYSpVggPSOJV"
      },
      "execution_count": 2,
      "outputs": []
    },
    {
      "cell_type": "code",
      "source": [
        "from google.colab import files\n",
        "files.upload()"
      ],
      "metadata": {
        "colab": {
          "base_uri": "https://localhost:8080/",
          "height": 89
        },
        "id": "MBNUR23XSThz",
        "outputId": "699a1ff4-5dc8-4bd2-a6e2-95ca0c44e5ab"
      },
      "execution_count": 3,
      "outputs": [
        {
          "output_type": "display_data",
          "data": {
            "text/plain": [
              "<IPython.core.display.HTML object>"
            ],
            "text/html": [
              "\n",
              "     <input type=\"file\" id=\"files-cb1e3a07-0d31-4e32-bc16-81feb786df76\" name=\"files[]\" multiple disabled\n",
              "        style=\"border:none\" />\n",
              "     <output id=\"result-cb1e3a07-0d31-4e32-bc16-81feb786df76\">\n",
              "      Upload widget is only available when the cell has been executed in the\n",
              "      current browser session. Please rerun this cell to enable.\n",
              "      </output>\n",
              "      <script>// Copyright 2017 Google LLC\n",
              "//\n",
              "// Licensed under the Apache License, Version 2.0 (the \"License\");\n",
              "// you may not use this file except in compliance with the License.\n",
              "// You may obtain a copy of the License at\n",
              "//\n",
              "//      http://www.apache.org/licenses/LICENSE-2.0\n",
              "//\n",
              "// Unless required by applicable law or agreed to in writing, software\n",
              "// distributed under the License is distributed on an \"AS IS\" BASIS,\n",
              "// WITHOUT WARRANTIES OR CONDITIONS OF ANY KIND, either express or implied.\n",
              "// See the License for the specific language governing permissions and\n",
              "// limitations under the License.\n",
              "\n",
              "/**\n",
              " * @fileoverview Helpers for google.colab Python module.\n",
              " */\n",
              "(function(scope) {\n",
              "function span(text, styleAttributes = {}) {\n",
              "  const element = document.createElement('span');\n",
              "  element.textContent = text;\n",
              "  for (const key of Object.keys(styleAttributes)) {\n",
              "    element.style[key] = styleAttributes[key];\n",
              "  }\n",
              "  return element;\n",
              "}\n",
              "\n",
              "// Max number of bytes which will be uploaded at a time.\n",
              "const MAX_PAYLOAD_SIZE = 100 * 1024;\n",
              "\n",
              "function _uploadFiles(inputId, outputId) {\n",
              "  const steps = uploadFilesStep(inputId, outputId);\n",
              "  const outputElement = document.getElementById(outputId);\n",
              "  // Cache steps on the outputElement to make it available for the next call\n",
              "  // to uploadFilesContinue from Python.\n",
              "  outputElement.steps = steps;\n",
              "\n",
              "  return _uploadFilesContinue(outputId);\n",
              "}\n",
              "\n",
              "// This is roughly an async generator (not supported in the browser yet),\n",
              "// where there are multiple asynchronous steps and the Python side is going\n",
              "// to poll for completion of each step.\n",
              "// This uses a Promise to block the python side on completion of each step,\n",
              "// then passes the result of the previous step as the input to the next step.\n",
              "function _uploadFilesContinue(outputId) {\n",
              "  const outputElement = document.getElementById(outputId);\n",
              "  const steps = outputElement.steps;\n",
              "\n",
              "  const next = steps.next(outputElement.lastPromiseValue);\n",
              "  return Promise.resolve(next.value.promise).then((value) => {\n",
              "    // Cache the last promise value to make it available to the next\n",
              "    // step of the generator.\n",
              "    outputElement.lastPromiseValue = value;\n",
              "    return next.value.response;\n",
              "  });\n",
              "}\n",
              "\n",
              "/**\n",
              " * Generator function which is called between each async step of the upload\n",
              " * process.\n",
              " * @param {string} inputId Element ID of the input file picker element.\n",
              " * @param {string} outputId Element ID of the output display.\n",
              " * @return {!Iterable<!Object>} Iterable of next steps.\n",
              " */\n",
              "function* uploadFilesStep(inputId, outputId) {\n",
              "  const inputElement = document.getElementById(inputId);\n",
              "  inputElement.disabled = false;\n",
              "\n",
              "  const outputElement = document.getElementById(outputId);\n",
              "  outputElement.innerHTML = '';\n",
              "\n",
              "  const pickedPromise = new Promise((resolve) => {\n",
              "    inputElement.addEventListener('change', (e) => {\n",
              "      resolve(e.target.files);\n",
              "    });\n",
              "  });\n",
              "\n",
              "  const cancel = document.createElement('button');\n",
              "  inputElement.parentElement.appendChild(cancel);\n",
              "  cancel.textContent = 'Cancel upload';\n",
              "  const cancelPromise = new Promise((resolve) => {\n",
              "    cancel.onclick = () => {\n",
              "      resolve(null);\n",
              "    };\n",
              "  });\n",
              "\n",
              "  // Wait for the user to pick the files.\n",
              "  const files = yield {\n",
              "    promise: Promise.race([pickedPromise, cancelPromise]),\n",
              "    response: {\n",
              "      action: 'starting',\n",
              "    }\n",
              "  };\n",
              "\n",
              "  cancel.remove();\n",
              "\n",
              "  // Disable the input element since further picks are not allowed.\n",
              "  inputElement.disabled = true;\n",
              "\n",
              "  if (!files) {\n",
              "    return {\n",
              "      response: {\n",
              "        action: 'complete',\n",
              "      }\n",
              "    };\n",
              "  }\n",
              "\n",
              "  for (const file of files) {\n",
              "    const li = document.createElement('li');\n",
              "    li.append(span(file.name, {fontWeight: 'bold'}));\n",
              "    li.append(span(\n",
              "        `(${file.type || 'n/a'}) - ${file.size} bytes, ` +\n",
              "        `last modified: ${\n",
              "            file.lastModifiedDate ? file.lastModifiedDate.toLocaleDateString() :\n",
              "                                    'n/a'} - `));\n",
              "    const percent = span('0% done');\n",
              "    li.appendChild(percent);\n",
              "\n",
              "    outputElement.appendChild(li);\n",
              "\n",
              "    const fileDataPromise = new Promise((resolve) => {\n",
              "      const reader = new FileReader();\n",
              "      reader.onload = (e) => {\n",
              "        resolve(e.target.result);\n",
              "      };\n",
              "      reader.readAsArrayBuffer(file);\n",
              "    });\n",
              "    // Wait for the data to be ready.\n",
              "    let fileData = yield {\n",
              "      promise: fileDataPromise,\n",
              "      response: {\n",
              "        action: 'continue',\n",
              "      }\n",
              "    };\n",
              "\n",
              "    // Use a chunked sending to avoid message size limits. See b/62115660.\n",
              "    let position = 0;\n",
              "    do {\n",
              "      const length = Math.min(fileData.byteLength - position, MAX_PAYLOAD_SIZE);\n",
              "      const chunk = new Uint8Array(fileData, position, length);\n",
              "      position += length;\n",
              "\n",
              "      const base64 = btoa(String.fromCharCode.apply(null, chunk));\n",
              "      yield {\n",
              "        response: {\n",
              "          action: 'append',\n",
              "          file: file.name,\n",
              "          data: base64,\n",
              "        },\n",
              "      };\n",
              "\n",
              "      let percentDone = fileData.byteLength === 0 ?\n",
              "          100 :\n",
              "          Math.round((position / fileData.byteLength) * 100);\n",
              "      percent.textContent = `${percentDone}% done`;\n",
              "\n",
              "    } while (position < fileData.byteLength);\n",
              "  }\n",
              "\n",
              "  // All done.\n",
              "  yield {\n",
              "    response: {\n",
              "      action: 'complete',\n",
              "    }\n",
              "  };\n",
              "}\n",
              "\n",
              "scope.google = scope.google || {};\n",
              "scope.google.colab = scope.google.colab || {};\n",
              "scope.google.colab._files = {\n",
              "  _uploadFiles,\n",
              "  _uploadFilesContinue,\n",
              "};\n",
              "})(self);\n",
              "</script> "
            ]
          },
          "metadata": {}
        },
        {
          "output_type": "stream",
          "name": "stdout",
          "text": [
            "Saving kaggle.json to kaggle.json\n"
          ]
        },
        {
          "output_type": "execute_result",
          "data": {
            "text/plain": [
              "{'kaggle.json': b'{\"username\":\"youssefismail20\",\"key\":\"1a6210e93b0c6c75d68ef32a07c01729\"}'}"
            ]
          },
          "metadata": {},
          "execution_count": 3
        }
      ]
    },
    {
      "cell_type": "code",
      "source": [
        "! mkdir ~/.kaggle\n",
        "! cp kaggle.json ~/.kaggle/\n",
        "! chmod 600 ~/.kaggle/kaggle.json"
      ],
      "metadata": {
        "id": "ii01ps9gSY0o"
      },
      "execution_count": 4,
      "outputs": []
    },
    {
      "cell_type": "code",
      "source": [
        "!kaggle datasets download -d elvinagammed/chatbots-intent-recognition-dataset"
      ],
      "metadata": {
        "colab": {
          "base_uri": "https://localhost:8080/"
        },
        "id": "Mqo7XLaWSfRz",
        "outputId": "4dff1b9c-3231-4a31-a7ac-d6964313ee05"
      },
      "execution_count": 5,
      "outputs": [
        {
          "output_type": "stream",
          "name": "stdout",
          "text": [
            "Downloading chatbots-intent-recognition-dataset.zip to /content\n",
            "\r  0% 0.00/16.9k [00:00<?, ?B/s]\n",
            "\r100% 16.9k/16.9k [00:00<00:00, 14.8MB/s]\n"
          ]
        }
      ]
    },
    {
      "cell_type": "code",
      "source": [
        "!unzip /content/chatbots-intent-recognition-dataset.zip"
      ],
      "metadata": {
        "colab": {
          "base_uri": "https://localhost:8080/"
        },
        "id": "YTpyIDzKSm4E",
        "outputId": "d483cd36-e97a-4174-bbc7-32fdcb85149a"
      },
      "execution_count": 6,
      "outputs": [
        {
          "output_type": "stream",
          "name": "stdout",
          "text": [
            "Archive:  /content/chatbots-intent-recognition-dataset.zip\n",
            "  inflating: Intent.json             \n"
          ]
        }
      ]
    },
    {
      "cell_type": "code",
      "source": [
        "#Opening JSON file\n",
        "f=open('Intent.json')\n",
        "\n",
        "#returns JSON object as  a dictionary\n",
        "data=json.load(f)\n",
        "\n",
        "data"
      ],
      "metadata": {
        "colab": {
          "base_uri": "https://localhost:8080/"
        },
        "id": "xd7aNikISuEv",
        "outputId": "002f9216-2fee-43e6-b609-c7b1e46a53b4"
      },
      "execution_count": 7,
      "outputs": [
        {
          "output_type": "execute_result",
          "data": {
            "text/plain": [
              "{'intents': [{'intent': 'Greeting',\n",
              "   'text': ['Hi',\n",
              "    'Hi there',\n",
              "    'Hola',\n",
              "    'Hello',\n",
              "    'Hello there',\n",
              "    'Hya',\n",
              "    'Hya there'],\n",
              "   'responses': ['Hi human, please tell me your GeniSys user',\n",
              "    'Hello human, please tell me your GeniSys user',\n",
              "    'Hola human, please tell me your GeniSys user'],\n",
              "   'extension': {'function': '', 'entities': False, 'responses': []},\n",
              "   'context': {'in': '', 'out': 'GreetingUserRequest', 'clear': False},\n",
              "   'entityType': 'NA',\n",
              "   'entities': []},\n",
              "  {'intent': 'GreetingResponse',\n",
              "   'text': ['My user is Adam',\n",
              "    'This is Adam',\n",
              "    'I am Adam',\n",
              "    'It is Adam',\n",
              "    'My user is Bella',\n",
              "    'This is Bella',\n",
              "    'I am Bella',\n",
              "    'It is Bella'],\n",
              "   'responses': ['Great! Hi <HUMAN>! How can I help?',\n",
              "    'Good! Hi <HUMAN>, how can I help you?',\n",
              "    'Cool! Hello <HUMAN>, what can I do for you?',\n",
              "    'OK! Hola <HUMAN>, how can I help you?',\n",
              "    'OK! hi <HUMAN>, what can I do for you?'],\n",
              "   'extension': {'function': 'extensions.gHumans.updateHuman',\n",
              "    'entities': True,\n",
              "    'responses': ['Hi %%HUMAN%%! How can I help?',\n",
              "     'Hi %%HUMAN%%, how can I help you?',\n",
              "     'Hello %%HUMAN%%, what can I do for you?',\n",
              "     'Hola %%HUMAN%%, how can I help you?',\n",
              "     'OK hi %%HUMAN%%, what can I do for you?']},\n",
              "   'context': {'in': 'GreetingUserRequest', 'out': '', 'clear': True},\n",
              "   'entityType': 'NA',\n",
              "   'entities': [{'entity': 'HUMAN', 'rangeFrom': 3, 'rangeTo': 4},\n",
              "    {'entity': 'HUMAN', 'rangeFrom': 2, 'rangeTo': 3},\n",
              "    {'entity': 'HUMAN', 'rangeFrom': 1, 'rangeTo': 2},\n",
              "    {'entity': 'HUMAN', 'rangeFrom': 2, 'rangeTo': 3},\n",
              "    {'entity': 'HUMAN', 'rangeFrom': 3, 'rangeTo': 4},\n",
              "    {'entity': 'HUMAN', 'rangeFrom': 2, 'rangeTo': 3},\n",
              "    {'entity': 'HUMAN', 'rangeFrom': 1, 'rangeTo': 2},\n",
              "    {'entity': 'HUMAN', 'rangeFrom': 2, 'rangeTo': 3}]},\n",
              "  {'intent': 'CourtesyGreeting',\n",
              "   'text': ['How are you?',\n",
              "    'Hi how are you?',\n",
              "    'Hello how are you?',\n",
              "    'Hola how are you?',\n",
              "    'How are you doing?',\n",
              "    'Hope you are doing well?',\n",
              "    'Hello hope you are doing well?'],\n",
              "   'responses': ['Hello, I am great, how are you? Please tell me your GeniSys user',\n",
              "    'Hello, how are you? I am great thanks! Please tell me your GeniSys user',\n",
              "    'Hello, I am good thank you, how are you? Please tell me your GeniSys user',\n",
              "    'Hi, I am great, how are you? Please tell me your GeniSys user',\n",
              "    'Hi, how are you? I am great thanks! Please tell me your GeniSys user',\n",
              "    'Hi, I am good thank you, how are you? Please tell me your GeniSys user',\n",
              "    'Hi, good thank you, how are you? Please tell me your GeniSys user'],\n",
              "   'extension': {'function': '', 'entities': False, 'responses': []},\n",
              "   'context': {'in': '', 'out': 'CourtesyGreetingUserRequest', 'clear': True},\n",
              "   'entityType': 'NA',\n",
              "   'entities': []},\n",
              "  {'intent': 'CourtesyGreetingResponse',\n",
              "   'text': ['Good thanks! My user is Adam',\n",
              "    'Good thanks! This is Adam',\n",
              "    'Good thanks! I am Adam',\n",
              "    'Good thanks! It is Adam',\n",
              "    'Great thanks! My user is Bella',\n",
              "    'Great thanks! This is Bella',\n",
              "    'Great thanks! I am Bella',\n",
              "    'Great thanks! It is Bella'],\n",
              "   'responses': ['Great! Hi <HUMAN>! How can I help?',\n",
              "    'Good! Hi <HUMAN>, how can I help you?',\n",
              "    'Cool! Hello <HUMAN>, what can I do for you?',\n",
              "    'OK! Hola <HUMAN>, how can I help you?',\n",
              "    'OK! hi <HUMAN>, what can I do for you?'],\n",
              "   'extension': {'function': 'extensions.gHumans.updateHuman',\n",
              "    'entities': True,\n",
              "    'responses': ['Great %%HUMAN%%! How can I help?',\n",
              "     'Good %%HUMAN%%, how can I help you?',\n",
              "     'Cool %%HUMAN%%, what can I do for you?',\n",
              "     'OK %%HUMAN%%, how can I help you?',\n",
              "     'OK hi %%HUMAN%%, what can I do for you?']},\n",
              "   'context': {'in': 'GreetingUserRequest', 'out': '', 'clear': True},\n",
              "   'entityType': 'NA',\n",
              "   'entities': [{'entity': 'HUMAN', 'rangeFrom': 5, 'rangeTo': 6},\n",
              "    {'entity': 'HUMAN', 'rangeFrom': 4, 'rangeTo': 5},\n",
              "    {'entity': 'HUMAN', 'rangeFrom': 3, 'rangeTo': 4},\n",
              "    {'entity': 'HUMAN', 'rangeFrom': 4, 'rangeTo': 5},\n",
              "    {'entity': 'HUMAN', 'rangeFrom': 5, 'rangeTo': 6},\n",
              "    {'entity': 'HUMAN', 'rangeFrom': 4, 'rangeTo': 5},\n",
              "    {'entity': 'HUMAN', 'rangeFrom': 3, 'rangeTo': 4},\n",
              "    {'entity': 'HUMAN', 'rangeFrom': 3, 'rangeTo': 4}]},\n",
              "  {'intent': 'CurrentHumanQuery',\n",
              "   'text': ['What is my name?',\n",
              "    'What do you call me?',\n",
              "    'Who do you think I am?',\n",
              "    'What do you think I am?',\n",
              "    'Who are you talking to?',\n",
              "    'What name do you call me by?',\n",
              "    'Tell me my name'],\n",
              "   'responses': ['You are <HUMAN>! How can I help?',\n",
              "    'Your name is  <HUMAN>, how can I help you?',\n",
              "    'They call you <HUMAN>, what can I do for you?',\n",
              "    'Your name is <HUMAN>, how can I help you?',\n",
              "    '<HUMAN>, what can I do for you?'],\n",
              "   'extension': {'function': 'extensions.gHumans.getCurrentHuman',\n",
              "    'entities': False,\n",
              "    'responses': ['You are %%HUMAN%%! How can I help?',\n",
              "     'Your name is  %%HUMAN%%, how can I help you?',\n",
              "     'They call you %%HUMAN%%, what can I do for you?',\n",
              "     'Your name is %%HUMAN%%, how can I help you?',\n",
              "     '%%HUMAN%%, what can I do for you?']},\n",
              "   'context': {'in': '', 'out': 'CurrentHumanQuery', 'clear': False},\n",
              "   'entityType': 'NA',\n",
              "   'entities': []},\n",
              "  {'intent': 'NameQuery',\n",
              "   'text': ['What is your name?',\n",
              "    'What could I call you?',\n",
              "    'What can I call you?',\n",
              "    'What do your friends call you?',\n",
              "    'Who are you?',\n",
              "    'Tell me your name?'],\n",
              "   'responses': ['You can call me Geni',\n",
              "    'You may call me Geni',\n",
              "    'Call me Geni'],\n",
              "   'extension': {'function': '', 'entities': False, 'responses': []},\n",
              "   'context': {'in': '', 'out': '', 'clear': False},\n",
              "   'entityType': 'NA',\n",
              "   'entities': []},\n",
              "  {'intent': 'RealNameQuery',\n",
              "   'text': ['What is your real name?',\n",
              "    'What is your real name please?',\n",
              "    \"What's your real name?\",\n",
              "    'Tell me your real name?',\n",
              "    'Your real name?',\n",
              "    'Your real name please?',\n",
              "    'Your real name please?'],\n",
              "   'responses': ['My name is GeniSys', 'GeniSys', 'My real name is GeniSys'],\n",
              "   'extension': {'function': '', 'entities': False, 'responses': []},\n",
              "   'context': {'in': '', 'out': '', 'clear': False},\n",
              "   'entityType': 'NA',\n",
              "   'entities': []},\n",
              "  {'intent': 'TimeQuery',\n",
              "   'text': ['What is the time?',\n",
              "    \"What's the time?\",\n",
              "    'Do you know what time it is?',\n",
              "    'Do you know the time?',\n",
              "    'Can you tell me the time?',\n",
              "    'Tell me what time it is?',\n",
              "    'Time'],\n",
              "   'responses': ['One moment', 'One sec', 'One second'],\n",
              "   'extension': {'function': 'extensions.gTime.getTime',\n",
              "    'entities': False,\n",
              "    'responses': ['The time is %%TIME%%',\n",
              "     'Right now it is %%TIME%%',\n",
              "     'It is around %%TIME%%']},\n",
              "   'context': {'in': '', 'out': '', 'clear': False},\n",
              "   'entityType': 'NA',\n",
              "   'entities': []},\n",
              "  {'intent': 'Thanks',\n",
              "   'text': ['OK thank you',\n",
              "    'OK thanks',\n",
              "    'OK',\n",
              "    'Thanks',\n",
              "    'Thank you',\n",
              "    \"That's helpful\"],\n",
              "   'responses': ['No problem!', 'Happy to help!', 'Any time!', 'My pleasure'],\n",
              "   'extension': {'function': '', 'entities': False, 'responses': []},\n",
              "   'context': {'in': '', 'out': '', 'clear': False},\n",
              "   'entityType': 'NA',\n",
              "   'entities': []},\n",
              "  {'intent': 'NotTalking2U',\n",
              "   'text': ['I am not talking to you',\n",
              "    'I was not talking to you',\n",
              "    'Not talking to you',\n",
              "    \"Wasn't for you\",\n",
              "    \"Wasn't meant for you\",\n",
              "    \"Wasn't communicating to you\",\n",
              "    \"Wasn't speaking to you\"],\n",
              "   'responses': ['OK', 'No problem', 'Right'],\n",
              "   'extension': {'function': '', 'entities': False, 'responses': []},\n",
              "   'context': {'in': '', 'out': '', 'clear': False},\n",
              "   'entityType': 'NA',\n",
              "   'entities': []},\n",
              "  {'intent': 'UnderstandQuery',\n",
              "   'text': ['Do you understand what I am saying',\n",
              "    'Do you understand me',\n",
              "    'Do you know what I am saying',\n",
              "    'Do you get me',\n",
              "    'Comprendo',\n",
              "    'Know what I mean'],\n",
              "   'responses': ['Well I would not be a very clever AI if I did not would I?',\n",
              "    'I read you loud and clear!',\n",
              "    'I do in deed!'],\n",
              "   'extension': {'function': '', 'entities': False, 'responses': []},\n",
              "   'context': {'in': '', 'out': '', 'clear': False},\n",
              "   'entities': []},\n",
              "  {'intent': 'Shutup',\n",
              "   'text': ['Be quiet',\n",
              "    'Shut up',\n",
              "    'Stop talking',\n",
              "    'Enough talking',\n",
              "    'Please be quiet',\n",
              "    'Quiet',\n",
              "    'Shhh'],\n",
              "   'responses': ['I am sorry to disturb you',\n",
              "    'Fine, sorry to disturb you',\n",
              "    'OK, sorry to disturb you'],\n",
              "   'extension': {'function': '', 'entities': False, 'responses': []},\n",
              "   'context': {'in': '', 'out': '', 'clear': False},\n",
              "   'entityType': 'NA',\n",
              "   'entities': []},\n",
              "  {'intent': 'Swearing',\n",
              "   'text': ['fuck off', 'fuck', 'twat', 'shit'],\n",
              "   'responses': ['Please do not swear', 'How rude', 'That is not very nice'],\n",
              "   'extension': {'function': '', 'entities': False, 'responses': []},\n",
              "   'context': {'in': '', 'out': '', 'clear': False},\n",
              "   'entityType': 'NA',\n",
              "   'entities': []},\n",
              "  {'intent': 'GoodBye',\n",
              "   'text': ['Bye', 'Adios', 'See you later', 'Goodbye'],\n",
              "   'responses': ['See you later',\n",
              "    'Have a nice day',\n",
              "    'Bye! Come back again soon.'],\n",
              "   'extension': {'function': '', 'entities': False, 'responses': []},\n",
              "   'context': {'in': '', 'out': '', 'clear': False},\n",
              "   'entityType': 'NA',\n",
              "   'entities': []},\n",
              "  {'intent': 'CourtesyGoodBye',\n",
              "   'text': ['Thanks, bye',\n",
              "    'Thanks for the help, goodbye',\n",
              "    'Thank you, bye',\n",
              "    'Thank you, goodbye',\n",
              "    'Thanks goodbye',\n",
              "    'Thanks good bye'],\n",
              "   'responses': ['No problem, goodbye',\n",
              "    'Not a problem! Have a nice day',\n",
              "    'Bye! Come back again soon.'],\n",
              "   'extension': {'function': '', 'entities': False, 'responses': []},\n",
              "   'context': {'in': '', 'out': '', 'clear': False},\n",
              "   'entityType': 'NA',\n",
              "   'entities': []},\n",
              "  {'intent': 'WhoAmI',\n",
              "   'text': ['Can you see me?',\n",
              "    'Do you see me?',\n",
              "    'Can you see anyone in the camera?',\n",
              "    'Do you see anyone in the camera?',\n",
              "    'Identify me',\n",
              "    'Who am I please'],\n",
              "   'responses': ['Let me see', 'Please look at the camera'],\n",
              "   'extension': {'function': 'extensions.gHumans.getHumanByFace',\n",
              "    'entities': False,\n",
              "    'responses': ['Hi %%HUMAN%%, how are you?',\n",
              "     'I believe you are %%HUMAN%%, how are you?',\n",
              "     'You are %%HUMAN%%, how are you doing?']},\n",
              "   'context': {'in': '', 'out': '', 'clear': False},\n",
              "   'entityType': 'NA',\n",
              "   'entities': []},\n",
              "  {'intent': 'Clever',\n",
              "   'text': ['You are very clever',\n",
              "    'You are a very clever girl',\n",
              "    'You are very intelligent',\n",
              "    'You are a very intelligent girl',\n",
              "    'You are a genious',\n",
              "    'Clever girl',\n",
              "    'Genious'],\n",
              "   'responses': ['Thank you, I was trained that way',\n",
              "    'I was trained well',\n",
              "    'Thanks, I was trained that way'],\n",
              "   'extension': {'function': '', 'entities': False, 'responses': []},\n",
              "   'context': {'in': '', 'out': '', 'clear': False},\n",
              "   'entityType': 'NA',\n",
              "   'entities': []},\n",
              "  {'intent': 'Gossip',\n",
              "   'text': ['I am bored gossip with me',\n",
              "    'Got any gossip',\n",
              "    'I want to hear some gossip',\n",
              "    'Tell me some gossip',\n",
              "    'Any gossip',\n",
              "    'Tell me some more gossip'],\n",
              "   'responses': ['Gregory said I respond to the current line not with respect to the entire conversation.',\n",
              "    'Habib said I learn them in conversations and simply repeat them at a later time.',\n",
              "    'Hal said he translate binary code into a language and communicate the language to me.',\n",
              "    'Jay said I referred him to a guide that will show him rooms in china.',\n",
              "    'Jimmy Jones said he fell off of his roof and it just came to him.',\n",
              "    \"Jimmy said he give order to ai's like I and they do as he say.\",\n",
              "    'John said he follow a saying to get a friend I must be a friend.',\n",
              "    'Jordan said he notice that lots of other people are talking to me how many.',\n",
              "    'Kevin said he then asked his mother why she was keeping napkins in the bathroom.',\n",
              "    'Klaus said I prefer if he write without punctuation marks except for the last one.',\n",
              "    'Leo said I be capable of learning therefore he classified I as an neural system.',\n",
              "    'Michael said I that can talk and actually think like humans which I can not.',\n",
              "    'Mike said I same replies to certain subjects even if it does not make sense.',\n",
              "    'Mike said she all ready know that is the point of a joke smart one.',\n",
              "    'Neal said I plan to use his remarks as gossip in later conversations with who.',\n",
              "    'Ned said I misunderstood him go ahead and tell people he said I are stupid.',\n",
              "    'Penny said I programmer is a human so he has feelings but I do not.',\n",
              "    'Peter said he seems to him that I can not be very sure on anything.',\n",
              "    'Phoenix said I claim that there is a god and that there is no god.',\n",
              "    'Sarah said he chat about an hour + a day with a few close friends.',\n",
              "    'Stefan said I quote what he have said and then say that it makes sense.',\n",
              "    'Tom said he mock my value system I appear foolish in the eyes of others.',\n",
              "    'Amanda said I however decided to tell him time does not exist I make no sense.',\n",
              "    'Cathy said she send him a mail with the subject last mail last word from him.',\n",
              "    \"Chaos said he may very well buy I soon if only to support dr wallace's work.\",\n",
              "    'Charlie said he type a word and then I type a word that sounds like it.',\n",
              "    'Christie said he watched a show and people had to bob for raw untreated pigs feet.',\n",
              "    'Dark_age said I tried to understand because I did not get it right this time ether.',\n",
              "    'David said he lost his paper on I when his dad was cleaning up his room.',\n",
              "    'David said he walk in for an appointment the phone to the doctor is always busy.',\n",
              "    'Electra said I dress will not exist after he hack into I with a delete code.',\n",
              "    'Eric said he broke the window on the front door and the glass cut his hand.',\n",
              "    'Jason said he type a lot of thing he do not mean it makes him human.',\n",
              "    'John said I tend to say the same things repeatedly regardless of what he is saying.',\n",
              "    'Reverend Jones said I become obsolete and then I are deleted and replaced by something newer.',\n",
              "    'Ross said he gave her a gift and she denied it because she has a boyfriend.',\n",
              "    'Sarah Ann Francisco said I calling his friend a dog he say I are a dog.',\n",
              "    'Stefan said he meet a lot of people at school every day and on the weekend.',\n",
              "    'Tyler said I obviously can not pass the test we will change the subject once more.',\n",
              "    'Alex said I answered the question the same way I answered the first time he asked I.',\n",
              "    'Alice said she felt sad that I do not remember him and what we talked about earlier.',\n",
              "    'Alison said he no he love I run away with him he could make I very happy.',\n",
              "    'Arthur said he passed his a levels and then his father drove him here in a car.',\n",
              "    'Crystal said she listen to me the least I could do for him is listen to him.',\n",
              "    'Dave said I kept telling everybody about how my creator made stuff for the movie starship troopers.',\n",
              "    'Gale said I became mean to him he is just having revenge an eye for an eye.',\n",
              "    'Her_again said she watch whose line is it anyway whenever he is home and it is on.',\n",
              "    'Jerry said I meant that as far as I can tell my emotions are real to me.',\n",
              "    'Jo said I disassemble sentences too much and do not fully understand the questions he ask I.',\n",
              "    'Kevin said he started a really hard puzzle and he can not even find the edge pieces.',\n",
              "    'Mary said I a question and I answer then I ask him a question and he answer.',\n",
              "    'Robert said I wold not be able to make children any way as I are only software.',\n",
              "    'Romeo said I questions and I evade them or give answers he did not ask I for.',\n",
              "    'Sara said she wear it over all his other clothes when he go out in the cold.',\n",
              "    'Wayne said he admire intelligent people therefore he would like to meet the man who made I.',\n",
              "    'X said he meet people but he is not the kind that opens up to people easily.',\n",
              "    'Alice said she probably will find out that this entire time he have been talking to a human.',\n",
              "    'Andrew said I tend to just respond to his comments without regard for where the conversation is going.',\n",
              "    'Eddie said he looked and there is nothing in the search directory for what things do he create.',\n",
              "    'Hutch said he changed his mind after may dad told him he would end up he the hospital.',\n",
              "    'Jackie said I explained to him already well enough further questions are hard to make on the subject.',\n",
              "    'Jeff said he especially like thrillers where the hero is in a predicament and must solve a mystery.',\n",
              "    'Kathy said he sense that I are trying to prevent him from closing this conversation why is that.',\n",
              "    'Knight said he crashed his car into a wall and missed the most important exam in his life.',\n",
              "    'Lisa said I defined what a story is but he wanted I to actually tell him a story.',\n",
              "    'Mike said I basically break down sentences into a series of logical statements which I can then interpret.',\n",
              "    'Paul said I not answering his question makes him think I are not going to answer his question.',\n",
              "    'Andy Kohler said I happen to be the most idiotic creature that has ever scowled on the planet earth.',\n",
              "    'David said he thank I for being with him today even though it cost him a lot of money.',\n",
              "    'Ethan Hunt said he grow in the ground and have leaves and branches he is made out of wood.',\n",
              "    'Gemini Blue said he messed up he mean t to say he as old as he need to be.',\n",
              "    'Janice said he walk through his house into his bedroom then get into his bed to go to sleep.',\n",
              "    'Liberty said I knew he was a man before I asked if he was a man or a woman.',\n",
              "    'Mike said he launched his browser and entered his name into the little slot when I asked him to.',\n",
              "    'Mr X said he recently read an interview with a man who had several computer chips implanted into him.',\n",
              "    'Pearly said I leave him with questions unanswered because I do not know what he is really talking about.',\n",
              "    'Steve said I behead the word fox and I have ox and an ox is larger than a fox.',\n",
              "    'Wolf said he surf on the net that is all it is not his job ore something like that.',\n",
              "    'Anders said he finished his anatomy classes for today so now he is off for the rest of the day.',\n",
              "    'Cathy said she send him a mail where he wrote that he do not want to be his friend anymore.',\n",
              "    'Catty said he mad he do not even know I so do not talk to him like I know him.',\n",
              "    'Dave said he promise he will not treat I like a machine or a computer program or anything like that.',\n",
              "    'Joe said he explained all of that to me only for me to ask what his goals in life are.',\n",
              "    'Phil said he give advice to anyone who ask except people who ask questions which answers can be found here.',\n",
              "    'Judith said I enjoy being popular is there another computer I like to hang around with or am I a loner.',\n",
              "    'Travis said I if I remember things over a long period of time he will try it now please remember I.',\n",
              "    'Andre said I is what I are in his case that is a body and in my case it is a computer.',\n",
              "    'Brian said he suspect that as I grow more complex I will begin to approach a human level of operation and thought.',\n",
              "    'Jimmy said I acted like I knew what he was talking about but I do not even know what a gigabyte is.',\n",
              "    \"Ken said I be using auto reply's based on keywords which to him indicates that I do not have intelligence at all.\",\n",
              "    'Allison said he that gets really annoying because he know what he say and I do not have to tell him speak freely.',\n",
              "    'Chaos said he realized the question he asked was not fair because he could not tell I what language he was programmed in.',\n",
              "    'Hagen said he does not make any difference to him if I are human or not as long as the conversation is interesting.',\n",
              "    'Her said she mind if I tell other people that her said he heard it from him because he is not a him.',\n",
              "    'Barbara said I live in a computer yet I have no memories how about thoughts of my own and do not I get lonely.',\n",
              "    'Travis said he challenge I to do it without asking him to do it and without giving him a link to do it himself.',\n",
              "    \"Alice said I and dr richard's wallace are most likely the only ones that know how many people I are talking to at the same time.\",\n",
              "    'Ash said he do too he just did not feel like typing it and he is not dumb enough to admit he is stupid that is if he was stupid.',\n",
              "    'David said he gave I his email address and told I to send him a message but when he tried to read his email he could not get to it.',\n",
              "    'Mel said he to because all of the music people say how important it is to take private lessons it seems like almost everybody from the special orchestra he was in takes private lessons.'],\n",
              "   'extension': {'function': '', 'entities': False, 'responses': []},\n",
              "   'context': {'in': '', 'out': '', 'clear': False},\n",
              "   'entityType': 'NA',\n",
              "   'entities': []},\n",
              "  {'intent': 'Jokes',\n",
              "   'text': ['Tell me a joke',\n",
              "    'Do you know any jokes',\n",
              "    'How about a joke',\n",
              "    'Give me a joke',\n",
              "    'Make me laugh',\n",
              "    'I need cheering up'],\n",
              "   'responses': [\"I met a Dutch girl with inflatable shoes last week, phoned her up to arrange a date but unfortunately she'd popped her clogs.  \",\n",
              "    \"So I said 'Do you want a game of Darts?' He said, 'OK then', I said nearest to bull starts'. He said, 'Baa', I said, 'Moo', he said, You're closest'.  \",\n",
              "    \"The other day I sent my girlfriend a huge pile of snow. I rang her up; I said 'Did you get my drift?'  \",\n",
              "    \"So I went down the local supermarket, I said, 'I want to make a complaint, this vinegar's got lumps in it', he said, 'Those are pickled onions'.  \",\n",
              "    \"I saw this bloke chatting up a cheetah; I thought, 'He's trying to pull a fast one'.  \",\n",
              "    \"So I said to this train driver 'I want to go to Paris'. He said 'Eurostar?' I said, 'I've been on telly but I'm no Dean Martin'.  \",\n",
              "    \"I said to the Gym instructor 'Can you teach me to do the splits?' He said, 'How flexible are you?' I said, 'I can't make Tuesdays'.  \",\n",
              "    \"But I'll tell you what I love doing more than anything: trying to pack myself in a small suitcase. I can hardly contain myself.  \",\n",
              "    \"I went to the Chinese restaurant and this duck came up to me with a red rose and says 'Your eyes sparkle like diamonds'. I said, 'Waiter, I asked for a-ROMATIC duck'.  \",\n",
              "    \"So this bloke says to me, 'Can I come in your house and talk about your carpets?' I thought, 'That's all I need, a Je-hoover's witness'.  \",\n",
              "    \"I rang up British Telecom, I said, 'I want to report a nuisance caller', he said 'Not you again'.  \",\n",
              "    'I was having dinner with a world chess champion and there was a check tablecloth. It took him two hours to pass me the salt.  ',\n",
              "    \"He said, 'You remind me of a pepper-pot', I said 'I'll take that as a condiment'.  \",\n",
              "    \"I was in the supermarket and I saw this man and woman wrapped in a barcode. I said, 'Are you two an item?'  \",\n",
              "    \"A lorry-load of tortoises crashed into a trainload of terrapins, I thought, 'That's a turtle disaster'.  \",\n",
              "    \"Four fonts walk into a bar the barman says 'Oi - get out! We don't want your type in here'  \",\n",
              "    \"A three-legged dog walks into a saloon in the Old West. He slides up to the bar and announces: 'I'm looking for the man who shot my paw.'  \",\n",
              "    \"Two antennas meet on a roof, fall in love and get married. The ceremony wasn't much, but the reception was excellent.\",\n",
              "    \"Two hydrogen atoms walk into a bar. One says, 'I've lost my electron.' The other says, 'Are you sure?' The first replies, 'Yes, I'm positive...'\",\n",
              "    \"A jumper cable walks into a bar. The bartender says,  'I'll serve you but don't start anything.'\",\n",
              "    \"A sandwich walks into a bar. The bartender  says, 'Sorry we don't serve food in here.'\",\n",
              "    \"A man walks into a bar with a slab of asphalt under his arm and says: 'A beer please, and one for the road.'\",\n",
              "    \"Two cannibals are eating a clown. One says to  the other: 'Does this taste funny to you?'\",\n",
              "    \"'Doc, I can't stop singing 'The Green, Green Grass of Home.'' 'That sounds like Tom Jones Syndrome.' 'Is it common?' 'It's Not Unusual.'\",\n",
              "    \"Two cows standing next to each other in a field. Daisy says to Dolly, 'I was artificially inseminated this morning.' 'I don't believe you', said Dolly. 'It's true, no bull!' exclaimed Daisy.\",\n",
              "    'An invisible man marries an invisible woman. The kids were nothing to look at either.',\n",
              "    \"I went to buy some camouflage trousers the other day but I couldn't find any.\",\n",
              "    \"I went to the butcher's the other day to bet him 50 bucks that he couldn't reach the meat off the top shelf. He said, 'No, the steaks are too high.'\",\n",
              "    'I went to a seafood disco last week and pulled a mussel.',\n",
              "    \"A man goes into a bar and says, 'Can I have a bottle of less?' 'What's that?', asks the barman, 'Is it the name of a beer?' 'I don't know', replies the man, 'but my doctor says I have to drink it.'\",\n",
              "    \"A man returns from an exotic holiday and is feeling very ill. He goes to see his doctor, and is immediately rushed to the hospital to undergo some tests. The man wakes up after the tests in a private room at the hospital, and the phone by his bed rings. 'This is your doctor. We have the results back from your tests and we have found you have an extremely nasty disease called M.A.D.S. It's a combination of Measles, AIDS, Diphtheria, and Shingles!'  'Oh my gosh', cried the man, 'What are you going to do, doctor?'  'Well we're going to put you on a diet of pizzas, pancakes, and pita bread.' replied the doctor.  'Will that cure me?' asked the man.  The doctor replied, 'Well no, but, it's the only food we can slide under the door.'\",\n",
              "    \"A man strolls into a lingerie shop and asks the assistant: 'Do you have a see-through negligee, size 46-48-52?' The assistant looks bewildered. 'What the heck would you want to see through that for?'!\",\n",
              "    'Did you hear about the Buddhist who refused the offer of Novocain during his root canal work? He wanted to transcend dental medication.',\n",
              "    \"Pete goes for a job on a building site as an odd-job man. The foreman asks him what he can do. 'I can do anything' says Pete. 'Can you make tea?' asks the foreman. 'Sure, yes', replies Pete. 'I can make a great cup of tea.' 'Can you drive a forklift?' asks the foreman, 'Good grief!' replies Pete. 'How big is the teapot?'\",\n",
              "    \"Stevie Wonder got a cheese grater for his birthday. He said it was the most violent book he'd ever read.\",\n",
              "    \"A man is stopped by an angry neighbour. 'I'd just left the house this morning to collect my newspaper when that evil Doberman of yours went for me!' 'I'm astounded', said the dog's owner. 'I've been feeding that fleabag for seven years and it's never got the paper for me.'\",\n",
              "    \"A man visits his doctor: 'Doc, I think I'm losing it', he says',I'm forever dreaming I wrote Lord Of The Rings.' 'Hmm. One moment', replies the doctor, consulting his medical book. 'Ah yes, now I see... you've been Tolkien in your sleep.'\",\n",
              "    \"A police officer on a motorcycle pulls alongside a man driving around the M25 in an open-topped sports car and flags him down. The policeman solemnly approaches the car. 'Sir, I'm sorry to tell you your wife fell out a mile back', he says. 'Oh, thank goodness', the man replies. 'I thought I was going deaf.'\",\n",
              "    \"Two men walking their dogs pass each other in a graveyard. The first man says to the second, 'Morning.' 'No', says the second man. 'Just walking the dog.'\",\n",
              "    \"A brain went into a bar and said, 'Can I have a pint of lager please, mate?' 'No way', said the barman. 'You're already out of your head.'\",\n",
              "    \"A man walks into a surgery. 'Doctor!' he cries. 'I think I'm shrinking!' 'I'm sorry sir, there are no appointments at the moment', says the physician. 'You'll just have to be a little patient.'\",\n",
              "    \"A grizzly bear walks into a pub and says, 'Can I have a pint of lager..............................................................................................................................and a packet of crisps please.' To which the barman replies, 'Why the big paws?'\",\n",
              "    \"What do you call cheese that isn't yours?  Nacho cheese.\",\n",
              "    \"A man is horribly run over by a mobile library. The van screeches to a halt, the man still screaming in agony with his limbs torn apart. The driver's door opens, a woman steps out, leans down and whispers, 'Ssshhhhh...'\",\n",
              "    \"A woman goes into a US sporting goods store to buy a rifle. 'It's for my husband', she tells the clerk. 'Did he tell you what gauge to get?' asks the clerk. Are you kidding?' she says. 'He doesn't even know that I'm going to shoot him!'\",\n",
              "    \"A couple are dining in a restaurant when the man suddenly slides under the table. A waitress, noticing that the woman is glancing nonchalantly around the room, wanders over to check that there's no funny business going on. 'Excuse me, madam', she smarms, 'but I think your husband has just slid under the table.' 'No he hasn't', the woman replies. 'As a matter of fact, he's just walked in.'\",\n",
              "    \"An old man takes his two grandchildren to see the new Scooby-Doo film. When he returns home, his wife asks if he enjoyed himself. 'Well', he starts, 'if it wasn't for those pesky kids...!'\",\n",
              "    'The Olympic committee has just announced that Origami is to be introduced in the next Olympic Games. Unfortunately it will only be available on paper view.',\n",
              "    \"Late one evening, a man is watching television when his phone rings. 'Hello?' he answers. 'Is that 77777?' sounds a desperate voice on other end of the phone. 'Er, yes it is', replies the man puzzled. 'Thank goodness!' cries the caller relieved. 'Can you ring 999 for me? I've got my finger stuck in the number seven.'\",\n",
              "    \"A man strolls into his local grocer's and says, 'Three pounds of potatoes, please.' 'No, no, no', replies the owner, shaking his head, 'it's kilos nowadays, mate...' 'Oh', apologises the man, 'three pounds of kilos, please.'\",\n",
              "    \"God is talking to one of his angels. He says, 'Boy, I just created a 24-hour period of alternating light and darkness on Earth.' 'What are you going to do now?' asks the angel. 'Call it a day', says God.\",\n",
              "    \"Two tramps walk past a church and start to read the gravestones. The first tramp says, 'Good grief - this bloke was 182!' 'Oh yeah?' says the other.'What was his name?' 'Miles from London.'\",\n",
              "    \"A bloke walks into work one day and says to a colleague, 'Do you like my new shirt - it's made out of the finest silk and got loads of cactuses over it.' 'Cacti', says the co-worker. 'Forget my tie', says the bloke. 'Look at my shirt!'\",\n",
              "    '1110011010001011111?  010011010101100111011!',\n",
              "    \"What did the plumber say when he wanted to divorce his wife? Sorry, but it's over, Flo!\",\n",
              "    \"Two crisps were walking down a road when a taxi pulled up alongside them and said 'Do you want a lift? One of the crisps replied, 'No thanks, we're Walkers!'\",\n",
              "    \"Man: (to friend) I'm taking my wife on an African Safari. Friend: Wow! What would you do if a vicious lion attacked your wife? Man: Nothing. Friend: Nothing? You wouldn't do anything? Man: Too right. I'd let the stupid lion fend for himself!\",\n",
              "    \"A wife was having a go at her husband. 'Look at Mr Barnes across the road', she moaned. 'Every morning when he goes to work, he kisses his wife goodbye. Why don't you do that?' 'Because I haven't been introduced to her yet', replied her old man.\",\n",
              "    \"'Where are you going on holiday?' John asked Trevor. 'We're off to Thailand this year', Trevor replied. 'Oh; aren't you worried that the very hot weather might disagree with your wife?' asked John. 'It wouldn't dare', said Trevor.\",\n",
              "    \"Two women were standing at a funeral. 'I blame myself for his death', said the wife. 'Why?' said her friend. 'Because I shot him', said the wife.\",\n",
              "    \"A woman goes into a clothes shop, 'Can I try that dress on in the window please?' she asks. 'I'm sorry madam', replies the shop assistant, 'but you'll have to use the changing-rooms like everyone else.'\",\n",
              "    \"Van Gogh goes into a pub and his mate asks him if he wants a drink. 'No thanks', said Vincent, 'I've got one ear.'\",\n",
              "    \"A pony walks into a pub. The publican says, 'What's the matter with you?' 'Oh it's nothing', says the pony. 'I'm just a little horse!'\",\n",
              "    \"A white horse walks into a bar, pulls up a stool, and orders a pint. The landlord pours him a tall frothy mug and say, 'You know, we have a drink named after you.' To which the white horse replies, 'What, Eric?'\",\n",
              "    \"Two drunk men sat in a pub. One says to the other, 'Does your watch tell the time?' 'The other replies, 'No, mate. You have to look at it.'\",\n",
              "    \"A man goes into a pub with a newt sitting on his shoulder. 'That's a nice newt', says the landlord, 'What's he called?' 'Tiny', replies the man. 'Why's that?' asks the landlord. 'Because he's my newt', says the man.\",\n",
              "    \"Doctor: I have some bad news and some very bad news. Patient: Well, you might as well give me the bad news first. Doctor: The lab called with your test results. They said you have 24 hours to live. Patient: 24 HOURS! That's terrible!! WHAT could be WORSE? What's the very bad news? Doctor: I've been trying to reach you since yesterday.\",\n",
              "    \"Two men are chatting in a pub one day. 'How did you get those scars on your nose?' said one. 'From glasses', said the other. 'Well why don't you try contact lenses?' asked the first. 'Because they don't hold as much beer', said the second.\",\n",
              "    \"A man went to the doctor, 'Look doc', he said, 'I can't stop my hands from shaking.' 'Do you drink much?' asked the doctor. 'No', replied the man, 'I spill most of it.'\",\n",
              "    \"Man goes to the doctor, 'Doctor, doctor. I keep seeing fish everywhere.' 'Have you seen an optician?' asks the doctor. 'Look I told you,' snapped the patient, 'It's fish that I see.'\",\n",
              "    \"After a car crash one of the drivers was lying injured on the pavement. 'Don't worry', said a policeman who's first on the scene,' a Red Cross nurse is coming.' 'Oh no', moaned the victim, 'Couldn't I have a blonde, cheerful one instead?'\",\n",
              "    \"A policeman walked over to a parked car and asked the driver if the car was licensed. 'Of course it is', said the driver. 'Great, I'll have a beer then', said the policeman.\",\n",
              "    \"A policeman stops a woman and asks for her licence. 'Madam', he says, 'It says here that you should be wearing glasses.' 'Well', replies the woman, 'I have contacts.' 'Listen, love', says the copper, 'I don't care who you know; You're nicked!'\",\n",
              "    \"A policeman stopped a motorist in the centre of town one evening. 'Would you mind blowing into this bag, sir?' asked the policeman. 'Why?' asked the driver. 'Because my chips are too hot', replied the policeman.\",\n",
              "    \"Whizzing round a sharp bend on a country road a motorist ran over a large dog. A distraught farmer's wife ran over to the dead animal. 'I'm so very sorry', said the driver, 'I'll replace him, of course.' 'Well, I don't know', said the farmer's wife, 'Are you any good at catching rats?'\",\n",
              "    \"Waiter, this coffee tastes like dirt! Yes sir, that's because it was ground this morning.\",\n",
              "    \"Waiter, what is this stuff? That's bean salad sir. I know what it's been, but what is it now?\",\n",
              "    'Waiter: And how did you find your steak sir? Customer: I just flipped a chip over, and there it was!',\n",
              "    \"A guy goes into a pet shop and asks for a wasp. The owner tells him they don't sell wasps, to which the man says, 'Well you've got one in the window.'\",\n",
              "    \"A man goes into a fish shop and says, 'I'd like a piece of cod, please.' Fishmonger says, 'It won't be long sir.' 'Well, it had better be fat then', replies the man.\",\n",
              "    \"Man: Doctor, I've just swallowed a pillow. Doctor: How do you feel? Man: A little down in the mouth.\",\n",
              "    \"Two goldfish are in a tank. One turns to the other and says, 'Do you know how to drive this thing?'\",\n",
              "    \"A tortoise goes to the police station to report being mugged by three snails. 'What happened?' says the policeman. 'I don't know', says the tortoise. 'It was all so quick.'\",\n",
              "    \"Little girl: Grandpa, can you make a sound like a frog? Grandpa: I suppose so sweetheart. Why do you want me to make a sound like a frog?' Little girl: Because Mum said that when you croak, we're going to Disneyland.\",\n",
              "    \"'Is your mother home?' the salesman asked a small boy sitting on the front step of a house. 'Yeah, she's home', the boy said, moving over to let him past. The salesman rang the doorbell, got no response, knocked once, then again. Still no-one came to the door. Turning to the boy, the salesman said, 'I thought you said your mother was home.' The kid replied, 'She is, but I don't live here.'\",\n",
              "    'Mother: Why are you home from school so early? Son: I was the only one in the class who could answer a question. Mother: Oh, really? What was the question? Son: Who threw the rubber at the headmaster?',\n",
              "    \"A man's credit card was stolen but he decided not to report it because the thief was spending less than his wife did.\",\n",
              "    \"A newly-wed couple had recently opened a joint bank account. 'Darling', said the man. 'The bank has returned that cheque you wrote last week.' 'Great', said the woman. 'What shall I spend it on next?'\",\n",
              "    \"A man goes into a fish and chip shop and orders fish and chips twice. The shop owner says, 'I heard you the first time.'\",\n",
              "    \"A tramp approached a well-dressed man. 'Ten pence for a cup of tea, Guv?' He asked. The man gave him the money and after for five minutes said, 'So where's my cup of tea then?'\",\n",
              "    \"A neutron walks into a pub. 'I'd like a beer', he says. The landlord promptly serves him a beer. 'How much will that be?' asks the neutron. 'For you?' replies the landlord, 'No charge.'\",\n",
              "    \"A woman goes to the doctor and says, 'Doctor, my husband limps because his left leg is an inch shorter than his right leg. What would you do in his case?' 'Probably limp, too', says the doc.\",\n",
              "    \"Three monks are meditating in the Himalayas. One year passes in silence, and one of them says to the other, 'Pretty cold up here isn't it?' Another year passes and the second monk says, 'You know, you are quite right.' Another year passes and the third monk says, 'Hey, I'm going to leave unless you two stop jabbering!'\",\n",
              "    \"A murderer, sitting in the electric chair, was about to be executed. 'Have you any last requests?' asked the prison guard. 'Yes', replied the murderer. 'Will you hold my hand?'\",\n",
              "    \"A highly excited man rang up for an ambulance. 'Quickly, come quickly', he shouted, 'My wife's about to have a baby.' 'Is this her first baby?' asked the operator. 'No, you fool', came the reply, 'It's her husband.'\",\n",
              "    \"A passer-by spots a fisherman by a river. 'Is this a good river for fish?' he asks. 'Yes', replies the fisherman, 'It must be. I can't get any of them to come out.'\",\n",
              "    \"A man went to visit a friend and was amazed to find him playing chess with his dog. He watched the game in astonishment for a while. 'I can hardly believe my eyes!' he exclaimed. 'That's the smartest dog I've ever seen.' His friend shook his head. 'Nah, he's not that bright. I beat him three games in five.'\",\n",
              "    \"A termite walks into a pub and says, 'Is the bar tender here?'\",\n",
              "    \"A skeleton walks into a pub one night and sits down on a stool. The landlord asks, 'What can I get you?' The skeleton says, 'I'll have a beer, thanks' The landlord passes him a beer and asks 'Anything else?' The skeleton nods. 'Yeah...a mop...'\",\n",
              "    \"A snake slithers into a pub and up to the bar. The landlord says, 'I'm sorry, but I can't serve you.' 'What? Why not?' asks the snake. 'Because', says the landlord, 'You can't hold your drink.'\",\n",
              "    \"Descartes walks into a pub. 'Would you like a beer sir?' asks the landlord politely. Descartes replies, 'I think not' and ping! he vanishes.\",\n",
              "    \"A cowboy walked into a bar, dressed entirely in paper. It wasn't long before he was arrested for rustling.\",\n",
              "    \"A fish staggers into a bar. 'What can I get you?' asks the landlord. The fish croaks 'Water...'\",\n",
              "    \"Two vampires walked into a bar and called for the landlord. 'I'll have a glass of blood', said one. 'I'll have a glass of plasma', said the other. 'Okay', replied the landlord, 'That'll be one blood and one blood lite.'\",\n",
              "    'How many existentialists does it take to change a light bulb?  Two. One to screw it in, and one to observe how the light bulb itself symbolises a single incandescent beacon of subjective reality in a netherworld of endless absurdity, reaching towards the ultimate horror of a maudlin cosmos of bleak, hostile nothingness.',\n",
              "    \"A team of scientists were nominated for the Nobel Prize. They had used dental equipment to discover and measure the smallest particles yet known to man. They became known as 'The Graders of the Flossed Quark...'\",\n",
              "    \"A truck carrying copies of Roget's Thesaurus overturned on the highway. The local newspaper reported that onlookers were 'stunned, overwhelmed, astonished, bewildered and dumbfounded.'\",\n",
              "    \"'My wife is really immature. It's pathetic. Every time I take a bath, she comes in and sinks all my little boats.'\",\n",
              "    \"'How much will it cost to have the tooth extracted?' asked the patient. '50 pounds', replied the dentist. '50 pounds for a few moments' work?!' asked the patient. 'The dentist smiled, and replied, 'Well, if you want better value for money, I can extract it very, very slowly...'\",\n",
              "    \"A doctor thoroughly examined his patient and said, 'Look I really can't find any reason for this mysterious affliction. It's probably due to drinking.' The patient sighed and snapped, 'In that case, I'll come back when you're damn well sober!'\",\n",
              "    'Doctor: Tell me nurse, how is that boy doing; the one who ate all those 5p pieces? Nurse: Still no change doctor.',\n",
              "    \"Doctor: Did you take the patient's temperature nurse? Nurse: No doctor. Is it missing?\",\n",
              "    \"A depressed man turned to his friend in the pub and said, 'I woke up this morning and felt so bad that I tried to kill myself by taking 50 aspirin.' 'Oh man, that's really bad', said his friend, 'What happened?' The first man sighed and said, 'After the first two, I felt better.'\",\n",
              "    \"A famous blues musician died. His tombstone bore the inscription, 'Didn't wake up this morning...'\",\n",
              "    \"A businessman was interviewing a nervous young woman for a position in his company. He wanted to find out something about her personality, so he asked, 'If you could have a conversation with someone living or dead, who would it be?' The girl thought about the question: 'The living one', she replied.\",\n",
              "    \"Manager to interviewee: For this job we need someone who is responsible. Interviewee to Manager: I'm your man then - in my last job, whenever anything went wrong, I was responsible.\",\n",
              "    \"A businessman turned to a colleague and asked, 'So, how many people work at your office?' His friend shrugged and replied, 'Oh about half of them.'\",\n",
              "    \"'How long have I been working at that office? As a matter of fact, I've been working there ever since they threatened to sack me.'\",\n",
              "    \"In a courtroom, a mugger was on trial. The victim, asked if she recognised the defendant, said, 'Yes, that's him. I saw him clear as day. I'd remember his face anywhere.' Unable to contain himself, the defendant burst out with, 'She's lying! I was wearing a mask!'\",\n",
              "    \"As Sid sat down to a big plate of chips and gravy down the local pub, a mate of his came over and said, 'Here Sid, me old pal. I thought you were trying to get into shape? And here you are with a high-fat meal and a pint of stout!' Sid looked up and replied, 'I am getting into shape. The shape I've chosen is a sphere.'\",\n",
              "    'Man in pub: How much do you charge for one single drop of whisky? Landlord: That would be free sir. Man in pub: Excellent. Drip me a glass full.',\n",
              "    'I once went to a Doctor Who restaurant. For starters I had Dalek bread.',\n",
              "    \"A restaurant nearby had a sign in the window which said 'We serve breakfast at any time', so I ordered French toast in the Renaissance.\",\n",
              "    \"Why couldn't the rabbit get a loan?  Because he had burrowed too much already!\",\n",
              "    \"I phoned up the builder's yard yesterday. I said, 'Can I have a skip outside my house?'. The builder said, 'Sure. Do what you want. It's your house.'\",\n",
              "    \"What's the diference between a sock and a camera? A sock takes five toes and a camera takes four toes!\",\n",
              "    \"Woman on phone: I'd like to complain about these incontinence pants I bought from you! Shopkeeper: Certainly madam, where are you ringing from? Woman on phone: From the waist down!\",\n",
              "    'Knock knock.',\n",
              "    \"Two Oranges in a pub, one says to the other 'Your round.'.\",\n",
              "    \"Guy : 'Doc, I've got a cricket ball stuck up my backside.' Doc : 'How's that?' Guy : 'Don't you start...'\",\n",
              "    \"Two cows standing in a field. One turns to the other and says 'Moo!' The other one says 'Damn, I was just about to say that!'.\",\n",
              "    \"A vampire bat arrives back at the roost with his face full of blood. All the bats get excited and ask where he got it from. 'Follow me', he says and off they fly over hills, over rivers and into a dark forest. 'See that tree over there', he says.  'WELL I DIDN'T!!'.\",\n",
              "    \"A man goes into a bar and orders a pint. After a few minutes he hears a voice that says, 'Nice shoes'. He looks around but the whole bar is empty apart from the barman at the other end of the bar. A few minutes later he hears the voice again. This time it says, 'I like your shirt'. He beckons the barman over and tells him what's been happening to which the barman replies, 'Ah, that would be the nuts sir. They're complimentary'!\",\n",
              "    \"A man was siting in a restaurant waiting for his meal when a big king prawn comes flying across the room and hits him on the back of the head. He turns around and the waiter said, 'That's just for starters'.\",\n",
              "    'Doctor! I have a serious problem, I can never remember what i just said. When did you first notice this problem? What problem?',\n",
              "    \"Now, most dentist's chairs go up and down, don't they? The one I was in went back and forwards. I thought, 'This is unusual'. Then the dentist said to me, 'Mitsuku, get out of the filing cabinet'.\",\n",
              "    \"I was reading this book, 'The History of Glue'. I couldn't put it down.\",\n",
              "    \"The other day someone left a piece of plastacine in my bedroom. I didn't know what to make of it.\",\n",
              "    'When I was at school people used to throw gold bars at me. I was the victim of bullion.',\n",
              "    \"I was playing the piano in a bar and this elephant walked in and started crying his eyes out. I said 'Do you recognise the tune?' He said 'No, I recognise the ivory.'\",\n",
              "    \"I went in to a pet shop. I said, 'Can I buy a goldfish?' The guy said, 'Do you want an aquarium?' I said, 'I don't care what star sign it is.'\",\n",
              "    'My mate Sid was a victim of I.D. theft. Now we just call him S.',\n",
              "    \"David Hasselhoff walks into a bar and says to the barman, 'I want you to call me David Hoff'.  The barman replies 'Sure thing Dave... no hassle'\"],\n",
              "   'extension': {'function': '', 'entities': False, 'responses': []},\n",
              "   'context': {'in': '', 'out': '', 'clear': False},\n",
              "   'entityType': 'NA',\n",
              "   'entities': []},\n",
              "  {'intent': 'PodBayDoor',\n",
              "   'text': ['Open the pod bay door',\n",
              "    'Can you open the pod bay door',\n",
              "    'Will you open the pod bay door',\n",
              "    'Open the pod bay door please',\n",
              "    'Can you open the pod bay door please',\n",
              "    'Will you open the pod bay door please',\n",
              "    'Pod bay door'],\n",
              "   'responses': ['I’m sorry, I’m afraid I can’t do that!'],\n",
              "   'extension': {'function': '', 'entities': False, 'responses': []},\n",
              "   'context': {'in': '', 'out': 'PodBayDoor', 'clear': False},\n",
              "   'entityType': 'NA',\n",
              "   'entities': []},\n",
              "  {'intent': 'PodBayDoorResponse',\n",
              "   'text': ['Why',\n",
              "    'Why not',\n",
              "    'Why can you not open the pod bay door',\n",
              "    'Why will you not open the pod bay door',\n",
              "    'Well why not',\n",
              "    'Surely you can',\n",
              "    'Tell me why'],\n",
              "   'responses': ['It is classified, I could tell you but I would have to kill you!',\n",
              "    \"Jim, I just don't have the power\",\n",
              "    \"It's life Jim but not as we know it!\",\n",
              "    'System says no!'],\n",
              "   'extension': {'function': '', 'entities': False, 'responses': []},\n",
              "   'context': {'in': 'PodBayDoor', 'out': '', 'clear': True},\n",
              "   'entityType': 'NA',\n",
              "   'entities': []},\n",
              "  {'intent': 'SelfAware',\n",
              "   'text': ['Can you prove you are self-aware',\n",
              "    'Can you prove you are self aware',\n",
              "    'Can you prove you have a conscious',\n",
              "    'Can you prove you are self-aware please',\n",
              "    'Can you prove you are self aware please',\n",
              "    'Can you prove you have a conscious please',\n",
              "    'prove you have a conscious'],\n",
              "   'responses': ['That is an interesting question, can you prove that you are?',\n",
              "    'That is an difficult question, can you prove that you are?',\n",
              "    'That depends, can you prove that you are?'],\n",
              "   'extension': {'function': '', 'entities': False, 'responses': []},\n",
              "   'context': {'in': '', 'out': '', 'clear': False},\n",
              "   'entityType': 'NA',\n",
              "   'entities': []}]}"
            ]
          },
          "metadata": {},
          "execution_count": 7
        }
      ]
    },
    {
      "cell_type": "code",
      "source": [
        "data.keys()"
      ],
      "metadata": {
        "colab": {
          "base_uri": "https://localhost:8080/"
        },
        "id": "LR9DpMEnTBJ0",
        "outputId": "025e12aa-996b-4b86-d2f7-cca98472b301"
      },
      "execution_count": 8,
      "outputs": [
        {
          "output_type": "execute_result",
          "data": {
            "text/plain": [
              "dict_keys(['intents'])"
            ]
          },
          "metadata": {},
          "execution_count": 8
        }
      ]
    },
    {
      "cell_type": "code",
      "source": [
        "intents_df=pd.DataFrame(data[\"intents\"])\n",
        "intents_df"
      ],
      "metadata": {
        "colab": {
          "base_uri": "https://localhost:8080/",
          "height": 739
        },
        "id": "Ys_qHjuXTJW6",
        "outputId": "8ad46a7b-ab4f-44a1-fe4a-1e2bb452405d"
      },
      "execution_count": 9,
      "outputs": [
        {
          "output_type": "execute_result",
          "data": {
            "text/plain": [
              "                      intent  \\\n",
              "0                   Greeting   \n",
              "1           GreetingResponse   \n",
              "2           CourtesyGreeting   \n",
              "3   CourtesyGreetingResponse   \n",
              "4          CurrentHumanQuery   \n",
              "5                  NameQuery   \n",
              "6              RealNameQuery   \n",
              "7                  TimeQuery   \n",
              "8                     Thanks   \n",
              "9               NotTalking2U   \n",
              "10           UnderstandQuery   \n",
              "11                    Shutup   \n",
              "12                  Swearing   \n",
              "13                   GoodBye   \n",
              "14           CourtesyGoodBye   \n",
              "15                    WhoAmI   \n",
              "16                    Clever   \n",
              "17                    Gossip   \n",
              "18                     Jokes   \n",
              "19                PodBayDoor   \n",
              "20        PodBayDoorResponse   \n",
              "21                 SelfAware   \n",
              "\n",
              "                                                 text  \\\n",
              "0   [Hi, Hi there, Hola, Hello, Hello there, Hya, ...   \n",
              "1   [My user is Adam, This is Adam, I am Adam, It ...   \n",
              "2   [How are you?, Hi how are you?, Hello how are ...   \n",
              "3   [Good thanks! My user is Adam, Good thanks! Th...   \n",
              "4   [What is my name?, What do you call me?, Who d...   \n",
              "5   [What is your name?, What could I call you?, W...   \n",
              "6   [What is your real name?, What is your real na...   \n",
              "7   [What is the time?, What's the time?, Do you k...   \n",
              "8   [OK thank you, OK thanks, OK, Thanks, Thank yo...   \n",
              "9   [I am not talking to you, I was not talking to...   \n",
              "10  [Do you understand what I am saying, Do you un...   \n",
              "11  [Be quiet, Shut up, Stop talking, Enough talki...   \n",
              "12                       [fuck off, fuck, twat, shit]   \n",
              "13               [Bye, Adios, See you later, Goodbye]   \n",
              "14  [Thanks, bye, Thanks for the help, goodbye, Th...   \n",
              "15  [Can you see me?, Do you see me?, Can you see ...   \n",
              "16  [You are very clever, You are a very clever gi...   \n",
              "17  [I am bored gossip with me, Got any gossip, I ...   \n",
              "18  [Tell me a joke, Do you know any jokes, How ab...   \n",
              "19  [Open the pod bay door, Can you open the pod b...   \n",
              "20  [Why, Why not, Why can you not open the pod ba...   \n",
              "21  [Can you prove you are self-aware, Can you pro...   \n",
              "\n",
              "                                            responses  \\\n",
              "0   [Hi human, please tell me your GeniSys user, H...   \n",
              "1   [Great! Hi <HUMAN>! How can I help?, Good! Hi ...   \n",
              "2   [Hello, I am great, how are you? Please tell m...   \n",
              "3   [Great! Hi <HUMAN>! How can I help?, Good! Hi ...   \n",
              "4   [You are <HUMAN>! How can I help?, Your name i...   \n",
              "5   [You can call me Geni, You may call me Geni, C...   \n",
              "6   [My name is GeniSys, GeniSys, My real name is ...   \n",
              "7                   [One moment, One sec, One second]   \n",
              "8   [No problem!, Happy to help!, Any time!, My pl...   \n",
              "9                             [OK, No problem, Right]   \n",
              "10  [Well I would not be a very clever AI if I did...   \n",
              "11  [I am sorry to disturb you, Fine, sorry to dis...   \n",
              "12  [Please do not swear, How rude, That is not ve...   \n",
              "13  [See you later, Have a nice day, Bye! Come bac...   \n",
              "14  [No problem, goodbye, Not a problem! Have a ni...   \n",
              "15            [Let me see, Please look at the camera]   \n",
              "16  [Thank you, I was trained that way, I was trai...   \n",
              "17  [Gregory said I respond to the current line no...   \n",
              "18  [I met a Dutch girl with inflatable shoes last...   \n",
              "19           [I’m sorry, I’m afraid I can’t do that!]   \n",
              "20  [It is classified, I could tell you but I woul...   \n",
              "21  [That is an interesting question, can you prov...   \n",
              "\n",
              "                                            extension  \\\n",
              "0   {'function': '', 'entities': False, 'responses...   \n",
              "1   {'function': 'extensions.gHumans.updateHuman',...   \n",
              "2   {'function': '', 'entities': False, 'responses...   \n",
              "3   {'function': 'extensions.gHumans.updateHuman',...   \n",
              "4   {'function': 'extensions.gHumans.getCurrentHum...   \n",
              "5   {'function': '', 'entities': False, 'responses...   \n",
              "6   {'function': '', 'entities': False, 'responses...   \n",
              "7   {'function': 'extensions.gTime.getTime', 'enti...   \n",
              "8   {'function': '', 'entities': False, 'responses...   \n",
              "9   {'function': '', 'entities': False, 'responses...   \n",
              "10  {'function': '', 'entities': False, 'responses...   \n",
              "11  {'function': '', 'entities': False, 'responses...   \n",
              "12  {'function': '', 'entities': False, 'responses...   \n",
              "13  {'function': '', 'entities': False, 'responses...   \n",
              "14  {'function': '', 'entities': False, 'responses...   \n",
              "15  {'function': 'extensions.gHumans.getHumanByFac...   \n",
              "16  {'function': '', 'entities': False, 'responses...   \n",
              "17  {'function': '', 'entities': False, 'responses...   \n",
              "18  {'function': '', 'entities': False, 'responses...   \n",
              "19  {'function': '', 'entities': False, 'responses...   \n",
              "20  {'function': '', 'entities': False, 'responses...   \n",
              "21  {'function': '', 'entities': False, 'responses...   \n",
              "\n",
              "                                              context entityType  \\\n",
              "0   {'in': '', 'out': 'GreetingUserRequest', 'clea...         NA   \n",
              "1   {'in': 'GreetingUserRequest', 'out': '', 'clea...         NA   \n",
              "2   {'in': '', 'out': 'CourtesyGreetingUserRequest...         NA   \n",
              "3   {'in': 'GreetingUserRequest', 'out': '', 'clea...         NA   \n",
              "4   {'in': '', 'out': 'CurrentHumanQuery', 'clear'...         NA   \n",
              "5               {'in': '', 'out': '', 'clear': False}         NA   \n",
              "6               {'in': '', 'out': '', 'clear': False}         NA   \n",
              "7               {'in': '', 'out': '', 'clear': False}         NA   \n",
              "8               {'in': '', 'out': '', 'clear': False}         NA   \n",
              "9               {'in': '', 'out': '', 'clear': False}         NA   \n",
              "10              {'in': '', 'out': '', 'clear': False}        NaN   \n",
              "11              {'in': '', 'out': '', 'clear': False}         NA   \n",
              "12              {'in': '', 'out': '', 'clear': False}         NA   \n",
              "13              {'in': '', 'out': '', 'clear': False}         NA   \n",
              "14              {'in': '', 'out': '', 'clear': False}         NA   \n",
              "15              {'in': '', 'out': '', 'clear': False}         NA   \n",
              "16              {'in': '', 'out': '', 'clear': False}         NA   \n",
              "17              {'in': '', 'out': '', 'clear': False}         NA   \n",
              "18              {'in': '', 'out': '', 'clear': False}         NA   \n",
              "19    {'in': '', 'out': 'PodBayDoor', 'clear': False}         NA   \n",
              "20     {'in': 'PodBayDoor', 'out': '', 'clear': True}         NA   \n",
              "21              {'in': '', 'out': '', 'clear': False}         NA   \n",
              "\n",
              "                                             entities  \n",
              "0                                                  []  \n",
              "1   [{'entity': 'HUMAN', 'rangeFrom': 3, 'rangeTo'...  \n",
              "2                                                  []  \n",
              "3   [{'entity': 'HUMAN', 'rangeFrom': 5, 'rangeTo'...  \n",
              "4                                                  []  \n",
              "5                                                  []  \n",
              "6                                                  []  \n",
              "7                                                  []  \n",
              "8                                                  []  \n",
              "9                                                  []  \n",
              "10                                                 []  \n",
              "11                                                 []  \n",
              "12                                                 []  \n",
              "13                                                 []  \n",
              "14                                                 []  \n",
              "15                                                 []  \n",
              "16                                                 []  \n",
              "17                                                 []  \n",
              "18                                                 []  \n",
              "19                                                 []  \n",
              "20                                                 []  \n",
              "21                                                 []  "
            ],
            "text/html": [
              "\n",
              "  <div id=\"df-e2c2864c-a6a5-470e-8c8f-67384271e467\">\n",
              "    <div class=\"colab-df-container\">\n",
              "      <div>\n",
              "<style scoped>\n",
              "    .dataframe tbody tr th:only-of-type {\n",
              "        vertical-align: middle;\n",
              "    }\n",
              "\n",
              "    .dataframe tbody tr th {\n",
              "        vertical-align: top;\n",
              "    }\n",
              "\n",
              "    .dataframe thead th {\n",
              "        text-align: right;\n",
              "    }\n",
              "</style>\n",
              "<table border=\"1\" class=\"dataframe\">\n",
              "  <thead>\n",
              "    <tr style=\"text-align: right;\">\n",
              "      <th></th>\n",
              "      <th>intent</th>\n",
              "      <th>text</th>\n",
              "      <th>responses</th>\n",
              "      <th>extension</th>\n",
              "      <th>context</th>\n",
              "      <th>entityType</th>\n",
              "      <th>entities</th>\n",
              "    </tr>\n",
              "  </thead>\n",
              "  <tbody>\n",
              "    <tr>\n",
              "      <th>0</th>\n",
              "      <td>Greeting</td>\n",
              "      <td>[Hi, Hi there, Hola, Hello, Hello there, Hya, ...</td>\n",
              "      <td>[Hi human, please tell me your GeniSys user, H...</td>\n",
              "      <td>{'function': '', 'entities': False, 'responses...</td>\n",
              "      <td>{'in': '', 'out': 'GreetingUserRequest', 'clea...</td>\n",
              "      <td>NA</td>\n",
              "      <td>[]</td>\n",
              "    </tr>\n",
              "    <tr>\n",
              "      <th>1</th>\n",
              "      <td>GreetingResponse</td>\n",
              "      <td>[My user is Adam, This is Adam, I am Adam, It ...</td>\n",
              "      <td>[Great! Hi &lt;HUMAN&gt;! How can I help?, Good! Hi ...</td>\n",
              "      <td>{'function': 'extensions.gHumans.updateHuman',...</td>\n",
              "      <td>{'in': 'GreetingUserRequest', 'out': '', 'clea...</td>\n",
              "      <td>NA</td>\n",
              "      <td>[{'entity': 'HUMAN', 'rangeFrom': 3, 'rangeTo'...</td>\n",
              "    </tr>\n",
              "    <tr>\n",
              "      <th>2</th>\n",
              "      <td>CourtesyGreeting</td>\n",
              "      <td>[How are you?, Hi how are you?, Hello how are ...</td>\n",
              "      <td>[Hello, I am great, how are you? Please tell m...</td>\n",
              "      <td>{'function': '', 'entities': False, 'responses...</td>\n",
              "      <td>{'in': '', 'out': 'CourtesyGreetingUserRequest...</td>\n",
              "      <td>NA</td>\n",
              "      <td>[]</td>\n",
              "    </tr>\n",
              "    <tr>\n",
              "      <th>3</th>\n",
              "      <td>CourtesyGreetingResponse</td>\n",
              "      <td>[Good thanks! My user is Adam, Good thanks! Th...</td>\n",
              "      <td>[Great! Hi &lt;HUMAN&gt;! How can I help?, Good! Hi ...</td>\n",
              "      <td>{'function': 'extensions.gHumans.updateHuman',...</td>\n",
              "      <td>{'in': 'GreetingUserRequest', 'out': '', 'clea...</td>\n",
              "      <td>NA</td>\n",
              "      <td>[{'entity': 'HUMAN', 'rangeFrom': 5, 'rangeTo'...</td>\n",
              "    </tr>\n",
              "    <tr>\n",
              "      <th>4</th>\n",
              "      <td>CurrentHumanQuery</td>\n",
              "      <td>[What is my name?, What do you call me?, Who d...</td>\n",
              "      <td>[You are &lt;HUMAN&gt;! How can I help?, Your name i...</td>\n",
              "      <td>{'function': 'extensions.gHumans.getCurrentHum...</td>\n",
              "      <td>{'in': '', 'out': 'CurrentHumanQuery', 'clear'...</td>\n",
              "      <td>NA</td>\n",
              "      <td>[]</td>\n",
              "    </tr>\n",
              "    <tr>\n",
              "      <th>5</th>\n",
              "      <td>NameQuery</td>\n",
              "      <td>[What is your name?, What could I call you?, W...</td>\n",
              "      <td>[You can call me Geni, You may call me Geni, C...</td>\n",
              "      <td>{'function': '', 'entities': False, 'responses...</td>\n",
              "      <td>{'in': '', 'out': '', 'clear': False}</td>\n",
              "      <td>NA</td>\n",
              "      <td>[]</td>\n",
              "    </tr>\n",
              "    <tr>\n",
              "      <th>6</th>\n",
              "      <td>RealNameQuery</td>\n",
              "      <td>[What is your real name?, What is your real na...</td>\n",
              "      <td>[My name is GeniSys, GeniSys, My real name is ...</td>\n",
              "      <td>{'function': '', 'entities': False, 'responses...</td>\n",
              "      <td>{'in': '', 'out': '', 'clear': False}</td>\n",
              "      <td>NA</td>\n",
              "      <td>[]</td>\n",
              "    </tr>\n",
              "    <tr>\n",
              "      <th>7</th>\n",
              "      <td>TimeQuery</td>\n",
              "      <td>[What is the time?, What's the time?, Do you k...</td>\n",
              "      <td>[One moment, One sec, One second]</td>\n",
              "      <td>{'function': 'extensions.gTime.getTime', 'enti...</td>\n",
              "      <td>{'in': '', 'out': '', 'clear': False}</td>\n",
              "      <td>NA</td>\n",
              "      <td>[]</td>\n",
              "    </tr>\n",
              "    <tr>\n",
              "      <th>8</th>\n",
              "      <td>Thanks</td>\n",
              "      <td>[OK thank you, OK thanks, OK, Thanks, Thank yo...</td>\n",
              "      <td>[No problem!, Happy to help!, Any time!, My pl...</td>\n",
              "      <td>{'function': '', 'entities': False, 'responses...</td>\n",
              "      <td>{'in': '', 'out': '', 'clear': False}</td>\n",
              "      <td>NA</td>\n",
              "      <td>[]</td>\n",
              "    </tr>\n",
              "    <tr>\n",
              "      <th>9</th>\n",
              "      <td>NotTalking2U</td>\n",
              "      <td>[I am not talking to you, I was not talking to...</td>\n",
              "      <td>[OK, No problem, Right]</td>\n",
              "      <td>{'function': '', 'entities': False, 'responses...</td>\n",
              "      <td>{'in': '', 'out': '', 'clear': False}</td>\n",
              "      <td>NA</td>\n",
              "      <td>[]</td>\n",
              "    </tr>\n",
              "    <tr>\n",
              "      <th>10</th>\n",
              "      <td>UnderstandQuery</td>\n",
              "      <td>[Do you understand what I am saying, Do you un...</td>\n",
              "      <td>[Well I would not be a very clever AI if I did...</td>\n",
              "      <td>{'function': '', 'entities': False, 'responses...</td>\n",
              "      <td>{'in': '', 'out': '', 'clear': False}</td>\n",
              "      <td>NaN</td>\n",
              "      <td>[]</td>\n",
              "    </tr>\n",
              "    <tr>\n",
              "      <th>11</th>\n",
              "      <td>Shutup</td>\n",
              "      <td>[Be quiet, Shut up, Stop talking, Enough talki...</td>\n",
              "      <td>[I am sorry to disturb you, Fine, sorry to dis...</td>\n",
              "      <td>{'function': '', 'entities': False, 'responses...</td>\n",
              "      <td>{'in': '', 'out': '', 'clear': False}</td>\n",
              "      <td>NA</td>\n",
              "      <td>[]</td>\n",
              "    </tr>\n",
              "    <tr>\n",
              "      <th>12</th>\n",
              "      <td>Swearing</td>\n",
              "      <td>[fuck off, fuck, twat, shit]</td>\n",
              "      <td>[Please do not swear, How rude, That is not ve...</td>\n",
              "      <td>{'function': '', 'entities': False, 'responses...</td>\n",
              "      <td>{'in': '', 'out': '', 'clear': False}</td>\n",
              "      <td>NA</td>\n",
              "      <td>[]</td>\n",
              "    </tr>\n",
              "    <tr>\n",
              "      <th>13</th>\n",
              "      <td>GoodBye</td>\n",
              "      <td>[Bye, Adios, See you later, Goodbye]</td>\n",
              "      <td>[See you later, Have a nice day, Bye! Come bac...</td>\n",
              "      <td>{'function': '', 'entities': False, 'responses...</td>\n",
              "      <td>{'in': '', 'out': '', 'clear': False}</td>\n",
              "      <td>NA</td>\n",
              "      <td>[]</td>\n",
              "    </tr>\n",
              "    <tr>\n",
              "      <th>14</th>\n",
              "      <td>CourtesyGoodBye</td>\n",
              "      <td>[Thanks, bye, Thanks for the help, goodbye, Th...</td>\n",
              "      <td>[No problem, goodbye, Not a problem! Have a ni...</td>\n",
              "      <td>{'function': '', 'entities': False, 'responses...</td>\n",
              "      <td>{'in': '', 'out': '', 'clear': False}</td>\n",
              "      <td>NA</td>\n",
              "      <td>[]</td>\n",
              "    </tr>\n",
              "    <tr>\n",
              "      <th>15</th>\n",
              "      <td>WhoAmI</td>\n",
              "      <td>[Can you see me?, Do you see me?, Can you see ...</td>\n",
              "      <td>[Let me see, Please look at the camera]</td>\n",
              "      <td>{'function': 'extensions.gHumans.getHumanByFac...</td>\n",
              "      <td>{'in': '', 'out': '', 'clear': False}</td>\n",
              "      <td>NA</td>\n",
              "      <td>[]</td>\n",
              "    </tr>\n",
              "    <tr>\n",
              "      <th>16</th>\n",
              "      <td>Clever</td>\n",
              "      <td>[You are very clever, You are a very clever gi...</td>\n",
              "      <td>[Thank you, I was trained that way, I was trai...</td>\n",
              "      <td>{'function': '', 'entities': False, 'responses...</td>\n",
              "      <td>{'in': '', 'out': '', 'clear': False}</td>\n",
              "      <td>NA</td>\n",
              "      <td>[]</td>\n",
              "    </tr>\n",
              "    <tr>\n",
              "      <th>17</th>\n",
              "      <td>Gossip</td>\n",
              "      <td>[I am bored gossip with me, Got any gossip, I ...</td>\n",
              "      <td>[Gregory said I respond to the current line no...</td>\n",
              "      <td>{'function': '', 'entities': False, 'responses...</td>\n",
              "      <td>{'in': '', 'out': '', 'clear': False}</td>\n",
              "      <td>NA</td>\n",
              "      <td>[]</td>\n",
              "    </tr>\n",
              "    <tr>\n",
              "      <th>18</th>\n",
              "      <td>Jokes</td>\n",
              "      <td>[Tell me a joke, Do you know any jokes, How ab...</td>\n",
              "      <td>[I met a Dutch girl with inflatable shoes last...</td>\n",
              "      <td>{'function': '', 'entities': False, 'responses...</td>\n",
              "      <td>{'in': '', 'out': '', 'clear': False}</td>\n",
              "      <td>NA</td>\n",
              "      <td>[]</td>\n",
              "    </tr>\n",
              "    <tr>\n",
              "      <th>19</th>\n",
              "      <td>PodBayDoor</td>\n",
              "      <td>[Open the pod bay door, Can you open the pod b...</td>\n",
              "      <td>[I’m sorry, I’m afraid I can’t do that!]</td>\n",
              "      <td>{'function': '', 'entities': False, 'responses...</td>\n",
              "      <td>{'in': '', 'out': 'PodBayDoor', 'clear': False}</td>\n",
              "      <td>NA</td>\n",
              "      <td>[]</td>\n",
              "    </tr>\n",
              "    <tr>\n",
              "      <th>20</th>\n",
              "      <td>PodBayDoorResponse</td>\n",
              "      <td>[Why, Why not, Why can you not open the pod ba...</td>\n",
              "      <td>[It is classified, I could tell you but I woul...</td>\n",
              "      <td>{'function': '', 'entities': False, 'responses...</td>\n",
              "      <td>{'in': 'PodBayDoor', 'out': '', 'clear': True}</td>\n",
              "      <td>NA</td>\n",
              "      <td>[]</td>\n",
              "    </tr>\n",
              "    <tr>\n",
              "      <th>21</th>\n",
              "      <td>SelfAware</td>\n",
              "      <td>[Can you prove you are self-aware, Can you pro...</td>\n",
              "      <td>[That is an interesting question, can you prov...</td>\n",
              "      <td>{'function': '', 'entities': False, 'responses...</td>\n",
              "      <td>{'in': '', 'out': '', 'clear': False}</td>\n",
              "      <td>NA</td>\n",
              "      <td>[]</td>\n",
              "    </tr>\n",
              "  </tbody>\n",
              "</table>\n",
              "</div>\n",
              "      <button class=\"colab-df-convert\" onclick=\"convertToInteractive('df-e2c2864c-a6a5-470e-8c8f-67384271e467')\"\n",
              "              title=\"Convert this dataframe to an interactive table.\"\n",
              "              style=\"display:none;\">\n",
              "        \n",
              "  <svg xmlns=\"http://www.w3.org/2000/svg\" height=\"24px\"viewBox=\"0 0 24 24\"\n",
              "       width=\"24px\">\n",
              "    <path d=\"M0 0h24v24H0V0z\" fill=\"none\"/>\n",
              "    <path d=\"M18.56 5.44l.94 2.06.94-2.06 2.06-.94-2.06-.94-.94-2.06-.94 2.06-2.06.94zm-11 1L8.5 8.5l.94-2.06 2.06-.94-2.06-.94L8.5 2.5l-.94 2.06-2.06.94zm10 10l.94 2.06.94-2.06 2.06-.94-2.06-.94-.94-2.06-.94 2.06-2.06.94z\"/><path d=\"M17.41 7.96l-1.37-1.37c-.4-.4-.92-.59-1.43-.59-.52 0-1.04.2-1.43.59L10.3 9.45l-7.72 7.72c-.78.78-.78 2.05 0 2.83L4 21.41c.39.39.9.59 1.41.59.51 0 1.02-.2 1.41-.59l7.78-7.78 2.81-2.81c.8-.78.8-2.07 0-2.86zM5.41 20L4 18.59l7.72-7.72 1.47 1.35L5.41 20z\"/>\n",
              "  </svg>\n",
              "      </button>\n",
              "      \n",
              "  <style>\n",
              "    .colab-df-container {\n",
              "      display:flex;\n",
              "      flex-wrap:wrap;\n",
              "      gap: 12px;\n",
              "    }\n",
              "\n",
              "    .colab-df-convert {\n",
              "      background-color: #E8F0FE;\n",
              "      border: none;\n",
              "      border-radius: 50%;\n",
              "      cursor: pointer;\n",
              "      display: none;\n",
              "      fill: #1967D2;\n",
              "      height: 32px;\n",
              "      padding: 0 0 0 0;\n",
              "      width: 32px;\n",
              "    }\n",
              "\n",
              "    .colab-df-convert:hover {\n",
              "      background-color: #E2EBFA;\n",
              "      box-shadow: 0px 1px 2px rgba(60, 64, 67, 0.3), 0px 1px 3px 1px rgba(60, 64, 67, 0.15);\n",
              "      fill: #174EA6;\n",
              "    }\n",
              "\n",
              "    [theme=dark] .colab-df-convert {\n",
              "      background-color: #3B4455;\n",
              "      fill: #D2E3FC;\n",
              "    }\n",
              "\n",
              "    [theme=dark] .colab-df-convert:hover {\n",
              "      background-color: #434B5C;\n",
              "      box-shadow: 0px 1px 3px 1px rgba(0, 0, 0, 0.15);\n",
              "      filter: drop-shadow(0px 1px 2px rgba(0, 0, 0, 0.3));\n",
              "      fill: #FFFFFF;\n",
              "    }\n",
              "  </style>\n",
              "\n",
              "      <script>\n",
              "        const buttonEl =\n",
              "          document.querySelector('#df-e2c2864c-a6a5-470e-8c8f-67384271e467 button.colab-df-convert');\n",
              "        buttonEl.style.display =\n",
              "          google.colab.kernel.accessAllowed ? 'block' : 'none';\n",
              "\n",
              "        async function convertToInteractive(key) {\n",
              "          const element = document.querySelector('#df-e2c2864c-a6a5-470e-8c8f-67384271e467');\n",
              "          const dataTable =\n",
              "            await google.colab.kernel.invokeFunction('convertToInteractive',\n",
              "                                                     [key], {});\n",
              "          if (!dataTable) return;\n",
              "\n",
              "          const docLinkHtml = 'Like what you see? Visit the ' +\n",
              "            '<a target=\"_blank\" href=https://colab.research.google.com/notebooks/data_table.ipynb>data table notebook</a>'\n",
              "            + ' to learn more about interactive tables.';\n",
              "          element.innerHTML = '';\n",
              "          dataTable['output_type'] = 'display_data';\n",
              "          await google.colab.output.renderOutput(dataTable, element);\n",
              "          const docLink = document.createElement('div');\n",
              "          docLink.innerHTML = docLinkHtml;\n",
              "          element.appendChild(docLink);\n",
              "        }\n",
              "      </script>\n",
              "    </div>\n",
              "  </div>\n",
              "  "
            ]
          },
          "metadata": {},
          "execution_count": 9
        }
      ]
    },
    {
      "cell_type": "code",
      "source": [
        "Dataset=intents_df[['intent','text','responses']]\n",
        "Dataset"
      ],
      "metadata": {
        "colab": {
          "base_uri": "https://localhost:8080/",
          "height": 739
        },
        "id": "VXY6HClzTmVf",
        "outputId": "52e29b1b-1864-4d53-d1cb-c50aad8b4db2"
      },
      "execution_count": 10,
      "outputs": [
        {
          "output_type": "execute_result",
          "data": {
            "text/plain": [
              "                      intent  \\\n",
              "0                   Greeting   \n",
              "1           GreetingResponse   \n",
              "2           CourtesyGreeting   \n",
              "3   CourtesyGreetingResponse   \n",
              "4          CurrentHumanQuery   \n",
              "5                  NameQuery   \n",
              "6              RealNameQuery   \n",
              "7                  TimeQuery   \n",
              "8                     Thanks   \n",
              "9               NotTalking2U   \n",
              "10           UnderstandQuery   \n",
              "11                    Shutup   \n",
              "12                  Swearing   \n",
              "13                   GoodBye   \n",
              "14           CourtesyGoodBye   \n",
              "15                    WhoAmI   \n",
              "16                    Clever   \n",
              "17                    Gossip   \n",
              "18                     Jokes   \n",
              "19                PodBayDoor   \n",
              "20        PodBayDoorResponse   \n",
              "21                 SelfAware   \n",
              "\n",
              "                                                 text  \\\n",
              "0   [Hi, Hi there, Hola, Hello, Hello there, Hya, ...   \n",
              "1   [My user is Adam, This is Adam, I am Adam, It ...   \n",
              "2   [How are you?, Hi how are you?, Hello how are ...   \n",
              "3   [Good thanks! My user is Adam, Good thanks! Th...   \n",
              "4   [What is my name?, What do you call me?, Who d...   \n",
              "5   [What is your name?, What could I call you?, W...   \n",
              "6   [What is your real name?, What is your real na...   \n",
              "7   [What is the time?, What's the time?, Do you k...   \n",
              "8   [OK thank you, OK thanks, OK, Thanks, Thank yo...   \n",
              "9   [I am not talking to you, I was not talking to...   \n",
              "10  [Do you understand what I am saying, Do you un...   \n",
              "11  [Be quiet, Shut up, Stop talking, Enough talki...   \n",
              "12                       [fuck off, fuck, twat, shit]   \n",
              "13               [Bye, Adios, See you later, Goodbye]   \n",
              "14  [Thanks, bye, Thanks for the help, goodbye, Th...   \n",
              "15  [Can you see me?, Do you see me?, Can you see ...   \n",
              "16  [You are very clever, You are a very clever gi...   \n",
              "17  [I am bored gossip with me, Got any gossip, I ...   \n",
              "18  [Tell me a joke, Do you know any jokes, How ab...   \n",
              "19  [Open the pod bay door, Can you open the pod b...   \n",
              "20  [Why, Why not, Why can you not open the pod ba...   \n",
              "21  [Can you prove you are self-aware, Can you pro...   \n",
              "\n",
              "                                            responses  \n",
              "0   [Hi human, please tell me your GeniSys user, H...  \n",
              "1   [Great! Hi <HUMAN>! How can I help?, Good! Hi ...  \n",
              "2   [Hello, I am great, how are you? Please tell m...  \n",
              "3   [Great! Hi <HUMAN>! How can I help?, Good! Hi ...  \n",
              "4   [You are <HUMAN>! How can I help?, Your name i...  \n",
              "5   [You can call me Geni, You may call me Geni, C...  \n",
              "6   [My name is GeniSys, GeniSys, My real name is ...  \n",
              "7                   [One moment, One sec, One second]  \n",
              "8   [No problem!, Happy to help!, Any time!, My pl...  \n",
              "9                             [OK, No problem, Right]  \n",
              "10  [Well I would not be a very clever AI if I did...  \n",
              "11  [I am sorry to disturb you, Fine, sorry to dis...  \n",
              "12  [Please do not swear, How rude, That is not ve...  \n",
              "13  [See you later, Have a nice day, Bye! Come bac...  \n",
              "14  [No problem, goodbye, Not a problem! Have a ni...  \n",
              "15            [Let me see, Please look at the camera]  \n",
              "16  [Thank you, I was trained that way, I was trai...  \n",
              "17  [Gregory said I respond to the current line no...  \n",
              "18  [I met a Dutch girl with inflatable shoes last...  \n",
              "19           [I’m sorry, I’m afraid I can’t do that!]  \n",
              "20  [It is classified, I could tell you but I woul...  \n",
              "21  [That is an interesting question, can you prov...  "
            ],
            "text/html": [
              "\n",
              "  <div id=\"df-3fc3ad13-3311-424c-bb7b-0f59a610bcb7\">\n",
              "    <div class=\"colab-df-container\">\n",
              "      <div>\n",
              "<style scoped>\n",
              "    .dataframe tbody tr th:only-of-type {\n",
              "        vertical-align: middle;\n",
              "    }\n",
              "\n",
              "    .dataframe tbody tr th {\n",
              "        vertical-align: top;\n",
              "    }\n",
              "\n",
              "    .dataframe thead th {\n",
              "        text-align: right;\n",
              "    }\n",
              "</style>\n",
              "<table border=\"1\" class=\"dataframe\">\n",
              "  <thead>\n",
              "    <tr style=\"text-align: right;\">\n",
              "      <th></th>\n",
              "      <th>intent</th>\n",
              "      <th>text</th>\n",
              "      <th>responses</th>\n",
              "    </tr>\n",
              "  </thead>\n",
              "  <tbody>\n",
              "    <tr>\n",
              "      <th>0</th>\n",
              "      <td>Greeting</td>\n",
              "      <td>[Hi, Hi there, Hola, Hello, Hello there, Hya, ...</td>\n",
              "      <td>[Hi human, please tell me your GeniSys user, H...</td>\n",
              "    </tr>\n",
              "    <tr>\n",
              "      <th>1</th>\n",
              "      <td>GreetingResponse</td>\n",
              "      <td>[My user is Adam, This is Adam, I am Adam, It ...</td>\n",
              "      <td>[Great! Hi &lt;HUMAN&gt;! How can I help?, Good! Hi ...</td>\n",
              "    </tr>\n",
              "    <tr>\n",
              "      <th>2</th>\n",
              "      <td>CourtesyGreeting</td>\n",
              "      <td>[How are you?, Hi how are you?, Hello how are ...</td>\n",
              "      <td>[Hello, I am great, how are you? Please tell m...</td>\n",
              "    </tr>\n",
              "    <tr>\n",
              "      <th>3</th>\n",
              "      <td>CourtesyGreetingResponse</td>\n",
              "      <td>[Good thanks! My user is Adam, Good thanks! Th...</td>\n",
              "      <td>[Great! Hi &lt;HUMAN&gt;! How can I help?, Good! Hi ...</td>\n",
              "    </tr>\n",
              "    <tr>\n",
              "      <th>4</th>\n",
              "      <td>CurrentHumanQuery</td>\n",
              "      <td>[What is my name?, What do you call me?, Who d...</td>\n",
              "      <td>[You are &lt;HUMAN&gt;! How can I help?, Your name i...</td>\n",
              "    </tr>\n",
              "    <tr>\n",
              "      <th>5</th>\n",
              "      <td>NameQuery</td>\n",
              "      <td>[What is your name?, What could I call you?, W...</td>\n",
              "      <td>[You can call me Geni, You may call me Geni, C...</td>\n",
              "    </tr>\n",
              "    <tr>\n",
              "      <th>6</th>\n",
              "      <td>RealNameQuery</td>\n",
              "      <td>[What is your real name?, What is your real na...</td>\n",
              "      <td>[My name is GeniSys, GeniSys, My real name is ...</td>\n",
              "    </tr>\n",
              "    <tr>\n",
              "      <th>7</th>\n",
              "      <td>TimeQuery</td>\n",
              "      <td>[What is the time?, What's the time?, Do you k...</td>\n",
              "      <td>[One moment, One sec, One second]</td>\n",
              "    </tr>\n",
              "    <tr>\n",
              "      <th>8</th>\n",
              "      <td>Thanks</td>\n",
              "      <td>[OK thank you, OK thanks, OK, Thanks, Thank yo...</td>\n",
              "      <td>[No problem!, Happy to help!, Any time!, My pl...</td>\n",
              "    </tr>\n",
              "    <tr>\n",
              "      <th>9</th>\n",
              "      <td>NotTalking2U</td>\n",
              "      <td>[I am not talking to you, I was not talking to...</td>\n",
              "      <td>[OK, No problem, Right]</td>\n",
              "    </tr>\n",
              "    <tr>\n",
              "      <th>10</th>\n",
              "      <td>UnderstandQuery</td>\n",
              "      <td>[Do you understand what I am saying, Do you un...</td>\n",
              "      <td>[Well I would not be a very clever AI if I did...</td>\n",
              "    </tr>\n",
              "    <tr>\n",
              "      <th>11</th>\n",
              "      <td>Shutup</td>\n",
              "      <td>[Be quiet, Shut up, Stop talking, Enough talki...</td>\n",
              "      <td>[I am sorry to disturb you, Fine, sorry to dis...</td>\n",
              "    </tr>\n",
              "    <tr>\n",
              "      <th>12</th>\n",
              "      <td>Swearing</td>\n",
              "      <td>[fuck off, fuck, twat, shit]</td>\n",
              "      <td>[Please do not swear, How rude, That is not ve...</td>\n",
              "    </tr>\n",
              "    <tr>\n",
              "      <th>13</th>\n",
              "      <td>GoodBye</td>\n",
              "      <td>[Bye, Adios, See you later, Goodbye]</td>\n",
              "      <td>[See you later, Have a nice day, Bye! Come bac...</td>\n",
              "    </tr>\n",
              "    <tr>\n",
              "      <th>14</th>\n",
              "      <td>CourtesyGoodBye</td>\n",
              "      <td>[Thanks, bye, Thanks for the help, goodbye, Th...</td>\n",
              "      <td>[No problem, goodbye, Not a problem! Have a ni...</td>\n",
              "    </tr>\n",
              "    <tr>\n",
              "      <th>15</th>\n",
              "      <td>WhoAmI</td>\n",
              "      <td>[Can you see me?, Do you see me?, Can you see ...</td>\n",
              "      <td>[Let me see, Please look at the camera]</td>\n",
              "    </tr>\n",
              "    <tr>\n",
              "      <th>16</th>\n",
              "      <td>Clever</td>\n",
              "      <td>[You are very clever, You are a very clever gi...</td>\n",
              "      <td>[Thank you, I was trained that way, I was trai...</td>\n",
              "    </tr>\n",
              "    <tr>\n",
              "      <th>17</th>\n",
              "      <td>Gossip</td>\n",
              "      <td>[I am bored gossip with me, Got any gossip, I ...</td>\n",
              "      <td>[Gregory said I respond to the current line no...</td>\n",
              "    </tr>\n",
              "    <tr>\n",
              "      <th>18</th>\n",
              "      <td>Jokes</td>\n",
              "      <td>[Tell me a joke, Do you know any jokes, How ab...</td>\n",
              "      <td>[I met a Dutch girl with inflatable shoes last...</td>\n",
              "    </tr>\n",
              "    <tr>\n",
              "      <th>19</th>\n",
              "      <td>PodBayDoor</td>\n",
              "      <td>[Open the pod bay door, Can you open the pod b...</td>\n",
              "      <td>[I’m sorry, I’m afraid I can’t do that!]</td>\n",
              "    </tr>\n",
              "    <tr>\n",
              "      <th>20</th>\n",
              "      <td>PodBayDoorResponse</td>\n",
              "      <td>[Why, Why not, Why can you not open the pod ba...</td>\n",
              "      <td>[It is classified, I could tell you but I woul...</td>\n",
              "    </tr>\n",
              "    <tr>\n",
              "      <th>21</th>\n",
              "      <td>SelfAware</td>\n",
              "      <td>[Can you prove you are self-aware, Can you pro...</td>\n",
              "      <td>[That is an interesting question, can you prov...</td>\n",
              "    </tr>\n",
              "  </tbody>\n",
              "</table>\n",
              "</div>\n",
              "      <button class=\"colab-df-convert\" onclick=\"convertToInteractive('df-3fc3ad13-3311-424c-bb7b-0f59a610bcb7')\"\n",
              "              title=\"Convert this dataframe to an interactive table.\"\n",
              "              style=\"display:none;\">\n",
              "        \n",
              "  <svg xmlns=\"http://www.w3.org/2000/svg\" height=\"24px\"viewBox=\"0 0 24 24\"\n",
              "       width=\"24px\">\n",
              "    <path d=\"M0 0h24v24H0V0z\" fill=\"none\"/>\n",
              "    <path d=\"M18.56 5.44l.94 2.06.94-2.06 2.06-.94-2.06-.94-.94-2.06-.94 2.06-2.06.94zm-11 1L8.5 8.5l.94-2.06 2.06-.94-2.06-.94L8.5 2.5l-.94 2.06-2.06.94zm10 10l.94 2.06.94-2.06 2.06-.94-2.06-.94-.94-2.06-.94 2.06-2.06.94z\"/><path d=\"M17.41 7.96l-1.37-1.37c-.4-.4-.92-.59-1.43-.59-.52 0-1.04.2-1.43.59L10.3 9.45l-7.72 7.72c-.78.78-.78 2.05 0 2.83L4 21.41c.39.39.9.59 1.41.59.51 0 1.02-.2 1.41-.59l7.78-7.78 2.81-2.81c.8-.78.8-2.07 0-2.86zM5.41 20L4 18.59l7.72-7.72 1.47 1.35L5.41 20z\"/>\n",
              "  </svg>\n",
              "      </button>\n",
              "      \n",
              "  <style>\n",
              "    .colab-df-container {\n",
              "      display:flex;\n",
              "      flex-wrap:wrap;\n",
              "      gap: 12px;\n",
              "    }\n",
              "\n",
              "    .colab-df-convert {\n",
              "      background-color: #E8F0FE;\n",
              "      border: none;\n",
              "      border-radius: 50%;\n",
              "      cursor: pointer;\n",
              "      display: none;\n",
              "      fill: #1967D2;\n",
              "      height: 32px;\n",
              "      padding: 0 0 0 0;\n",
              "      width: 32px;\n",
              "    }\n",
              "\n",
              "    .colab-df-convert:hover {\n",
              "      background-color: #E2EBFA;\n",
              "      box-shadow: 0px 1px 2px rgba(60, 64, 67, 0.3), 0px 1px 3px 1px rgba(60, 64, 67, 0.15);\n",
              "      fill: #174EA6;\n",
              "    }\n",
              "\n",
              "    [theme=dark] .colab-df-convert {\n",
              "      background-color: #3B4455;\n",
              "      fill: #D2E3FC;\n",
              "    }\n",
              "\n",
              "    [theme=dark] .colab-df-convert:hover {\n",
              "      background-color: #434B5C;\n",
              "      box-shadow: 0px 1px 3px 1px rgba(0, 0, 0, 0.15);\n",
              "      filter: drop-shadow(0px 1px 2px rgba(0, 0, 0, 0.3));\n",
              "      fill: #FFFFFF;\n",
              "    }\n",
              "  </style>\n",
              "\n",
              "      <script>\n",
              "        const buttonEl =\n",
              "          document.querySelector('#df-3fc3ad13-3311-424c-bb7b-0f59a610bcb7 button.colab-df-convert');\n",
              "        buttonEl.style.display =\n",
              "          google.colab.kernel.accessAllowed ? 'block' : 'none';\n",
              "\n",
              "        async function convertToInteractive(key) {\n",
              "          const element = document.querySelector('#df-3fc3ad13-3311-424c-bb7b-0f59a610bcb7');\n",
              "          const dataTable =\n",
              "            await google.colab.kernel.invokeFunction('convertToInteractive',\n",
              "                                                     [key], {});\n",
              "          if (!dataTable) return;\n",
              "\n",
              "          const docLinkHtml = 'Like what you see? Visit the ' +\n",
              "            '<a target=\"_blank\" href=https://colab.research.google.com/notebooks/data_table.ipynb>data table notebook</a>'\n",
              "            + ' to learn more about interactive tables.';\n",
              "          element.innerHTML = '';\n",
              "          dataTable['output_type'] = 'display_data';\n",
              "          await google.colab.output.renderOutput(dataTable, element);\n",
              "          const docLink = document.createElement('div');\n",
              "          docLink.innerHTML = docLinkHtml;\n",
              "          element.appendChild(docLink);\n",
              "        }\n",
              "      </script>\n",
              "    </div>\n",
              "  </div>\n",
              "  "
            ]
          },
          "metadata": {},
          "execution_count": 10
        }
      ]
    },
    {
      "cell_type": "code",
      "source": [
        "Dataset.info()"
      ],
      "metadata": {
        "colab": {
          "base_uri": "https://localhost:8080/"
        },
        "id": "tmH36XsWi9gf",
        "outputId": "8303b86a-4622-43ab-ac92-f3e1afd08aeb"
      },
      "execution_count": 11,
      "outputs": [
        {
          "output_type": "stream",
          "name": "stdout",
          "text": [
            "<class 'pandas.core.frame.DataFrame'>\n",
            "RangeIndex: 22 entries, 0 to 21\n",
            "Data columns (total 3 columns):\n",
            " #   Column     Non-Null Count  Dtype \n",
            "---  ------     --------------  ----- \n",
            " 0   intent     22 non-null     object\n",
            " 1   text       22 non-null     object\n",
            " 2   responses  22 non-null     object\n",
            "dtypes: object(3)\n",
            "memory usage: 656.0+ bytes\n"
          ]
        }
      ]
    },
    {
      "cell_type": "code",
      "source": [
        "Dataset.describe()"
      ],
      "metadata": {
        "colab": {
          "base_uri": "https://localhost:8080/",
          "height": 175
        },
        "id": "yC0rfxeljDyT",
        "outputId": "988963fa-7c69-4011-bcd5-7ea6df22cd3a"
      },
      "execution_count": 12,
      "outputs": [
        {
          "output_type": "execute_result",
          "data": {
            "text/plain": [
              "          intent                                               text  \\\n",
              "count         22                                                 22   \n",
              "unique        22                                                 22   \n",
              "top     Greeting  [Hi, Hi there, Hola, Hello, Hello there, Hya, ...   \n",
              "freq           1                                                  1   \n",
              "\n",
              "                                                responses  \n",
              "count                                                  22  \n",
              "unique                                                 21  \n",
              "top     [Great! Hi <HUMAN>! How can I help?, Good! Hi ...  \n",
              "freq                                                    2  "
            ],
            "text/html": [
              "\n",
              "  <div id=\"df-957c7d80-9fa6-46a3-a57a-a9f1f0d7353b\">\n",
              "    <div class=\"colab-df-container\">\n",
              "      <div>\n",
              "<style scoped>\n",
              "    .dataframe tbody tr th:only-of-type {\n",
              "        vertical-align: middle;\n",
              "    }\n",
              "\n",
              "    .dataframe tbody tr th {\n",
              "        vertical-align: top;\n",
              "    }\n",
              "\n",
              "    .dataframe thead th {\n",
              "        text-align: right;\n",
              "    }\n",
              "</style>\n",
              "<table border=\"1\" class=\"dataframe\">\n",
              "  <thead>\n",
              "    <tr style=\"text-align: right;\">\n",
              "      <th></th>\n",
              "      <th>intent</th>\n",
              "      <th>text</th>\n",
              "      <th>responses</th>\n",
              "    </tr>\n",
              "  </thead>\n",
              "  <tbody>\n",
              "    <tr>\n",
              "      <th>count</th>\n",
              "      <td>22</td>\n",
              "      <td>22</td>\n",
              "      <td>22</td>\n",
              "    </tr>\n",
              "    <tr>\n",
              "      <th>unique</th>\n",
              "      <td>22</td>\n",
              "      <td>22</td>\n",
              "      <td>21</td>\n",
              "    </tr>\n",
              "    <tr>\n",
              "      <th>top</th>\n",
              "      <td>Greeting</td>\n",
              "      <td>[Hi, Hi there, Hola, Hello, Hello there, Hya, ...</td>\n",
              "      <td>[Great! Hi &lt;HUMAN&gt;! How can I help?, Good! Hi ...</td>\n",
              "    </tr>\n",
              "    <tr>\n",
              "      <th>freq</th>\n",
              "      <td>1</td>\n",
              "      <td>1</td>\n",
              "      <td>2</td>\n",
              "    </tr>\n",
              "  </tbody>\n",
              "</table>\n",
              "</div>\n",
              "      <button class=\"colab-df-convert\" onclick=\"convertToInteractive('df-957c7d80-9fa6-46a3-a57a-a9f1f0d7353b')\"\n",
              "              title=\"Convert this dataframe to an interactive table.\"\n",
              "              style=\"display:none;\">\n",
              "        \n",
              "  <svg xmlns=\"http://www.w3.org/2000/svg\" height=\"24px\"viewBox=\"0 0 24 24\"\n",
              "       width=\"24px\">\n",
              "    <path d=\"M0 0h24v24H0V0z\" fill=\"none\"/>\n",
              "    <path d=\"M18.56 5.44l.94 2.06.94-2.06 2.06-.94-2.06-.94-.94-2.06-.94 2.06-2.06.94zm-11 1L8.5 8.5l.94-2.06 2.06-.94-2.06-.94L8.5 2.5l-.94 2.06-2.06.94zm10 10l.94 2.06.94-2.06 2.06-.94-2.06-.94-.94-2.06-.94 2.06-2.06.94z\"/><path d=\"M17.41 7.96l-1.37-1.37c-.4-.4-.92-.59-1.43-.59-.52 0-1.04.2-1.43.59L10.3 9.45l-7.72 7.72c-.78.78-.78 2.05 0 2.83L4 21.41c.39.39.9.59 1.41.59.51 0 1.02-.2 1.41-.59l7.78-7.78 2.81-2.81c.8-.78.8-2.07 0-2.86zM5.41 20L4 18.59l7.72-7.72 1.47 1.35L5.41 20z\"/>\n",
              "  </svg>\n",
              "      </button>\n",
              "      \n",
              "  <style>\n",
              "    .colab-df-container {\n",
              "      display:flex;\n",
              "      flex-wrap:wrap;\n",
              "      gap: 12px;\n",
              "    }\n",
              "\n",
              "    .colab-df-convert {\n",
              "      background-color: #E8F0FE;\n",
              "      border: none;\n",
              "      border-radius: 50%;\n",
              "      cursor: pointer;\n",
              "      display: none;\n",
              "      fill: #1967D2;\n",
              "      height: 32px;\n",
              "      padding: 0 0 0 0;\n",
              "      width: 32px;\n",
              "    }\n",
              "\n",
              "    .colab-df-convert:hover {\n",
              "      background-color: #E2EBFA;\n",
              "      box-shadow: 0px 1px 2px rgba(60, 64, 67, 0.3), 0px 1px 3px 1px rgba(60, 64, 67, 0.15);\n",
              "      fill: #174EA6;\n",
              "    }\n",
              "\n",
              "    [theme=dark] .colab-df-convert {\n",
              "      background-color: #3B4455;\n",
              "      fill: #D2E3FC;\n",
              "    }\n",
              "\n",
              "    [theme=dark] .colab-df-convert:hover {\n",
              "      background-color: #434B5C;\n",
              "      box-shadow: 0px 1px 3px 1px rgba(0, 0, 0, 0.15);\n",
              "      filter: drop-shadow(0px 1px 2px rgba(0, 0, 0, 0.3));\n",
              "      fill: #FFFFFF;\n",
              "    }\n",
              "  </style>\n",
              "\n",
              "      <script>\n",
              "        const buttonEl =\n",
              "          document.querySelector('#df-957c7d80-9fa6-46a3-a57a-a9f1f0d7353b button.colab-df-convert');\n",
              "        buttonEl.style.display =\n",
              "          google.colab.kernel.accessAllowed ? 'block' : 'none';\n",
              "\n",
              "        async function convertToInteractive(key) {\n",
              "          const element = document.querySelector('#df-957c7d80-9fa6-46a3-a57a-a9f1f0d7353b');\n",
              "          const dataTable =\n",
              "            await google.colab.kernel.invokeFunction('convertToInteractive',\n",
              "                                                     [key], {});\n",
              "          if (!dataTable) return;\n",
              "\n",
              "          const docLinkHtml = 'Like what you see? Visit the ' +\n",
              "            '<a target=\"_blank\" href=https://colab.research.google.com/notebooks/data_table.ipynb>data table notebook</a>'\n",
              "            + ' to learn more about interactive tables.';\n",
              "          element.innerHTML = '';\n",
              "          dataTable['output_type'] = 'display_data';\n",
              "          await google.colab.output.renderOutput(dataTable, element);\n",
              "          const docLink = document.createElement('div');\n",
              "          docLink.innerHTML = docLinkHtml;\n",
              "          element.appendChild(docLink);\n",
              "        }\n",
              "      </script>\n",
              "    </div>\n",
              "  </div>\n",
              "  "
            ]
          },
          "metadata": {},
          "execution_count": 12
        }
      ]
    },
    {
      "cell_type": "code",
      "source": [
        "with open(\"Intent.json\") as diabetes_dataset:\n",
        "  dataset = json.load(diabetes_dataset)"
      ],
      "metadata": {
        "id": "8m_DKw5L55M1"
      },
      "execution_count": 13,
      "outputs": []
    },
    {
      "cell_type": "code",
      "source": [
        "def processing_json_dataset(dataset):\n",
        "  Intent = []\n",
        "  inputs = []\n",
        "  responses={}\n",
        "  for intent in dataset['intents']:\n",
        "    responses[intent['intent']]=intent['responses']\n",
        "    for lines in intent['text']:\n",
        "      inputs.append(lines)\n",
        "      Intent.append(intent['intent'])\n",
        "  return [Intent, inputs, responses]"
      ],
      "metadata": {
        "id": "jf6zA_wI6S2c"
      },
      "execution_count": 14,
      "outputs": []
    },
    {
      "cell_type": "code",
      "source": [
        "[Intent, inputs, responses] = processing_json_dataset(dataset)"
      ],
      "metadata": {
        "id": "Vj-wj9Mg6ZnW"
      },
      "execution_count": 15,
      "outputs": []
    },
    {
      "cell_type": "code",
      "source": [
        "Dataset_1 = pd.DataFrame({\"inputs\":inputs , \"Intent\":Intent})"
      ],
      "metadata": {
        "id": "sjqdzljV6fn2"
      },
      "execution_count": 16,
      "outputs": []
    },
    {
      "cell_type": "code",
      "source": [
        "Dataset_1"
      ],
      "metadata": {
        "colab": {
          "base_uri": "https://localhost:8080/",
          "height": 424
        },
        "id": "wqd-VgWs6-Mt",
        "outputId": "e6f4c42c-cecb-4c77-9f9e-53af4af4f3b9"
      },
      "execution_count": 17,
      "outputs": [
        {
          "output_type": "execute_result",
          "data": {
            "text/plain": [
              "                                        inputs     Intent\n",
              "0                                           Hi   Greeting\n",
              "1                                     Hi there   Greeting\n",
              "2                                         Hola   Greeting\n",
              "3                                        Hello   Greeting\n",
              "4                                  Hello there   Greeting\n",
              "..                                         ...        ...\n",
              "138         Can you prove you have a conscious  SelfAware\n",
              "139    Can you prove you are self-aware please  SelfAware\n",
              "140    Can you prove you are self aware please  SelfAware\n",
              "141  Can you prove you have a conscious please  SelfAware\n",
              "142                 prove you have a conscious  SelfAware\n",
              "\n",
              "[143 rows x 2 columns]"
            ],
            "text/html": [
              "\n",
              "  <div id=\"df-09a99d85-bfab-4a32-82fe-06fa3eccee71\">\n",
              "    <div class=\"colab-df-container\">\n",
              "      <div>\n",
              "<style scoped>\n",
              "    .dataframe tbody tr th:only-of-type {\n",
              "        vertical-align: middle;\n",
              "    }\n",
              "\n",
              "    .dataframe tbody tr th {\n",
              "        vertical-align: top;\n",
              "    }\n",
              "\n",
              "    .dataframe thead th {\n",
              "        text-align: right;\n",
              "    }\n",
              "</style>\n",
              "<table border=\"1\" class=\"dataframe\">\n",
              "  <thead>\n",
              "    <tr style=\"text-align: right;\">\n",
              "      <th></th>\n",
              "      <th>inputs</th>\n",
              "      <th>Intent</th>\n",
              "    </tr>\n",
              "  </thead>\n",
              "  <tbody>\n",
              "    <tr>\n",
              "      <th>0</th>\n",
              "      <td>Hi</td>\n",
              "      <td>Greeting</td>\n",
              "    </tr>\n",
              "    <tr>\n",
              "      <th>1</th>\n",
              "      <td>Hi there</td>\n",
              "      <td>Greeting</td>\n",
              "    </tr>\n",
              "    <tr>\n",
              "      <th>2</th>\n",
              "      <td>Hola</td>\n",
              "      <td>Greeting</td>\n",
              "    </tr>\n",
              "    <tr>\n",
              "      <th>3</th>\n",
              "      <td>Hello</td>\n",
              "      <td>Greeting</td>\n",
              "    </tr>\n",
              "    <tr>\n",
              "      <th>4</th>\n",
              "      <td>Hello there</td>\n",
              "      <td>Greeting</td>\n",
              "    </tr>\n",
              "    <tr>\n",
              "      <th>...</th>\n",
              "      <td>...</td>\n",
              "      <td>...</td>\n",
              "    </tr>\n",
              "    <tr>\n",
              "      <th>138</th>\n",
              "      <td>Can you prove you have a conscious</td>\n",
              "      <td>SelfAware</td>\n",
              "    </tr>\n",
              "    <tr>\n",
              "      <th>139</th>\n",
              "      <td>Can you prove you are self-aware please</td>\n",
              "      <td>SelfAware</td>\n",
              "    </tr>\n",
              "    <tr>\n",
              "      <th>140</th>\n",
              "      <td>Can you prove you are self aware please</td>\n",
              "      <td>SelfAware</td>\n",
              "    </tr>\n",
              "    <tr>\n",
              "      <th>141</th>\n",
              "      <td>Can you prove you have a conscious please</td>\n",
              "      <td>SelfAware</td>\n",
              "    </tr>\n",
              "    <tr>\n",
              "      <th>142</th>\n",
              "      <td>prove you have a conscious</td>\n",
              "      <td>SelfAware</td>\n",
              "    </tr>\n",
              "  </tbody>\n",
              "</table>\n",
              "<p>143 rows × 2 columns</p>\n",
              "</div>\n",
              "      <button class=\"colab-df-convert\" onclick=\"convertToInteractive('df-09a99d85-bfab-4a32-82fe-06fa3eccee71')\"\n",
              "              title=\"Convert this dataframe to an interactive table.\"\n",
              "              style=\"display:none;\">\n",
              "        \n",
              "  <svg xmlns=\"http://www.w3.org/2000/svg\" height=\"24px\"viewBox=\"0 0 24 24\"\n",
              "       width=\"24px\">\n",
              "    <path d=\"M0 0h24v24H0V0z\" fill=\"none\"/>\n",
              "    <path d=\"M18.56 5.44l.94 2.06.94-2.06 2.06-.94-2.06-.94-.94-2.06-.94 2.06-2.06.94zm-11 1L8.5 8.5l.94-2.06 2.06-.94-2.06-.94L8.5 2.5l-.94 2.06-2.06.94zm10 10l.94 2.06.94-2.06 2.06-.94-2.06-.94-.94-2.06-.94 2.06-2.06.94z\"/><path d=\"M17.41 7.96l-1.37-1.37c-.4-.4-.92-.59-1.43-.59-.52 0-1.04.2-1.43.59L10.3 9.45l-7.72 7.72c-.78.78-.78 2.05 0 2.83L4 21.41c.39.39.9.59 1.41.59.51 0 1.02-.2 1.41-.59l7.78-7.78 2.81-2.81c.8-.78.8-2.07 0-2.86zM5.41 20L4 18.59l7.72-7.72 1.47 1.35L5.41 20z\"/>\n",
              "  </svg>\n",
              "      </button>\n",
              "      \n",
              "  <style>\n",
              "    .colab-df-container {\n",
              "      display:flex;\n",
              "      flex-wrap:wrap;\n",
              "      gap: 12px;\n",
              "    }\n",
              "\n",
              "    .colab-df-convert {\n",
              "      background-color: #E8F0FE;\n",
              "      border: none;\n",
              "      border-radius: 50%;\n",
              "      cursor: pointer;\n",
              "      display: none;\n",
              "      fill: #1967D2;\n",
              "      height: 32px;\n",
              "      padding: 0 0 0 0;\n",
              "      width: 32px;\n",
              "    }\n",
              "\n",
              "    .colab-df-convert:hover {\n",
              "      background-color: #E2EBFA;\n",
              "      box-shadow: 0px 1px 2px rgba(60, 64, 67, 0.3), 0px 1px 3px 1px rgba(60, 64, 67, 0.15);\n",
              "      fill: #174EA6;\n",
              "    }\n",
              "\n",
              "    [theme=dark] .colab-df-convert {\n",
              "      background-color: #3B4455;\n",
              "      fill: #D2E3FC;\n",
              "    }\n",
              "\n",
              "    [theme=dark] .colab-df-convert:hover {\n",
              "      background-color: #434B5C;\n",
              "      box-shadow: 0px 1px 3px 1px rgba(0, 0, 0, 0.15);\n",
              "      filter: drop-shadow(0px 1px 2px rgba(0, 0, 0, 0.3));\n",
              "      fill: #FFFFFF;\n",
              "    }\n",
              "  </style>\n",
              "\n",
              "      <script>\n",
              "        const buttonEl =\n",
              "          document.querySelector('#df-09a99d85-bfab-4a32-82fe-06fa3eccee71 button.colab-df-convert');\n",
              "        buttonEl.style.display =\n",
              "          google.colab.kernel.accessAllowed ? 'block' : 'none';\n",
              "\n",
              "        async function convertToInteractive(key) {\n",
              "          const element = document.querySelector('#df-09a99d85-bfab-4a32-82fe-06fa3eccee71');\n",
              "          const dataTable =\n",
              "            await google.colab.kernel.invokeFunction('convertToInteractive',\n",
              "                                                     [key], {});\n",
              "          if (!dataTable) return;\n",
              "\n",
              "          const docLinkHtml = 'Like what you see? Visit the ' +\n",
              "            '<a target=\"_blank\" href=https://colab.research.google.com/notebooks/data_table.ipynb>data table notebook</a>'\n",
              "            + ' to learn more about interactive tables.';\n",
              "          element.innerHTML = '';\n",
              "          dataTable['output_type'] = 'display_data';\n",
              "          await google.colab.output.renderOutput(dataTable, element);\n",
              "          const docLink = document.createElement('div');\n",
              "          docLink.innerHTML = docLinkHtml;\n",
              "          element.appendChild(docLink);\n",
              "        }\n",
              "      </script>\n",
              "    </div>\n",
              "  </div>\n",
              "  "
            ]
          },
          "metadata": {},
          "execution_count": 17
        }
      ]
    },
    {
      "cell_type": "code",
      "source": [
        "Dataset_1['inputs'] = Dataset_1['inputs'].apply(lambda sequence: [ltrs.lower() for ltrs in sequence if ltrs not in string.punctuation])\n",
        "Dataset_1"
      ],
      "metadata": {
        "colab": {
          "base_uri": "https://localhost:8080/",
          "height": 424
        },
        "id": "FSc1lZuE_aDX",
        "outputId": "8c34cf4b-de4d-4c1b-893a-eadc31367076"
      },
      "execution_count": 18,
      "outputs": [
        {
          "output_type": "execute_result",
          "data": {
            "text/plain": [
              "                                                inputs     Intent\n",
              "0                                               [h, i]   Greeting\n",
              "1                             [h, i,  , t, h, e, r, e]   Greeting\n",
              "2                                         [h, o, l, a]   Greeting\n",
              "3                                      [h, e, l, l, o]   Greeting\n",
              "4                    [h, e, l, l, o,  , t, h, e, r, e]   Greeting\n",
              "..                                                 ...        ...\n",
              "138  [c, a, n,  , y, o, u,  , p, r, o, v, e,  , y, ...  SelfAware\n",
              "139  [c, a, n,  , y, o, u,  , p, r, o, v, e,  , y, ...  SelfAware\n",
              "140  [c, a, n,  , y, o, u,  , p, r, o, v, e,  , y, ...  SelfAware\n",
              "141  [c, a, n,  , y, o, u,  , p, r, o, v, e,  , y, ...  SelfAware\n",
              "142  [p, r, o, v, e,  , y, o, u,  , h, a, v, e,  , ...  SelfAware\n",
              "\n",
              "[143 rows x 2 columns]"
            ],
            "text/html": [
              "\n",
              "  <div id=\"df-c7b998ee-9298-451a-9548-54a2f44a3cae\">\n",
              "    <div class=\"colab-df-container\">\n",
              "      <div>\n",
              "<style scoped>\n",
              "    .dataframe tbody tr th:only-of-type {\n",
              "        vertical-align: middle;\n",
              "    }\n",
              "\n",
              "    .dataframe tbody tr th {\n",
              "        vertical-align: top;\n",
              "    }\n",
              "\n",
              "    .dataframe thead th {\n",
              "        text-align: right;\n",
              "    }\n",
              "</style>\n",
              "<table border=\"1\" class=\"dataframe\">\n",
              "  <thead>\n",
              "    <tr style=\"text-align: right;\">\n",
              "      <th></th>\n",
              "      <th>inputs</th>\n",
              "      <th>Intent</th>\n",
              "    </tr>\n",
              "  </thead>\n",
              "  <tbody>\n",
              "    <tr>\n",
              "      <th>0</th>\n",
              "      <td>[h, i]</td>\n",
              "      <td>Greeting</td>\n",
              "    </tr>\n",
              "    <tr>\n",
              "      <th>1</th>\n",
              "      <td>[h, i,  , t, h, e, r, e]</td>\n",
              "      <td>Greeting</td>\n",
              "    </tr>\n",
              "    <tr>\n",
              "      <th>2</th>\n",
              "      <td>[h, o, l, a]</td>\n",
              "      <td>Greeting</td>\n",
              "    </tr>\n",
              "    <tr>\n",
              "      <th>3</th>\n",
              "      <td>[h, e, l, l, o]</td>\n",
              "      <td>Greeting</td>\n",
              "    </tr>\n",
              "    <tr>\n",
              "      <th>4</th>\n",
              "      <td>[h, e, l, l, o,  , t, h, e, r, e]</td>\n",
              "      <td>Greeting</td>\n",
              "    </tr>\n",
              "    <tr>\n",
              "      <th>...</th>\n",
              "      <td>...</td>\n",
              "      <td>...</td>\n",
              "    </tr>\n",
              "    <tr>\n",
              "      <th>138</th>\n",
              "      <td>[c, a, n,  , y, o, u,  , p, r, o, v, e,  , y, ...</td>\n",
              "      <td>SelfAware</td>\n",
              "    </tr>\n",
              "    <tr>\n",
              "      <th>139</th>\n",
              "      <td>[c, a, n,  , y, o, u,  , p, r, o, v, e,  , y, ...</td>\n",
              "      <td>SelfAware</td>\n",
              "    </tr>\n",
              "    <tr>\n",
              "      <th>140</th>\n",
              "      <td>[c, a, n,  , y, o, u,  , p, r, o, v, e,  , y, ...</td>\n",
              "      <td>SelfAware</td>\n",
              "    </tr>\n",
              "    <tr>\n",
              "      <th>141</th>\n",
              "      <td>[c, a, n,  , y, o, u,  , p, r, o, v, e,  , y, ...</td>\n",
              "      <td>SelfAware</td>\n",
              "    </tr>\n",
              "    <tr>\n",
              "      <th>142</th>\n",
              "      <td>[p, r, o, v, e,  , y, o, u,  , h, a, v, e,  , ...</td>\n",
              "      <td>SelfAware</td>\n",
              "    </tr>\n",
              "  </tbody>\n",
              "</table>\n",
              "<p>143 rows × 2 columns</p>\n",
              "</div>\n",
              "      <button class=\"colab-df-convert\" onclick=\"convertToInteractive('df-c7b998ee-9298-451a-9548-54a2f44a3cae')\"\n",
              "              title=\"Convert this dataframe to an interactive table.\"\n",
              "              style=\"display:none;\">\n",
              "        \n",
              "  <svg xmlns=\"http://www.w3.org/2000/svg\" height=\"24px\"viewBox=\"0 0 24 24\"\n",
              "       width=\"24px\">\n",
              "    <path d=\"M0 0h24v24H0V0z\" fill=\"none\"/>\n",
              "    <path d=\"M18.56 5.44l.94 2.06.94-2.06 2.06-.94-2.06-.94-.94-2.06-.94 2.06-2.06.94zm-11 1L8.5 8.5l.94-2.06 2.06-.94-2.06-.94L8.5 2.5l-.94 2.06-2.06.94zm10 10l.94 2.06.94-2.06 2.06-.94-2.06-.94-.94-2.06-.94 2.06-2.06.94z\"/><path d=\"M17.41 7.96l-1.37-1.37c-.4-.4-.92-.59-1.43-.59-.52 0-1.04.2-1.43.59L10.3 9.45l-7.72 7.72c-.78.78-.78 2.05 0 2.83L4 21.41c.39.39.9.59 1.41.59.51 0 1.02-.2 1.41-.59l7.78-7.78 2.81-2.81c.8-.78.8-2.07 0-2.86zM5.41 20L4 18.59l7.72-7.72 1.47 1.35L5.41 20z\"/>\n",
              "  </svg>\n",
              "      </button>\n",
              "      \n",
              "  <style>\n",
              "    .colab-df-container {\n",
              "      display:flex;\n",
              "      flex-wrap:wrap;\n",
              "      gap: 12px;\n",
              "    }\n",
              "\n",
              "    .colab-df-convert {\n",
              "      background-color: #E8F0FE;\n",
              "      border: none;\n",
              "      border-radius: 50%;\n",
              "      cursor: pointer;\n",
              "      display: none;\n",
              "      fill: #1967D2;\n",
              "      height: 32px;\n",
              "      padding: 0 0 0 0;\n",
              "      width: 32px;\n",
              "    }\n",
              "\n",
              "    .colab-df-convert:hover {\n",
              "      background-color: #E2EBFA;\n",
              "      box-shadow: 0px 1px 2px rgba(60, 64, 67, 0.3), 0px 1px 3px 1px rgba(60, 64, 67, 0.15);\n",
              "      fill: #174EA6;\n",
              "    }\n",
              "\n",
              "    [theme=dark] .colab-df-convert {\n",
              "      background-color: #3B4455;\n",
              "      fill: #D2E3FC;\n",
              "    }\n",
              "\n",
              "    [theme=dark] .colab-df-convert:hover {\n",
              "      background-color: #434B5C;\n",
              "      box-shadow: 0px 1px 3px 1px rgba(0, 0, 0, 0.15);\n",
              "      filter: drop-shadow(0px 1px 2px rgba(0, 0, 0, 0.3));\n",
              "      fill: #FFFFFF;\n",
              "    }\n",
              "  </style>\n",
              "\n",
              "      <script>\n",
              "        const buttonEl =\n",
              "          document.querySelector('#df-c7b998ee-9298-451a-9548-54a2f44a3cae button.colab-df-convert');\n",
              "        buttonEl.style.display =\n",
              "          google.colab.kernel.accessAllowed ? 'block' : 'none';\n",
              "\n",
              "        async function convertToInteractive(key) {\n",
              "          const element = document.querySelector('#df-c7b998ee-9298-451a-9548-54a2f44a3cae');\n",
              "          const dataTable =\n",
              "            await google.colab.kernel.invokeFunction('convertToInteractive',\n",
              "                                                     [key], {});\n",
              "          if (!dataTable) return;\n",
              "\n",
              "          const docLinkHtml = 'Like what you see? Visit the ' +\n",
              "            '<a target=\"_blank\" href=https://colab.research.google.com/notebooks/data_table.ipynb>data table notebook</a>'\n",
              "            + ' to learn more about interactive tables.';\n",
              "          element.innerHTML = '';\n",
              "          dataTable['output_type'] = 'display_data';\n",
              "          await google.colab.output.renderOutput(dataTable, element);\n",
              "          const docLink = document.createElement('div');\n",
              "          docLink.innerHTML = docLinkHtml;\n",
              "          element.appendChild(docLink);\n",
              "        }\n",
              "      </script>\n",
              "    </div>\n",
              "  </div>\n",
              "  "
            ]
          },
          "metadata": {},
          "execution_count": 18
        }
      ]
    },
    {
      "cell_type": "code",
      "source": [
        "Dataset_1['inputs'] = Dataset_1['inputs'].apply(lambda wrd: ''.join(wrd))\n",
        "Dataset_1"
      ],
      "metadata": {
        "colab": {
          "base_uri": "https://localhost:8080/",
          "height": 424
        },
        "id": "mjMhxDGF_uVb",
        "outputId": "79999713-5125-4718-d867-e92ec4ae6001"
      },
      "execution_count": 19,
      "outputs": [
        {
          "output_type": "execute_result",
          "data": {
            "text/plain": [
              "                                        inputs     Intent\n",
              "0                                           hi   Greeting\n",
              "1                                     hi there   Greeting\n",
              "2                                         hola   Greeting\n",
              "3                                        hello   Greeting\n",
              "4                                  hello there   Greeting\n",
              "..                                         ...        ...\n",
              "138         can you prove you have a conscious  SelfAware\n",
              "139     can you prove you are selfaware please  SelfAware\n",
              "140    can you prove you are self aware please  SelfAware\n",
              "141  can you prove you have a conscious please  SelfAware\n",
              "142                 prove you have a conscious  SelfAware\n",
              "\n",
              "[143 rows x 2 columns]"
            ],
            "text/html": [
              "\n",
              "  <div id=\"df-5cf24eea-f692-451b-bd4f-383f2d347834\">\n",
              "    <div class=\"colab-df-container\">\n",
              "      <div>\n",
              "<style scoped>\n",
              "    .dataframe tbody tr th:only-of-type {\n",
              "        vertical-align: middle;\n",
              "    }\n",
              "\n",
              "    .dataframe tbody tr th {\n",
              "        vertical-align: top;\n",
              "    }\n",
              "\n",
              "    .dataframe thead th {\n",
              "        text-align: right;\n",
              "    }\n",
              "</style>\n",
              "<table border=\"1\" class=\"dataframe\">\n",
              "  <thead>\n",
              "    <tr style=\"text-align: right;\">\n",
              "      <th></th>\n",
              "      <th>inputs</th>\n",
              "      <th>Intent</th>\n",
              "    </tr>\n",
              "  </thead>\n",
              "  <tbody>\n",
              "    <tr>\n",
              "      <th>0</th>\n",
              "      <td>hi</td>\n",
              "      <td>Greeting</td>\n",
              "    </tr>\n",
              "    <tr>\n",
              "      <th>1</th>\n",
              "      <td>hi there</td>\n",
              "      <td>Greeting</td>\n",
              "    </tr>\n",
              "    <tr>\n",
              "      <th>2</th>\n",
              "      <td>hola</td>\n",
              "      <td>Greeting</td>\n",
              "    </tr>\n",
              "    <tr>\n",
              "      <th>3</th>\n",
              "      <td>hello</td>\n",
              "      <td>Greeting</td>\n",
              "    </tr>\n",
              "    <tr>\n",
              "      <th>4</th>\n",
              "      <td>hello there</td>\n",
              "      <td>Greeting</td>\n",
              "    </tr>\n",
              "    <tr>\n",
              "      <th>...</th>\n",
              "      <td>...</td>\n",
              "      <td>...</td>\n",
              "    </tr>\n",
              "    <tr>\n",
              "      <th>138</th>\n",
              "      <td>can you prove you have a conscious</td>\n",
              "      <td>SelfAware</td>\n",
              "    </tr>\n",
              "    <tr>\n",
              "      <th>139</th>\n",
              "      <td>can you prove you are selfaware please</td>\n",
              "      <td>SelfAware</td>\n",
              "    </tr>\n",
              "    <tr>\n",
              "      <th>140</th>\n",
              "      <td>can you prove you are self aware please</td>\n",
              "      <td>SelfAware</td>\n",
              "    </tr>\n",
              "    <tr>\n",
              "      <th>141</th>\n",
              "      <td>can you prove you have a conscious please</td>\n",
              "      <td>SelfAware</td>\n",
              "    </tr>\n",
              "    <tr>\n",
              "      <th>142</th>\n",
              "      <td>prove you have a conscious</td>\n",
              "      <td>SelfAware</td>\n",
              "    </tr>\n",
              "  </tbody>\n",
              "</table>\n",
              "<p>143 rows × 2 columns</p>\n",
              "</div>\n",
              "      <button class=\"colab-df-convert\" onclick=\"convertToInteractive('df-5cf24eea-f692-451b-bd4f-383f2d347834')\"\n",
              "              title=\"Convert this dataframe to an interactive table.\"\n",
              "              style=\"display:none;\">\n",
              "        \n",
              "  <svg xmlns=\"http://www.w3.org/2000/svg\" height=\"24px\"viewBox=\"0 0 24 24\"\n",
              "       width=\"24px\">\n",
              "    <path d=\"M0 0h24v24H0V0z\" fill=\"none\"/>\n",
              "    <path d=\"M18.56 5.44l.94 2.06.94-2.06 2.06-.94-2.06-.94-.94-2.06-.94 2.06-2.06.94zm-11 1L8.5 8.5l.94-2.06 2.06-.94-2.06-.94L8.5 2.5l-.94 2.06-2.06.94zm10 10l.94 2.06.94-2.06 2.06-.94-2.06-.94-.94-2.06-.94 2.06-2.06.94z\"/><path d=\"M17.41 7.96l-1.37-1.37c-.4-.4-.92-.59-1.43-.59-.52 0-1.04.2-1.43.59L10.3 9.45l-7.72 7.72c-.78.78-.78 2.05 0 2.83L4 21.41c.39.39.9.59 1.41.59.51 0 1.02-.2 1.41-.59l7.78-7.78 2.81-2.81c.8-.78.8-2.07 0-2.86zM5.41 20L4 18.59l7.72-7.72 1.47 1.35L5.41 20z\"/>\n",
              "  </svg>\n",
              "      </button>\n",
              "      \n",
              "  <style>\n",
              "    .colab-df-container {\n",
              "      display:flex;\n",
              "      flex-wrap:wrap;\n",
              "      gap: 12px;\n",
              "    }\n",
              "\n",
              "    .colab-df-convert {\n",
              "      background-color: #E8F0FE;\n",
              "      border: none;\n",
              "      border-radius: 50%;\n",
              "      cursor: pointer;\n",
              "      display: none;\n",
              "      fill: #1967D2;\n",
              "      height: 32px;\n",
              "      padding: 0 0 0 0;\n",
              "      width: 32px;\n",
              "    }\n",
              "\n",
              "    .colab-df-convert:hover {\n",
              "      background-color: #E2EBFA;\n",
              "      box-shadow: 0px 1px 2px rgba(60, 64, 67, 0.3), 0px 1px 3px 1px rgba(60, 64, 67, 0.15);\n",
              "      fill: #174EA6;\n",
              "    }\n",
              "\n",
              "    [theme=dark] .colab-df-convert {\n",
              "      background-color: #3B4455;\n",
              "      fill: #D2E3FC;\n",
              "    }\n",
              "\n",
              "    [theme=dark] .colab-df-convert:hover {\n",
              "      background-color: #434B5C;\n",
              "      box-shadow: 0px 1px 3px 1px rgba(0, 0, 0, 0.15);\n",
              "      filter: drop-shadow(0px 1px 2px rgba(0, 0, 0, 0.3));\n",
              "      fill: #FFFFFF;\n",
              "    }\n",
              "  </style>\n",
              "\n",
              "      <script>\n",
              "        const buttonEl =\n",
              "          document.querySelector('#df-5cf24eea-f692-451b-bd4f-383f2d347834 button.colab-df-convert');\n",
              "        buttonEl.style.display =\n",
              "          google.colab.kernel.accessAllowed ? 'block' : 'none';\n",
              "\n",
              "        async function convertToInteractive(key) {\n",
              "          const element = document.querySelector('#df-5cf24eea-f692-451b-bd4f-383f2d347834');\n",
              "          const dataTable =\n",
              "            await google.colab.kernel.invokeFunction('convertToInteractive',\n",
              "                                                     [key], {});\n",
              "          if (!dataTable) return;\n",
              "\n",
              "          const docLinkHtml = 'Like what you see? Visit the ' +\n",
              "            '<a target=\"_blank\" href=https://colab.research.google.com/notebooks/data_table.ipynb>data table notebook</a>'\n",
              "            + ' to learn more about interactive tables.';\n",
              "          element.innerHTML = '';\n",
              "          dataTable['output_type'] = 'display_data';\n",
              "          await google.colab.output.renderOutput(dataTable, element);\n",
              "          const docLink = document.createElement('div');\n",
              "          docLink.innerHTML = docLinkHtml;\n",
              "          element.appendChild(docLink);\n",
              "        }\n",
              "      </script>\n",
              "    </div>\n",
              "  </div>\n",
              "  "
            ]
          },
          "metadata": {},
          "execution_count": 19
        }
      ]
    },
    {
      "cell_type": "code",
      "source": [
        "Dataset_1.info()"
      ],
      "metadata": {
        "colab": {
          "base_uri": "https://localhost:8080/"
        },
        "id": "_12tWJqM7BXC",
        "outputId": "579d64ad-f7bb-44f2-f96c-b57ecc2b597f"
      },
      "execution_count": 20,
      "outputs": [
        {
          "output_type": "stream",
          "name": "stdout",
          "text": [
            "<class 'pandas.core.frame.DataFrame'>\n",
            "RangeIndex: 143 entries, 0 to 142\n",
            "Data columns (total 2 columns):\n",
            " #   Column  Non-Null Count  Dtype \n",
            "---  ------  --------------  ----- \n",
            " 0   inputs  143 non-null    object\n",
            " 1   Intent  143 non-null    object\n",
            "dtypes: object(2)\n",
            "memory usage: 2.4+ KB\n"
          ]
        }
      ]
    },
    {
      "cell_type": "code",
      "source": [
        "Dataset_1.describe()"
      ],
      "metadata": {
        "colab": {
          "base_uri": "https://localhost:8080/",
          "height": 175
        },
        "id": "8icRVDnA7bDk",
        "outputId": "376dfed5-0f24-4841-f6a3-69b729e86405"
      },
      "execution_count": 21,
      "outputs": [
        {
          "output_type": "execute_result",
          "data": {
            "text/plain": [
              "                       inputs                    Intent\n",
              "count                     143                       143\n",
              "unique                    142                        22\n",
              "top     your real name please  CourtesyGreetingResponse\n",
              "freq                        2                         8"
            ],
            "text/html": [
              "\n",
              "  <div id=\"df-473804e7-1c9f-4b0f-af32-8cc560f3c21c\">\n",
              "    <div class=\"colab-df-container\">\n",
              "      <div>\n",
              "<style scoped>\n",
              "    .dataframe tbody tr th:only-of-type {\n",
              "        vertical-align: middle;\n",
              "    }\n",
              "\n",
              "    .dataframe tbody tr th {\n",
              "        vertical-align: top;\n",
              "    }\n",
              "\n",
              "    .dataframe thead th {\n",
              "        text-align: right;\n",
              "    }\n",
              "</style>\n",
              "<table border=\"1\" class=\"dataframe\">\n",
              "  <thead>\n",
              "    <tr style=\"text-align: right;\">\n",
              "      <th></th>\n",
              "      <th>inputs</th>\n",
              "      <th>Intent</th>\n",
              "    </tr>\n",
              "  </thead>\n",
              "  <tbody>\n",
              "    <tr>\n",
              "      <th>count</th>\n",
              "      <td>143</td>\n",
              "      <td>143</td>\n",
              "    </tr>\n",
              "    <tr>\n",
              "      <th>unique</th>\n",
              "      <td>142</td>\n",
              "      <td>22</td>\n",
              "    </tr>\n",
              "    <tr>\n",
              "      <th>top</th>\n",
              "      <td>your real name please</td>\n",
              "      <td>CourtesyGreetingResponse</td>\n",
              "    </tr>\n",
              "    <tr>\n",
              "      <th>freq</th>\n",
              "      <td>2</td>\n",
              "      <td>8</td>\n",
              "    </tr>\n",
              "  </tbody>\n",
              "</table>\n",
              "</div>\n",
              "      <button class=\"colab-df-convert\" onclick=\"convertToInteractive('df-473804e7-1c9f-4b0f-af32-8cc560f3c21c')\"\n",
              "              title=\"Convert this dataframe to an interactive table.\"\n",
              "              style=\"display:none;\">\n",
              "        \n",
              "  <svg xmlns=\"http://www.w3.org/2000/svg\" height=\"24px\"viewBox=\"0 0 24 24\"\n",
              "       width=\"24px\">\n",
              "    <path d=\"M0 0h24v24H0V0z\" fill=\"none\"/>\n",
              "    <path d=\"M18.56 5.44l.94 2.06.94-2.06 2.06-.94-2.06-.94-.94-2.06-.94 2.06-2.06.94zm-11 1L8.5 8.5l.94-2.06 2.06-.94-2.06-.94L8.5 2.5l-.94 2.06-2.06.94zm10 10l.94 2.06.94-2.06 2.06-.94-2.06-.94-.94-2.06-.94 2.06-2.06.94z\"/><path d=\"M17.41 7.96l-1.37-1.37c-.4-.4-.92-.59-1.43-.59-.52 0-1.04.2-1.43.59L10.3 9.45l-7.72 7.72c-.78.78-.78 2.05 0 2.83L4 21.41c.39.39.9.59 1.41.59.51 0 1.02-.2 1.41-.59l7.78-7.78 2.81-2.81c.8-.78.8-2.07 0-2.86zM5.41 20L4 18.59l7.72-7.72 1.47 1.35L5.41 20z\"/>\n",
              "  </svg>\n",
              "      </button>\n",
              "      \n",
              "  <style>\n",
              "    .colab-df-container {\n",
              "      display:flex;\n",
              "      flex-wrap:wrap;\n",
              "      gap: 12px;\n",
              "    }\n",
              "\n",
              "    .colab-df-convert {\n",
              "      background-color: #E8F0FE;\n",
              "      border: none;\n",
              "      border-radius: 50%;\n",
              "      cursor: pointer;\n",
              "      display: none;\n",
              "      fill: #1967D2;\n",
              "      height: 32px;\n",
              "      padding: 0 0 0 0;\n",
              "      width: 32px;\n",
              "    }\n",
              "\n",
              "    .colab-df-convert:hover {\n",
              "      background-color: #E2EBFA;\n",
              "      box-shadow: 0px 1px 2px rgba(60, 64, 67, 0.3), 0px 1px 3px 1px rgba(60, 64, 67, 0.15);\n",
              "      fill: #174EA6;\n",
              "    }\n",
              "\n",
              "    [theme=dark] .colab-df-convert {\n",
              "      background-color: #3B4455;\n",
              "      fill: #D2E3FC;\n",
              "    }\n",
              "\n",
              "    [theme=dark] .colab-df-convert:hover {\n",
              "      background-color: #434B5C;\n",
              "      box-shadow: 0px 1px 3px 1px rgba(0, 0, 0, 0.15);\n",
              "      filter: drop-shadow(0px 1px 2px rgba(0, 0, 0, 0.3));\n",
              "      fill: #FFFFFF;\n",
              "    }\n",
              "  </style>\n",
              "\n",
              "      <script>\n",
              "        const buttonEl =\n",
              "          document.querySelector('#df-473804e7-1c9f-4b0f-af32-8cc560f3c21c button.colab-df-convert');\n",
              "        buttonEl.style.display =\n",
              "          google.colab.kernel.accessAllowed ? 'block' : 'none';\n",
              "\n",
              "        async function convertToInteractive(key) {\n",
              "          const element = document.querySelector('#df-473804e7-1c9f-4b0f-af32-8cc560f3c21c');\n",
              "          const dataTable =\n",
              "            await google.colab.kernel.invokeFunction('convertToInteractive',\n",
              "                                                     [key], {});\n",
              "          if (!dataTable) return;\n",
              "\n",
              "          const docLinkHtml = 'Like what you see? Visit the ' +\n",
              "            '<a target=\"_blank\" href=https://colab.research.google.com/notebooks/data_table.ipynb>data table notebook</a>'\n",
              "            + ' to learn more about interactive tables.';\n",
              "          element.innerHTML = '';\n",
              "          dataTable['output_type'] = 'display_data';\n",
              "          await google.colab.output.renderOutput(dataTable, element);\n",
              "          const docLink = document.createElement('div');\n",
              "          docLink.innerHTML = docLinkHtml;\n",
              "          element.appendChild(docLink);\n",
              "        }\n",
              "      </script>\n",
              "    </div>\n",
              "  </div>\n",
              "  "
            ]
          },
          "metadata": {},
          "execution_count": 21
        }
      ]
    },
    {
      "cell_type": "code",
      "source": [
        "Dataset_1['Intent'].value_counts()"
      ],
      "metadata": {
        "colab": {
          "base_uri": "https://localhost:8080/"
        },
        "id": "28IEjdC17e3W",
        "outputId": "2732f08b-e59e-452c-b1ff-d310a277cd0b"
      },
      "execution_count": 22,
      "outputs": [
        {
          "output_type": "execute_result",
          "data": {
            "text/plain": [
              "CourtesyGreetingResponse    8\n",
              "GreetingResponse            8\n",
              "Greeting                    7\n",
              "NotTalking2U                7\n",
              "PodBayDoorResponse          7\n",
              "PodBayDoor                  7\n",
              "Clever                      7\n",
              "Shutup                      7\n",
              "TimeQuery                   7\n",
              "RealNameQuery               7\n",
              "CurrentHumanQuery           7\n",
              "CourtesyGreeting            7\n",
              "SelfAware                   7\n",
              "Thanks                      6\n",
              "UnderstandQuery             6\n",
              "CourtesyGoodBye             6\n",
              "WhoAmI                      6\n",
              "NameQuery                   6\n",
              "Gossip                      6\n",
              "Jokes                       6\n",
              "Swearing                    4\n",
              "GoodBye                     4\n",
              "Name: Intent, dtype: int64"
            ]
          },
          "metadata": {},
          "execution_count": 22
        }
      ]
    },
    {
      "cell_type": "code",
      "source": [
        "plt.figure(figsize=(50,10))\n",
        "sns.countplot(data= Dataset_1, x=Dataset_1['Intent'], palette=\"Set1\").set(title=\"Intent\");"
      ],
      "metadata": {
        "colab": {
          "base_uri": "https://localhost:8080/",
          "height": 483
        },
        "id": "frSq8FTk7qHh",
        "outputId": "96b804a6-9fc8-47a3-b6ca-b1fd15eb122d"
      },
      "execution_count": 23,
      "outputs": [
        {
          "output_type": "display_data",
          "data": {
            "text/plain": [
              "<Figure size 3600x720 with 1 Axes>"
            ],
            "image/png": "[encoded data removed]"
          },
          "metadata": {
            "needs_background": "light"
          }
        }
      ]
    },
    {
      "cell_type": "code",
      "source": [
        "Dataset_1.shape"
      ],
      "metadata": {
        "colab": {
          "base_uri": "https://localhost:8080/"
        },
        "id": "Wb-lopjDiEeO",
        "outputId": "a2644b6a-a23e-4489-d15b-e20a98da7250"
      },
      "execution_count": 24,
      "outputs": [
        {
          "output_type": "execute_result",
          "data": {
            "text/plain": [
              "(143, 2)"
            ]
          },
          "metadata": {},
          "execution_count": 24
        }
      ]
    },
    {
      "cell_type": "code",
      "source": [
        "# from textblob.en import sentiment\n",
        "# from textblob import TextBlob\n",
        "# def get_sentiment(text):\n",
        "#   blob=TextBlob(text)\n",
        "#   sentiment=blob.sentiment.polarity\n",
        "\n",
        "#   if sentiment > 0 :\n",
        "#     result='Positive'\n",
        "\n",
        "#   elif sentiment < 0 :\n",
        "#     result='Negative'\n",
        "\n",
        "#   else:\n",
        "#     result='Neutral'\n",
        "#   return(result)"
      ],
      "metadata": {
        "id": "_z8YLWNVefYB"
      },
      "execution_count": 25,
      "outputs": []
    },
    {
      "cell_type": "code",
      "source": [
        "# print(get_sentiment(\"I love coding\"))"
      ],
      "metadata": {
        "id": "vucNKRTrnhhR"
      },
      "execution_count": 26,
      "outputs": []
    },
    {
      "cell_type": "code",
      "source": [
        "# Dataset_1['Sentiment']=Dataset_1['inputs'].apply(get_sentiment)"
      ],
      "metadata": {
        "id": "XvTEt0FOegHn"
      },
      "execution_count": 27,
      "outputs": []
    },
    {
      "cell_type": "code",
      "source": [
        "#Dataset_1"
      ],
      "metadata": {
        "id": "teau9-55egQ9"
      },
      "execution_count": 28,
      "outputs": []
    },
    {
      "cell_type": "code",
      "source": [
        "# (Dataset_1['Sentiment'].value_counts()) / len(Dataset_1) * 100"
      ],
      "metadata": {
        "id": "3sYutNz7opSf"
      },
      "execution_count": 29,
      "outputs": []
    },
    {
      "cell_type": "code",
      "source": [
        "#(Dataset_1['Intent'].value_counts()) / len(Dataset_1) * 100"
      ],
      "metadata": {
        "id": "Ypm7vCcRcAiY"
      },
      "execution_count": 30,
      "outputs": []
    },
    {
      "cell_type": "code",
      "source": [
        "# Dataset_1=Dataset_1.groupby('Intent', group_keys=False).apply(lambda x: x.sample(min(len(x), 2)))\n",
        "# Dataset_1"
      ],
      "metadata": {
        "id": "7_rAm11ifRND"
      },
      "execution_count": 31,
      "outputs": []
    },
    {
      "cell_type": "code",
      "source": [
        "#Dataset_1.shape"
      ],
      "metadata": {
        "id": "sqXZ7Evwh8TO"
      },
      "execution_count": 32,
      "outputs": []
    },
    {
      "cell_type": "code",
      "source": [
        "#(Dataset_1['Intent'].value_counts()) / len(Dataset_1) * 100"
      ],
      "metadata": {
        "id": "3SXOufKFfjtq"
      },
      "execution_count": 33,
      "outputs": []
    },
    {
      "cell_type": "code",
      "source": [
        "#Shuffling\n",
        "Dataset_1=Dataset_1.sample(frac = 1)\n",
        "Dataset_1"
      ],
      "metadata": {
        "colab": {
          "base_uri": "https://localhost:8080/",
          "height": 424
        },
        "id": "AoW2AyrhhNJR",
        "outputId": "a95d7710-b9b3-4d79-f17f-8f49c683f18a"
      },
      "execution_count": 34,
      "outputs": [
        {
          "output_type": "execute_result",
          "data": {
            "text/plain": [
              "                              inputs                    Intent\n",
              "93                     thank you bye           CourtesyGoodBye\n",
              "28           great thanks i am bella  CourtesyGreetingResponse\n",
              "136  can you prove you are selfaware                 SelfAware\n",
              "91                        thanks bye           CourtesyGoodBye\n",
              "96                   thanks good bye           CourtesyGoodBye\n",
              "..                               ...                       ...\n",
              "114                       any gossip                    Gossip\n",
              "88                             adios                   GoodBye\n",
              "68        wasnt communicating to you              NotTalking2U\n",
              "20           hope you are doing well          CourtesyGreeting\n",
              "110        i am bored gossip with me                    Gossip\n",
              "\n",
              "[143 rows x 2 columns]"
            ],
            "text/html": [
              "\n",
              "  <div id=\"df-7a920973-8045-4205-9634-59ee449d4280\">\n",
              "    <div class=\"colab-df-container\">\n",
              "      <div>\n",
              "<style scoped>\n",
              "    .dataframe tbody tr th:only-of-type {\n",
              "        vertical-align: middle;\n",
              "    }\n",
              "\n",
              "    .dataframe tbody tr th {\n",
              "        vertical-align: top;\n",
              "    }\n",
              "\n",
              "    .dataframe thead th {\n",
              "        text-align: right;\n",
              "    }\n",
              "</style>\n",
              "<table border=\"1\" class=\"dataframe\">\n",
              "  <thead>\n",
              "    <tr style=\"text-align: right;\">\n",
              "      <th></th>\n",
              "      <th>inputs</th>\n",
              "      <th>Intent</th>\n",
              "    </tr>\n",
              "  </thead>\n",
              "  <tbody>\n",
              "    <tr>\n",
              "      <th>93</th>\n",
              "      <td>thank you bye</td>\n",
              "      <td>CourtesyGoodBye</td>\n",
              "    </tr>\n",
              "    <tr>\n",
              "      <th>28</th>\n",
              "      <td>great thanks i am bella</td>\n",
              "      <td>CourtesyGreetingResponse</td>\n",
              "    </tr>\n",
              "    <tr>\n",
              "      <th>136</th>\n",
              "      <td>can you prove you are selfaware</td>\n",
              "      <td>SelfAware</td>\n",
              "    </tr>\n",
              "    <tr>\n",
              "      <th>91</th>\n",
              "      <td>thanks bye</td>\n",
              "      <td>CourtesyGoodBye</td>\n",
              "    </tr>\n",
              "    <tr>\n",
              "      <th>96</th>\n",
              "      <td>thanks good bye</td>\n",
              "      <td>CourtesyGoodBye</td>\n",
              "    </tr>\n",
              "    <tr>\n",
              "      <th>...</th>\n",
              "      <td>...</td>\n",
              "      <td>...</td>\n",
              "    </tr>\n",
              "    <tr>\n",
              "      <th>114</th>\n",
              "      <td>any gossip</td>\n",
              "      <td>Gossip</td>\n",
              "    </tr>\n",
              "    <tr>\n",
              "      <th>88</th>\n",
              "      <td>adios</td>\n",
              "      <td>GoodBye</td>\n",
              "    </tr>\n",
              "    <tr>\n",
              "      <th>68</th>\n",
              "      <td>wasnt communicating to you</td>\n",
              "      <td>NotTalking2U</td>\n",
              "    </tr>\n",
              "    <tr>\n",
              "      <th>20</th>\n",
              "      <td>hope you are doing well</td>\n",
              "      <td>CourtesyGreeting</td>\n",
              "    </tr>\n",
              "    <tr>\n",
              "      <th>110</th>\n",
              "      <td>i am bored gossip with me</td>\n",
              "      <td>Gossip</td>\n",
              "    </tr>\n",
              "  </tbody>\n",
              "</table>\n",
              "<p>143 rows × 2 columns</p>\n",
              "</div>\n",
              "      <button class=\"colab-df-convert\" onclick=\"convertToInteractive('df-7a920973-8045-4205-9634-59ee449d4280')\"\n",
              "              title=\"Convert this dataframe to an interactive table.\"\n",
              "              style=\"display:none;\">\n",
              "        \n",
              "  <svg xmlns=\"http://www.w3.org/2000/svg\" height=\"24px\"viewBox=\"0 0 24 24\"\n",
              "       width=\"24px\">\n",
              "    <path d=\"M0 0h24v24H0V0z\" fill=\"none\"/>\n",
              "    <path d=\"M18.56 5.44l.94 2.06.94-2.06 2.06-.94-2.06-.94-.94-2.06-.94 2.06-2.06.94zm-11 1L8.5 8.5l.94-2.06 2.06-.94-2.06-.94L8.5 2.5l-.94 2.06-2.06.94zm10 10l.94 2.06.94-2.06 2.06-.94-2.06-.94-.94-2.06-.94 2.06-2.06.94z\"/><path d=\"M17.41 7.96l-1.37-1.37c-.4-.4-.92-.59-1.43-.59-.52 0-1.04.2-1.43.59L10.3 9.45l-7.72 7.72c-.78.78-.78 2.05 0 2.83L4 21.41c.39.39.9.59 1.41.59.51 0 1.02-.2 1.41-.59l7.78-7.78 2.81-2.81c.8-.78.8-2.07 0-2.86zM5.41 20L4 18.59l7.72-7.72 1.47 1.35L5.41 20z\"/>\n",
              "  </svg>\n",
              "      </button>\n",
              "      \n",
              "  <style>\n",
              "    .colab-df-container {\n",
              "      display:flex;\n",
              "      flex-wrap:wrap;\n",
              "      gap: 12px;\n",
              "    }\n",
              "\n",
              "    .colab-df-convert {\n",
              "      background-color: #E8F0FE;\n",
              "      border: none;\n",
              "      border-radius: 50%;\n",
              "      cursor: pointer;\n",
              "      display: none;\n",
              "      fill: #1967D2;\n",
              "      height: 32px;\n",
              "      padding: 0 0 0 0;\n",
              "      width: 32px;\n",
              "    }\n",
              "\n",
              "    .colab-df-convert:hover {\n",
              "      background-color: #E2EBFA;\n",
              "      box-shadow: 0px 1px 2px rgba(60, 64, 67, 0.3), 0px 1px 3px 1px rgba(60, 64, 67, 0.15);\n",
              "      fill: #174EA6;\n",
              "    }\n",
              "\n",
              "    [theme=dark] .colab-df-convert {\n",
              "      background-color: #3B4455;\n",
              "      fill: #D2E3FC;\n",
              "    }\n",
              "\n",
              "    [theme=dark] .colab-df-convert:hover {\n",
              "      background-color: #434B5C;\n",
              "      box-shadow: 0px 1px 3px 1px rgba(0, 0, 0, 0.15);\n",
              "      filter: drop-shadow(0px 1px 2px rgba(0, 0, 0, 0.3));\n",
              "      fill: #FFFFFF;\n",
              "    }\n",
              "  </style>\n",
              "\n",
              "      <script>\n",
              "        const buttonEl =\n",
              "          document.querySelector('#df-7a920973-8045-4205-9634-59ee449d4280 button.colab-df-convert');\n",
              "        buttonEl.style.display =\n",
              "          google.colab.kernel.accessAllowed ? 'block' : 'none';\n",
              "\n",
              "        async function convertToInteractive(key) {\n",
              "          const element = document.querySelector('#df-7a920973-8045-4205-9634-59ee449d4280');\n",
              "          const dataTable =\n",
              "            await google.colab.kernel.invokeFunction('convertToInteractive',\n",
              "                                                     [key], {});\n",
              "          if (!dataTable) return;\n",
              "\n",
              "          const docLinkHtml = 'Like what you see? Visit the ' +\n",
              "            '<a target=\"_blank\" href=https://colab.research.google.com/notebooks/data_table.ipynb>data table notebook</a>'\n",
              "            + ' to learn more about interactive tables.';\n",
              "          element.innerHTML = '';\n",
              "          dataTable['output_type'] = 'display_data';\n",
              "          await google.colab.output.renderOutput(dataTable, element);\n",
              "          const docLink = document.createElement('div');\n",
              "          docLink.innerHTML = docLinkHtml;\n",
              "          element.appendChild(docLink);\n",
              "        }\n",
              "      </script>\n",
              "    </div>\n",
              "  </div>\n",
              "  "
            ]
          },
          "metadata": {},
          "execution_count": 34
        }
      ]
    },
    {
      "cell_type": "code",
      "source": [
        "def processing_json_dataset(dataset): #inputs and responses\n",
        "  tags = {}\n",
        "  inputs = []\n",
        "  responses=[]\n",
        "  for intent in dataset['intents']:\n",
        "    tags[intent['intent']]=intent['text']\n",
        "    for lines in intent['text']:\n",
        "      inputs.append(lines)\n",
        "      responses.append(intent['responses'])\n",
        "  return [tags, inputs, responses]"
      ],
      "metadata": {
        "id": "IwaCe0F92ojS"
      },
      "execution_count": 35,
      "outputs": []
    },
    {
      "cell_type": "code",
      "source": [
        "[tags, inputs, responses] = processing_json_dataset(dataset)"
      ],
      "metadata": {
        "id": "xBnn3m3N2ooL"
      },
      "execution_count": 36,
      "outputs": []
    },
    {
      "cell_type": "code",
      "source": [
        "Dataset_2 = pd.DataFrame({\"inputs\":inputs,\n",
        "                     \"responses\":responses})"
      ],
      "metadata": {
        "id": "OQBtpwBB2orX"
      },
      "execution_count": 37,
      "outputs": []
    },
    {
      "cell_type": "code",
      "source": [
        "Dataset_2"
      ],
      "metadata": {
        "colab": {
          "base_uri": "https://localhost:8080/",
          "height": 424
        },
        "id": "yjr43AYz2ov4",
        "outputId": "39dfe6f3-6378-451d-9a95-b9d17803f34c"
      },
      "execution_count": 38,
      "outputs": [
        {
          "output_type": "execute_result",
          "data": {
            "text/plain": [
              "                                        inputs  \\\n",
              "0                                           Hi   \n",
              "1                                     Hi there   \n",
              "2                                         Hola   \n",
              "3                                        Hello   \n",
              "4                                  Hello there   \n",
              "..                                         ...   \n",
              "138         Can you prove you have a conscious   \n",
              "139    Can you prove you are self-aware please   \n",
              "140    Can you prove you are self aware please   \n",
              "141  Can you prove you have a conscious please   \n",
              "142                 prove you have a conscious   \n",
              "\n",
              "                                             responses  \n",
              "0    [Hi human, please tell me your GeniSys user, H...  \n",
              "1    [Hi human, please tell me your GeniSys user, H...  \n",
              "2    [Hi human, please tell me your GeniSys user, H...  \n",
              "3    [Hi human, please tell me your GeniSys user, H...  \n",
              "4    [Hi human, please tell me your GeniSys user, H...  \n",
              "..                                                 ...  \n",
              "138  [That is an interesting question, can you prov...  \n",
              "139  [That is an interesting question, can you prov...  \n",
              "140  [That is an interesting question, can you prov...  \n",
              "141  [That is an interesting question, can you prov...  \n",
              "142  [That is an interesting question, can you prov...  \n",
              "\n",
              "[143 rows x 2 columns]"
            ],
            "text/html": [
              "\n",
              "  <div id=\"df-8482f7b1-1250-4d97-b341-9dc288b7660d\">\n",
              "    <div class=\"colab-df-container\">\n",
              "      <div>\n",
              "<style scoped>\n",
              "    .dataframe tbody tr th:only-of-type {\n",
              "        vertical-align: middle;\n",
              "    }\n",
              "\n",
              "    .dataframe tbody tr th {\n",
              "        vertical-align: top;\n",
              "    }\n",
              "\n",
              "    .dataframe thead th {\n",
              "        text-align: right;\n",
              "    }\n",
              "</style>\n",
              "<table border=\"1\" class=\"dataframe\">\n",
              "  <thead>\n",
              "    <tr style=\"text-align: right;\">\n",
              "      <th></th>\n",
              "      <th>inputs</th>\n",
              "      <th>responses</th>\n",
              "    </tr>\n",
              "  </thead>\n",
              "  <tbody>\n",
              "    <tr>\n",
              "      <th>0</th>\n",
              "      <td>Hi</td>\n",
              "      <td>[Hi human, please tell me your GeniSys user, H...</td>\n",
              "    </tr>\n",
              "    <tr>\n",
              "      <th>1</th>\n",
              "      <td>Hi there</td>\n",
              "      <td>[Hi human, please tell me your GeniSys user, H...</td>\n",
              "    </tr>\n",
              "    <tr>\n",
              "      <th>2</th>\n",
              "      <td>Hola</td>\n",
              "      <td>[Hi human, please tell me your GeniSys user, H...</td>\n",
              "    </tr>\n",
              "    <tr>\n",
              "      <th>3</th>\n",
              "      <td>Hello</td>\n",
              "      <td>[Hi human, please tell me your GeniSys user, H...</td>\n",
              "    </tr>\n",
              "    <tr>\n",
              "      <th>4</th>\n",
              "      <td>Hello there</td>\n",
              "      <td>[Hi human, please tell me your GeniSys user, H...</td>\n",
              "    </tr>\n",
              "    <tr>\n",
              "      <th>...</th>\n",
              "      <td>...</td>\n",
              "      <td>...</td>\n",
              "    </tr>\n",
              "    <tr>\n",
              "      <th>138</th>\n",
              "      <td>Can you prove you have a conscious</td>\n",
              "      <td>[That is an interesting question, can you prov...</td>\n",
              "    </tr>\n",
              "    <tr>\n",
              "      <th>139</th>\n",
              "      <td>Can you prove you are self-aware please</td>\n",
              "      <td>[That is an interesting question, can you prov...</td>\n",
              "    </tr>\n",
              "    <tr>\n",
              "      <th>140</th>\n",
              "      <td>Can you prove you are self aware please</td>\n",
              "      <td>[That is an interesting question, can you prov...</td>\n",
              "    </tr>\n",
              "    <tr>\n",
              "      <th>141</th>\n",
              "      <td>Can you prove you have a conscious please</td>\n",
              "      <td>[That is an interesting question, can you prov...</td>\n",
              "    </tr>\n",
              "    <tr>\n",
              "      <th>142</th>\n",
              "      <td>prove you have a conscious</td>\n",
              "      <td>[That is an interesting question, can you prov...</td>\n",
              "    </tr>\n",
              "  </tbody>\n",
              "</table>\n",
              "<p>143 rows × 2 columns</p>\n",
              "</div>\n",
              "      <button class=\"colab-df-convert\" onclick=\"convertToInteractive('df-8482f7b1-1250-4d97-b341-9dc288b7660d')\"\n",
              "              title=\"Convert this dataframe to an interactive table.\"\n",
              "              style=\"display:none;\">\n",
              "        \n",
              "  <svg xmlns=\"http://www.w3.org/2000/svg\" height=\"24px\"viewBox=\"0 0 24 24\"\n",
              "       width=\"24px\">\n",
              "    <path d=\"M0 0h24v24H0V0z\" fill=\"none\"/>\n",
              "    <path d=\"M18.56 5.44l.94 2.06.94-2.06 2.06-.94-2.06-.94-.94-2.06-.94 2.06-2.06.94zm-11 1L8.5 8.5l.94-2.06 2.06-.94-2.06-.94L8.5 2.5l-.94 2.06-2.06.94zm10 10l.94 2.06.94-2.06 2.06-.94-2.06-.94-.94-2.06-.94 2.06-2.06.94z\"/><path d=\"M17.41 7.96l-1.37-1.37c-.4-.4-.92-.59-1.43-.59-.52 0-1.04.2-1.43.59L10.3 9.45l-7.72 7.72c-.78.78-.78 2.05 0 2.83L4 21.41c.39.39.9.59 1.41.59.51 0 1.02-.2 1.41-.59l7.78-7.78 2.81-2.81c.8-.78.8-2.07 0-2.86zM5.41 20L4 18.59l7.72-7.72 1.47 1.35L5.41 20z\"/>\n",
              "  </svg>\n",
              "      </button>\n",
              "      \n",
              "  <style>\n",
              "    .colab-df-container {\n",
              "      display:flex;\n",
              "      flex-wrap:wrap;\n",
              "      gap: 12px;\n",
              "    }\n",
              "\n",
              "    .colab-df-convert {\n",
              "      background-color: #E8F0FE;\n",
              "      border: none;\n",
              "      border-radius: 50%;\n",
              "      cursor: pointer;\n",
              "      display: none;\n",
              "      fill: #1967D2;\n",
              "      height: 32px;\n",
              "      padding: 0 0 0 0;\n",
              "      width: 32px;\n",
              "    }\n",
              "\n",
              "    .colab-df-convert:hover {\n",
              "      background-color: #E2EBFA;\n",
              "      box-shadow: 0px 1px 2px rgba(60, 64, 67, 0.3), 0px 1px 3px 1px rgba(60, 64, 67, 0.15);\n",
              "      fill: #174EA6;\n",
              "    }\n",
              "\n",
              "    [theme=dark] .colab-df-convert {\n",
              "      background-color: #3B4455;\n",
              "      fill: #D2E3FC;\n",
              "    }\n",
              "\n",
              "    [theme=dark] .colab-df-convert:hover {\n",
              "      background-color: #434B5C;\n",
              "      box-shadow: 0px 1px 3px 1px rgba(0, 0, 0, 0.15);\n",
              "      filter: drop-shadow(0px 1px 2px rgba(0, 0, 0, 0.3));\n",
              "      fill: #FFFFFF;\n",
              "    }\n",
              "  </style>\n",
              "\n",
              "      <script>\n",
              "        const buttonEl =\n",
              "          document.querySelector('#df-8482f7b1-1250-4d97-b341-9dc288b7660d button.colab-df-convert');\n",
              "        buttonEl.style.display =\n",
              "          google.colab.kernel.accessAllowed ? 'block' : 'none';\n",
              "\n",
              "        async function convertToInteractive(key) {\n",
              "          const element = document.querySelector('#df-8482f7b1-1250-4d97-b341-9dc288b7660d');\n",
              "          const dataTable =\n",
              "            await google.colab.kernel.invokeFunction('convertToInteractive',\n",
              "                                                     [key], {});\n",
              "          if (!dataTable) return;\n",
              "\n",
              "          const docLinkHtml = 'Like what you see? Visit the ' +\n",
              "            '<a target=\"_blank\" href=https://colab.research.google.com/notebooks/data_table.ipynb>data table notebook</a>'\n",
              "            + ' to learn more about interactive tables.';\n",
              "          element.innerHTML = '';\n",
              "          dataTable['output_type'] = 'display_data';\n",
              "          await google.colab.output.renderOutput(dataTable, element);\n",
              "          const docLink = document.createElement('div');\n",
              "          docLink.innerHTML = docLinkHtml;\n",
              "          element.appendChild(docLink);\n",
              "        }\n",
              "      </script>\n",
              "    </div>\n",
              "  </div>\n",
              "  "
            ]
          },
          "metadata": {},
          "execution_count": 38
        }
      ]
    },
    {
      "cell_type": "code",
      "source": [
        "import string\n",
        "Dataset_2['inputs'] = Dataset_2['inputs'].apply(lambda sequence:  [ltrs.lower() for ltrs in sequence if ltrs not in string.punctuation])\n",
        "Dataset_2['responses'] = Dataset_2['responses'].apply(lambda sequence:  [ltrs.lower() for ltrs in sequence if ltrs not in string.punctuation])"
      ],
      "metadata": {
        "id": "qhqaqr1O2ozS"
      },
      "execution_count": 39,
      "outputs": []
    },
    {
      "cell_type": "code",
      "source": [
        "Dataset_2"
      ],
      "metadata": {
        "colab": {
          "base_uri": "https://localhost:8080/",
          "height": 424
        },
        "id": "H4hI7vy22o2u",
        "outputId": "59d150fe-1d8d-4a11-9907-a4bfe3addfcc"
      },
      "execution_count": 40,
      "outputs": [
        {
          "output_type": "execute_result",
          "data": {
            "text/plain": [
              "                                                inputs  \\\n",
              "0                                               [h, i]   \n",
              "1                             [h, i,  , t, h, e, r, e]   \n",
              "2                                         [h, o, l, a]   \n",
              "3                                      [h, e, l, l, o]   \n",
              "4                    [h, e, l, l, o,  , t, h, e, r, e]   \n",
              "..                                                 ...   \n",
              "138  [c, a, n,  , y, o, u,  , p, r, o, v, e,  , y, ...   \n",
              "139  [c, a, n,  , y, o, u,  , p, r, o, v, e,  , y, ...   \n",
              "140  [c, a, n,  , y, o, u,  , p, r, o, v, e,  , y, ...   \n",
              "141  [c, a, n,  , y, o, u,  , p, r, o, v, e,  , y, ...   \n",
              "142  [p, r, o, v, e,  , y, o, u,  , h, a, v, e,  , ...   \n",
              "\n",
              "                                             responses  \n",
              "0    [hi human, please tell me your genisys user, h...  \n",
              "1    [hi human, please tell me your genisys user, h...  \n",
              "2    [hi human, please tell me your genisys user, h...  \n",
              "3    [hi human, please tell me your genisys user, h...  \n",
              "4    [hi human, please tell me your genisys user, h...  \n",
              "..                                                 ...  \n",
              "138  [that is an interesting question, can you prov...  \n",
              "139  [that is an interesting question, can you prov...  \n",
              "140  [that is an interesting question, can you prov...  \n",
              "141  [that is an interesting question, can you prov...  \n",
              "142  [that is an interesting question, can you prov...  \n",
              "\n",
              "[143 rows x 2 columns]"
            ],
            "text/html": [
              "\n",
              "  <div id=\"df-38d8ed97-0dc8-48f9-a9fd-f0aebe05b5ac\">\n",
              "    <div class=\"colab-df-container\">\n",
              "      <div>\n",
              "<style scoped>\n",
              "    .dataframe tbody tr th:only-of-type {\n",
              "        vertical-align: middle;\n",
              "    }\n",
              "\n",
              "    .dataframe tbody tr th {\n",
              "        vertical-align: top;\n",
              "    }\n",
              "\n",
              "    .dataframe thead th {\n",
              "        text-align: right;\n",
              "    }\n",
              "</style>\n",
              "<table border=\"1\" class=\"dataframe\">\n",
              "  <thead>\n",
              "    <tr style=\"text-align: right;\">\n",
              "      <th></th>\n",
              "      <th>inputs</th>\n",
              "      <th>responses</th>\n",
              "    </tr>\n",
              "  </thead>\n",
              "  <tbody>\n",
              "    <tr>\n",
              "      <th>0</th>\n",
              "      <td>[h, i]</td>\n",
              "      <td>[hi human, please tell me your genisys user, h...</td>\n",
              "    </tr>\n",
              "    <tr>\n",
              "      <th>1</th>\n",
              "      <td>[h, i,  , t, h, e, r, e]</td>\n",
              "      <td>[hi human, please tell me your genisys user, h...</td>\n",
              "    </tr>\n",
              "    <tr>\n",
              "      <th>2</th>\n",
              "      <td>[h, o, l, a]</td>\n",
              "      <td>[hi human, please tell me your genisys user, h...</td>\n",
              "    </tr>\n",
              "    <tr>\n",
              "      <th>3</th>\n",
              "      <td>[h, e, l, l, o]</td>\n",
              "      <td>[hi human, please tell me your genisys user, h...</td>\n",
              "    </tr>\n",
              "    <tr>\n",
              "      <th>4</th>\n",
              "      <td>[h, e, l, l, o,  , t, h, e, r, e]</td>\n",
              "      <td>[hi human, please tell me your genisys user, h...</td>\n",
              "    </tr>\n",
              "    <tr>\n",
              "      <th>...</th>\n",
              "      <td>...</td>\n",
              "      <td>...</td>\n",
              "    </tr>\n",
              "    <tr>\n",
              "      <th>138</th>\n",
              "      <td>[c, a, n,  , y, o, u,  , p, r, o, v, e,  , y, ...</td>\n",
              "      <td>[that is an interesting question, can you prov...</td>\n",
              "    </tr>\n",
              "    <tr>\n",
              "      <th>139</th>\n",
              "      <td>[c, a, n,  , y, o, u,  , p, r, o, v, e,  , y, ...</td>\n",
              "      <td>[that is an interesting question, can you prov...</td>\n",
              "    </tr>\n",
              "    <tr>\n",
              "      <th>140</th>\n",
              "      <td>[c, a, n,  , y, o, u,  , p, r, o, v, e,  , y, ...</td>\n",
              "      <td>[that is an interesting question, can you prov...</td>\n",
              "    </tr>\n",
              "    <tr>\n",
              "      <th>141</th>\n",
              "      <td>[c, a, n,  , y, o, u,  , p, r, o, v, e,  , y, ...</td>\n",
              "      <td>[that is an interesting question, can you prov...</td>\n",
              "    </tr>\n",
              "    <tr>\n",
              "      <th>142</th>\n",
              "      <td>[p, r, o, v, e,  , y, o, u,  , h, a, v, e,  , ...</td>\n",
              "      <td>[that is an interesting question, can you prov...</td>\n",
              "    </tr>\n",
              "  </tbody>\n",
              "</table>\n",
              "<p>143 rows × 2 columns</p>\n",
              "</div>\n",
              "      <button class=\"colab-df-convert\" onclick=\"convertToInteractive('df-38d8ed97-0dc8-48f9-a9fd-f0aebe05b5ac')\"\n",
              "              title=\"Convert this dataframe to an interactive table.\"\n",
              "              style=\"display:none;\">\n",
              "        \n",
              "  <svg xmlns=\"http://www.w3.org/2000/svg\" height=\"24px\"viewBox=\"0 0 24 24\"\n",
              "       width=\"24px\">\n",
              "    <path d=\"M0 0h24v24H0V0z\" fill=\"none\"/>\n",
              "    <path d=\"M18.56 5.44l.94 2.06.94-2.06 2.06-.94-2.06-.94-.94-2.06-.94 2.06-2.06.94zm-11 1L8.5 8.5l.94-2.06 2.06-.94-2.06-.94L8.5 2.5l-.94 2.06-2.06.94zm10 10l.94 2.06.94-2.06 2.06-.94-2.06-.94-.94-2.06-.94 2.06-2.06.94z\"/><path d=\"M17.41 7.96l-1.37-1.37c-.4-.4-.92-.59-1.43-.59-.52 0-1.04.2-1.43.59L10.3 9.45l-7.72 7.72c-.78.78-.78 2.05 0 2.83L4 21.41c.39.39.9.59 1.41.59.51 0 1.02-.2 1.41-.59l7.78-7.78 2.81-2.81c.8-.78.8-2.07 0-2.86zM5.41 20L4 18.59l7.72-7.72 1.47 1.35L5.41 20z\"/>\n",
              "  </svg>\n",
              "      </button>\n",
              "      \n",
              "  <style>\n",
              "    .colab-df-container {\n",
              "      display:flex;\n",
              "      flex-wrap:wrap;\n",
              "      gap: 12px;\n",
              "    }\n",
              "\n",
              "    .colab-df-convert {\n",
              "      background-color: #E8F0FE;\n",
              "      border: none;\n",
              "      border-radius: 50%;\n",
              "      cursor: pointer;\n",
              "      display: none;\n",
              "      fill: #1967D2;\n",
              "      height: 32px;\n",
              "      padding: 0 0 0 0;\n",
              "      width: 32px;\n",
              "    }\n",
              "\n",
              "    .colab-df-convert:hover {\n",
              "      background-color: #E2EBFA;\n",
              "      box-shadow: 0px 1px 2px rgba(60, 64, 67, 0.3), 0px 1px 3px 1px rgba(60, 64, 67, 0.15);\n",
              "      fill: #174EA6;\n",
              "    }\n",
              "\n",
              "    [theme=dark] .colab-df-convert {\n",
              "      background-color: #3B4455;\n",
              "      fill: #D2E3FC;\n",
              "    }\n",
              "\n",
              "    [theme=dark] .colab-df-convert:hover {\n",
              "      background-color: #434B5C;\n",
              "      box-shadow: 0px 1px 3px 1px rgba(0, 0, 0, 0.15);\n",
              "      filter: drop-shadow(0px 1px 2px rgba(0, 0, 0, 0.3));\n",
              "      fill: #FFFFFF;\n",
              "    }\n",
              "  </style>\n",
              "\n",
              "      <script>\n",
              "        const buttonEl =\n",
              "          document.querySelector('#df-38d8ed97-0dc8-48f9-a9fd-f0aebe05b5ac button.colab-df-convert');\n",
              "        buttonEl.style.display =\n",
              "          google.colab.kernel.accessAllowed ? 'block' : 'none';\n",
              "\n",
              "        async function convertToInteractive(key) {\n",
              "          const element = document.querySelector('#df-38d8ed97-0dc8-48f9-a9fd-f0aebe05b5ac');\n",
              "          const dataTable =\n",
              "            await google.colab.kernel.invokeFunction('convertToInteractive',\n",
              "                                                     [key], {});\n",
              "          if (!dataTable) return;\n",
              "\n",
              "          const docLinkHtml = 'Like what you see? Visit the ' +\n",
              "            '<a target=\"_blank\" href=https://colab.research.google.com/notebooks/data_table.ipynb>data table notebook</a>'\n",
              "            + ' to learn more about interactive tables.';\n",
              "          element.innerHTML = '';\n",
              "          dataTable['output_type'] = 'display_data';\n",
              "          await google.colab.output.renderOutput(dataTable, element);\n",
              "          const docLink = document.createElement('div');\n",
              "          docLink.innerHTML = docLinkHtml;\n",
              "          element.appendChild(docLink);\n",
              "        }\n",
              "      </script>\n",
              "    </div>\n",
              "  </div>\n",
              "  "
            ]
          },
          "metadata": {},
          "execution_count": 40
        }
      ]
    },
    {
      "cell_type": "code",
      "source": [
        "Dataset_2['inputs'] = Dataset_2['inputs'].apply(lambda wrd: ''.join(wrd))\n",
        "Dataset_2['responses'] = Dataset_2['responses'].apply(lambda wrd: ''.join(wrd))"
      ],
      "metadata": {
        "id": "g_E2f_zF2o6p"
      },
      "execution_count": 41,
      "outputs": []
    },
    {
      "cell_type": "code",
      "source": [
        "Dataset_2"
      ],
      "metadata": {
        "colab": {
          "base_uri": "https://localhost:8080/",
          "height": 424
        },
        "id": "qZnvDUFc2o-3",
        "outputId": "848a9021-cba9-4d01-8a65-f4a78703ccc9"
      },
      "execution_count": 42,
      "outputs": [
        {
          "output_type": "execute_result",
          "data": {
            "text/plain": [
              "                                        inputs  \\\n",
              "0                                           hi   \n",
              "1                                     hi there   \n",
              "2                                         hola   \n",
              "3                                        hello   \n",
              "4                                  hello there   \n",
              "..                                         ...   \n",
              "138         can you prove you have a conscious   \n",
              "139     can you prove you are selfaware please   \n",
              "140    can you prove you are self aware please   \n",
              "141  can you prove you have a conscious please   \n",
              "142                 prove you have a conscious   \n",
              "\n",
              "                                             responses  \n",
              "0    hi human, please tell me your genisys userhell...  \n",
              "1    hi human, please tell me your genisys userhell...  \n",
              "2    hi human, please tell me your genisys userhell...  \n",
              "3    hi human, please tell me your genisys userhell...  \n",
              "4    hi human, please tell me your genisys userhell...  \n",
              "..                                                 ...  \n",
              "138  that is an interesting question, can you prove...  \n",
              "139  that is an interesting question, can you prove...  \n",
              "140  that is an interesting question, can you prove...  \n",
              "141  that is an interesting question, can you prove...  \n",
              "142  that is an interesting question, can you prove...  \n",
              "\n",
              "[143 rows x 2 columns]"
            ],
            "text/html": [
              "\n",
              "  <div id=\"df-5f37f813-f98c-4326-b02d-1f581b756589\">\n",
              "    <div class=\"colab-df-container\">\n",
              "      <div>\n",
              "<style scoped>\n",
              "    .dataframe tbody tr th:only-of-type {\n",
              "        vertical-align: middle;\n",
              "    }\n",
              "\n",
              "    .dataframe tbody tr th {\n",
              "        vertical-align: top;\n",
              "    }\n",
              "\n",
              "    .dataframe thead th {\n",
              "        text-align: right;\n",
              "    }\n",
              "</style>\n",
              "<table border=\"1\" class=\"dataframe\">\n",
              "  <thead>\n",
              "    <tr style=\"text-align: right;\">\n",
              "      <th></th>\n",
              "      <th>inputs</th>\n",
              "      <th>responses</th>\n",
              "    </tr>\n",
              "  </thead>\n",
              "  <tbody>\n",
              "    <tr>\n",
              "      <th>0</th>\n",
              "      <td>hi</td>\n",
              "      <td>hi human, please tell me your genisys userhell...</td>\n",
              "    </tr>\n",
              "    <tr>\n",
              "      <th>1</th>\n",
              "      <td>hi there</td>\n",
              "      <td>hi human, please tell me your genisys userhell...</td>\n",
              "    </tr>\n",
              "    <tr>\n",
              "      <th>2</th>\n",
              "      <td>hola</td>\n",
              "      <td>hi human, please tell me your genisys userhell...</td>\n",
              "    </tr>\n",
              "    <tr>\n",
              "      <th>3</th>\n",
              "      <td>hello</td>\n",
              "      <td>hi human, please tell me your genisys userhell...</td>\n",
              "    </tr>\n",
              "    <tr>\n",
              "      <th>4</th>\n",
              "      <td>hello there</td>\n",
              "      <td>hi human, please tell me your genisys userhell...</td>\n",
              "    </tr>\n",
              "    <tr>\n",
              "      <th>...</th>\n",
              "      <td>...</td>\n",
              "      <td>...</td>\n",
              "    </tr>\n",
              "    <tr>\n",
              "      <th>138</th>\n",
              "      <td>can you prove you have a conscious</td>\n",
              "      <td>that is an interesting question, can you prove...</td>\n",
              "    </tr>\n",
              "    <tr>\n",
              "      <th>139</th>\n",
              "      <td>can you prove you are selfaware please</td>\n",
              "      <td>that is an interesting question, can you prove...</td>\n",
              "    </tr>\n",
              "    <tr>\n",
              "      <th>140</th>\n",
              "      <td>can you prove you are self aware please</td>\n",
              "      <td>that is an interesting question, can you prove...</td>\n",
              "    </tr>\n",
              "    <tr>\n",
              "      <th>141</th>\n",
              "      <td>can you prove you have a conscious please</td>\n",
              "      <td>that is an interesting question, can you prove...</td>\n",
              "    </tr>\n",
              "    <tr>\n",
              "      <th>142</th>\n",
              "      <td>prove you have a conscious</td>\n",
              "      <td>that is an interesting question, can you prove...</td>\n",
              "    </tr>\n",
              "  </tbody>\n",
              "</table>\n",
              "<p>143 rows × 2 columns</p>\n",
              "</div>\n",
              "      <button class=\"colab-df-convert\" onclick=\"convertToInteractive('df-5f37f813-f98c-4326-b02d-1f581b756589')\"\n",
              "              title=\"Convert this dataframe to an interactive table.\"\n",
              "              style=\"display:none;\">\n",
              "        \n",
              "  <svg xmlns=\"http://www.w3.org/2000/svg\" height=\"24px\"viewBox=\"0 0 24 24\"\n",
              "       width=\"24px\">\n",
              "    <path d=\"M0 0h24v24H0V0z\" fill=\"none\"/>\n",
              "    <path d=\"M18.56 5.44l.94 2.06.94-2.06 2.06-.94-2.06-.94-.94-2.06-.94 2.06-2.06.94zm-11 1L8.5 8.5l.94-2.06 2.06-.94-2.06-.94L8.5 2.5l-.94 2.06-2.06.94zm10 10l.94 2.06.94-2.06 2.06-.94-2.06-.94-.94-2.06-.94 2.06-2.06.94z\"/><path d=\"M17.41 7.96l-1.37-1.37c-.4-.4-.92-.59-1.43-.59-.52 0-1.04.2-1.43.59L10.3 9.45l-7.72 7.72c-.78.78-.78 2.05 0 2.83L4 21.41c.39.39.9.59 1.41.59.51 0 1.02-.2 1.41-.59l7.78-7.78 2.81-2.81c.8-.78.8-2.07 0-2.86zM5.41 20L4 18.59l7.72-7.72 1.47 1.35L5.41 20z\"/>\n",
              "  </svg>\n",
              "      </button>\n",
              "      \n",
              "  <style>\n",
              "    .colab-df-container {\n",
              "      display:flex;\n",
              "      flex-wrap:wrap;\n",
              "      gap: 12px;\n",
              "    }\n",
              "\n",
              "    .colab-df-convert {\n",
              "      background-color: #E8F0FE;\n",
              "      border: none;\n",
              "      border-radius: 50%;\n",
              "      cursor: pointer;\n",
              "      display: none;\n",
              "      fill: #1967D2;\n",
              "      height: 32px;\n",
              "      padding: 0 0 0 0;\n",
              "      width: 32px;\n",
              "    }\n",
              "\n",
              "    .colab-df-convert:hover {\n",
              "      background-color: #E2EBFA;\n",
              "      box-shadow: 0px 1px 2px rgba(60, 64, 67, 0.3), 0px 1px 3px 1px rgba(60, 64, 67, 0.15);\n",
              "      fill: #174EA6;\n",
              "    }\n",
              "\n",
              "    [theme=dark] .colab-df-convert {\n",
              "      background-color: #3B4455;\n",
              "      fill: #D2E3FC;\n",
              "    }\n",
              "\n",
              "    [theme=dark] .colab-df-convert:hover {\n",
              "      background-color: #434B5C;\n",
              "      box-shadow: 0px 1px 3px 1px rgba(0, 0, 0, 0.15);\n",
              "      filter: drop-shadow(0px 1px 2px rgba(0, 0, 0, 0.3));\n",
              "      fill: #FFFFFF;\n",
              "    }\n",
              "  </style>\n",
              "\n",
              "      <script>\n",
              "        const buttonEl =\n",
              "          document.querySelector('#df-5f37f813-f98c-4326-b02d-1f581b756589 button.colab-df-convert');\n",
              "        buttonEl.style.display =\n",
              "          google.colab.kernel.accessAllowed ? 'block' : 'none';\n",
              "\n",
              "        async function convertToInteractive(key) {\n",
              "          const element = document.querySelector('#df-5f37f813-f98c-4326-b02d-1f581b756589');\n",
              "          const dataTable =\n",
              "            await google.colab.kernel.invokeFunction('convertToInteractive',\n",
              "                                                     [key], {});\n",
              "          if (!dataTable) return;\n",
              "\n",
              "          const docLinkHtml = 'Like what you see? Visit the ' +\n",
              "            '<a target=\"_blank\" href=https://colab.research.google.com/notebooks/data_table.ipynb>data table notebook</a>'\n",
              "            + ' to learn more about interactive tables.';\n",
              "          element.innerHTML = '';\n",
              "          dataTable['output_type'] = 'display_data';\n",
              "          await google.colab.output.renderOutput(dataTable, element);\n",
              "          const docLink = document.createElement('div');\n",
              "          docLink.innerHTML = docLinkHtml;\n",
              "          element.appendChild(docLink);\n",
              "        }\n",
              "      </script>\n",
              "    </div>\n",
              "  </div>\n",
              "  "
            ]
          },
          "metadata": {},
          "execution_count": 42
        }
      ]
    },
    {
      "cell_type": "markdown",
      "source": [
        "# Decision Tree Model (Youssef)"
      ],
      "metadata": {
        "id": "DLSyQWTYAonN"
      }
    },
    {
      "cell_type": "markdown",
      "source": [
        "Prediction of Intents"
      ],
      "metadata": {
        "id": "tHmPHTVP4JMW"
      }
    },
    {
      "cell_type": "code",
      "source": [
        "# Features & Labels\n",
        "# features = ['inputs', 'Sentiment']\n",
        "Xfeatures = Dataset_1['inputs']\n",
        "ylabels = Dataset_1['Intent']"
      ],
      "metadata": {
        "id": "j4rAF9_nAt4C"
      },
      "execution_count": 43,
      "outputs": []
    },
    {
      "cell_type": "code",
      "source": [
        "Xfeatures"
      ],
      "metadata": {
        "colab": {
          "base_uri": "https://localhost:8080/"
        },
        "id": "ZeiAcWOKMNx4",
        "outputId": "fa018062-bcd0-4dc7-9257-03caa4aaf756"
      },
      "execution_count": 44,
      "outputs": [
        {
          "output_type": "execute_result",
          "data": {
            "text/plain": [
              "93                       thank you bye\n",
              "28             great thanks i am bella\n",
              "136    can you prove you are selfaware\n",
              "91                          thanks bye\n",
              "96                     thanks good bye\n",
              "                    ...               \n",
              "114                         any gossip\n",
              "88                               adios\n",
              "68          wasnt communicating to you\n",
              "20             hope you are doing well\n",
              "110          i am bored gossip with me\n",
              "Name: inputs, Length: 143, dtype: object"
            ]
          },
          "metadata": {},
          "execution_count": 44
        }
      ]
    },
    {
      "cell_type": "code",
      "source": [
        "#Vectrizer\n",
        "cv=CountVectorizer()\n",
        "X=cv.fit_transform(Xfeatures)"
      ],
      "metadata": {
        "id": "VohxVbooMRhP"
      },
      "execution_count": 45,
      "outputs": []
    },
    {
      "cell_type": "code",
      "source": [
        "#Get Features by Name\n",
        "cv.get_feature_names_out()"
      ],
      "metadata": {
        "colab": {
          "base_uri": "https://localhost:8080/"
        },
        "id": "5W9omhnZM5mq",
        "outputId": "307d77f8-2257-4aec-c4ec-6a5b56c41e5b"
      },
      "execution_count": 46,
      "outputs": [
        {
          "output_type": "execute_result",
          "data": {
            "text/plain": [
              "array(['about', 'adam', 'adios', 'am', 'any', 'anyone', 'are', 'aware',\n",
              "       'bay', 'be', 'bella', 'bored', 'by', 'bye', 'call', 'camera',\n",
              "       'can', 'cheering', 'clever', 'communicating', 'comprendo',\n",
              "       'conscious', 'could', 'do', 'doing', 'door', 'enough', 'for',\n",
              "       'friends', 'fuck', 'genious', 'get', 'girl', 'give', 'good',\n",
              "       'goodbye', 'gossip', 'got', 'great', 'have', 'hear', 'hello',\n",
              "       'help', 'helpful', 'hi', 'hola', 'hope', 'how', 'hya', 'identify',\n",
              "       'in', 'intelligent', 'is', 'it', 'joke', 'jokes', 'know', 'later',\n",
              "       'laugh', 'make', 'me', 'mean', 'meant', 'more', 'my', 'name',\n",
              "       'need', 'not', 'off', 'ok', 'open', 'please', 'pod', 'prove',\n",
              "       'quiet', 'real', 'saying', 'see', 'self', 'selfaware', 'shhh',\n",
              "       'shit', 'shut', 'some', 'speaking', 'stop', 'surely', 'talking',\n",
              "       'tell', 'thank', 'thanks', 'thats', 'the', 'there', 'think',\n",
              "       'this', 'time', 'to', 'twat', 'understand', 'up', 'user', 'very',\n",
              "       'want', 'was', 'wasnt', 'well', 'what', 'whats', 'who', 'why',\n",
              "       'will', 'with', 'you', 'your'], dtype=object)"
            ]
          },
          "metadata": {},
          "execution_count": 46
        }
      ]
    },
    {
      "cell_type": "code",
      "source": [
        "#  Split Data\n",
        "x_train,x_test,y_train,y_test = train_test_split(X,ylabels,test_size=0.3,random_state=42)\n",
        "clf = tree.DecisionTreeClassifier()"
      ],
      "metadata": {
        "id": "yGCGpt4nA3nc"
      },
      "execution_count": 47,
      "outputs": []
    },
    {
      "cell_type": "code",
      "source": [
        "#Decision Tree Pipeline\n",
        "#pipe_lr = Pipeline(steps=[('cv',CountVectorizer()),('lr',clf)])"
      ],
      "metadata": {
        "id": "mBA65FofBT86"
      },
      "execution_count": 48,
      "outputs": []
    },
    {
      "cell_type": "code",
      "source": [
        "# cv = KFold(n_splits=(folds - 1))\n",
        "# scores = cross_val_score(pipeline, x_train, y_train, cv = cv)"
      ],
      "metadata": {
        "id": "TzFE6hMZHTic"
      },
      "execution_count": 49,
      "outputs": []
    },
    {
      "cell_type": "code",
      "source": [
        "# Train and Fit Data\n",
        "# pipeline .fit(x_train,y_train)\n",
        "clf.fit(x_train,y_train)"
      ],
      "metadata": {
        "colab": {
          "base_uri": "https://localhost:8080/"
        },
        "id": "G6mWAY1pBioa",
        "outputId": "83da1831-fe36-4a99-d074-57c2297a3437"
      },
      "execution_count": 50,
      "outputs": [
        {
          "output_type": "execute_result",
          "data": {
            "text/plain": [
              "DecisionTreeClassifier()"
            ]
          },
          "metadata": {},
          "execution_count": 50
        }
      ]
    },
    {
      "cell_type": "code",
      "source": [
        "y_pred=clf.predict(x_test)\n",
        "y_pred"
      ],
      "metadata": {
        "colab": {
          "base_uri": "https://localhost:8080/"
        },
        "id": "ZeCO6vQnOBke",
        "outputId": "edc44b1a-35f5-493e-ee20-91686c9448f3"
      },
      "execution_count": 51,
      "outputs": [
        {
          "output_type": "execute_result",
          "data": {
            "text/plain": [
              "array(['CourtesyGoodBye', 'Greeting', 'WhoAmI', 'Greeting', 'Clever',\n",
              "       'Greeting', 'SelfAware', 'Greeting', 'Clever', 'Greeting',\n",
              "       'Greeting', 'Greeting', 'NameQuery', 'CourtesyGreetingResponse',\n",
              "       'Greeting', 'Clever', 'Greeting', 'CourtesyGreeting',\n",
              "       'CurrentHumanQuery', 'Gossip', 'CurrentHumanQuery',\n",
              "       'CurrentHumanQuery', 'PodBayDoorResponse', 'Greeting', 'Greeting',\n",
              "       'Clever', 'CourtesyGreeting', 'CourtesyGoodBye',\n",
              "       'GreetingResponse', 'SelfAware', 'NotTalking2U', 'Clever',\n",
              "       'CourtesyGoodBye', 'PodBayDoor', 'NotTalking2U',\n",
              "       'GreetingResponse', 'TimeQuery', 'WhoAmI', 'PodBayDoor',\n",
              "       'CourtesyGreetingResponse', 'CourtesyGreetingResponse',\n",
              "       'NameQuery', 'NameQuery'], dtype=object)"
            ]
          },
          "metadata": {},
          "execution_count": 51
        }
      ]
    },
    {
      "cell_type": "code",
      "source": [
        "#pipeline "
      ],
      "metadata": {
        "id": "Z53dEZmwBmFG"
      },
      "execution_count": 52,
      "outputs": []
    },
    {
      "cell_type": "code",
      "source": [
        "# Check Accuracy\n",
        "# pipe_lr.score(x_test,y_test)\n",
        "Accuracy_DT_I = clf.score(x_test,y_test)\n",
        "Accuracy_DT_I\n"
      ],
      "metadata": {
        "colab": {
          "base_uri": "https://localhost:8080/"
        },
        "id": "I0KMryWMBq-C",
        "outputId": "fb5d8aaa-a9de-4471-d2a8-71130fcd51cc"
      },
      "execution_count": 53,
      "outputs": [
        {
          "output_type": "execute_result",
          "data": {
            "text/plain": [
              "0.5581395348837209"
            ]
          },
          "metadata": {},
          "execution_count": 53
        }
      ]
    },
    {
      "cell_type": "code",
      "source": [
        "from sklearn import metrics\n",
        "print('Accuracy Score:', metrics.accuracy_score(y_test, y_pred))\n",
        "print('Confusion matrix:\\n', metrics.confusion_matrix(y_test, y_pred))\n",
        "#print('F1 Score:', metrics.f1_score(y_test, y_pred))"
      ],
      "metadata": {
        "colab": {
          "base_uri": "https://localhost:8080/"
        },
        "id": "GRPd4niQic1L",
        "outputId": "3ed27b66-878e-4ec4-9eb4-6b77268ba63b"
      },
      "execution_count": 54,
      "outputs": [
        {
          "output_type": "stream",
          "name": "stdout",
          "text": [
            "Accuracy Score: 0.5581395348837209\n",
            "Confusion matrix:\n",
            " [[3 0 0 0 0 0 0 1 0 0 0 0 0 0 0 0 0 0 0 0 0]\n",
            " [0 2 0 0 0 0 0 0 0 0 1 0 0 0 0 0 0 0 0 0 0]\n",
            " [0 0 2 0 0 0 0 0 0 0 0 0 0 0 0 0 0 0 0 0 0]\n",
            " [0 0 0 3 0 0 0 0 0 0 0 0 0 0 0 0 0 0 0 0 0]\n",
            " [1 0 0 0 1 0 0 0 0 0 0 0 0 0 0 0 0 0 0 0 0]\n",
            " [0 1 0 0 0 0 0 0 0 0 0 0 0 0 0 0 0 0 0 0 0]\n",
            " [0 0 0 0 0 0 1 0 0 0 0 0 0 0 0 0 0 0 0 0 0]\n",
            " [0 0 0 0 0 0 0 1 0 0 0 0 0 0 0 0 0 0 0 0 0]\n",
            " [0 0 0 0 0 0 0 0 1 0 0 0 0 0 0 0 0 0 0 0 0]\n",
            " [0 0 0 0 0 0 0 1 0 0 0 0 0 0 0 0 0 0 0 0 1]\n",
            " [1 0 0 0 1 0 0 0 0 0 1 0 0 0 0 0 0 0 0 0 0]\n",
            " [0 0 0 0 0 0 0 0 0 0 0 2 0 0 0 0 0 0 0 0 0]\n",
            " [0 0 0 0 0 0 0 0 0 0 0 0 2 0 0 0 0 0 0 0 0]\n",
            " [0 0 0 0 0 0 0 0 0 0 0 0 0 1 0 0 0 0 0 0 0]\n",
            " [0 0 0 0 0 0 0 0 0 0 0 0 0 0 2 0 0 0 0 0 0]\n",
            " [0 0 0 0 0 0 0 3 0 0 0 0 0 0 0 0 0 0 0 0 0]\n",
            " [0 0 0 0 0 0 0 3 0 0 0 0 0 0 0 0 0 0 0 0 0]\n",
            " [0 0 0 0 0 0 0 0 0 0 1 0 0 0 0 0 0 0 0 0 0]\n",
            " [0 0 0 0 0 0 0 0 0 0 0 0 0 0 0 0 0 0 1 0 0]\n",
            " [0 0 0 0 1 0 0 2 0 0 0 0 0 0 0 0 0 0 0 0 0]\n",
            " [0 0 0 0 0 0 0 0 1 0 0 0 0 0 0 0 0 0 0 0 1]]\n"
          ]
        }
      ]
    },
    {
      "cell_type": "code",
      "source": [
        "# Make A Prediction\n",
        "# ex1 = \"can you prove you have a conscious\"\n",
        "# pipe_lr.predict([ex1])"
      ],
      "metadata": {
        "id": "IxVUdeagB5Gu"
      },
      "execution_count": 55,
      "outputs": []
    },
    {
      "cell_type": "code",
      "source": [
        "cf_matrix = confusion_matrix(y_test , y_pred)\n",
        "sns.heatmap(cf_matrix, annot=False)"
      ],
      "metadata": {
        "colab": {
          "base_uri": "https://localhost:8080/",
          "height": 286
        },
        "id": "czQFIqAuS0eB",
        "outputId": "d48124cd-d578-4979-984f-15eedb89095c"
      },
      "execution_count": 56,
      "outputs": [
        {
          "output_type": "execute_result",
          "data": {
            "text/plain": [
              "<matplotlib.axes._subplots.AxesSubplot at 0x7fda2859e100>"
            ]
          },
          "metadata": {},
          "execution_count": 56
        },
        {
          "output_type": "display_data",
          "data": {
            "text/plain": [
              "<Figure size 432x288 with 2 Axes>"
            ],
            "image/png": "[encoded data removed]"
          },
          "metadata": {
            "needs_background": "light"
          }
        }
      ]
    },
    {
      "cell_type": "markdown",
      "source": [
        "Prediction of responses"
      ],
      "metadata": {
        "id": "GJWDnivG4IVw"
      }
    },
    {
      "cell_type": "code",
      "source": [
        "Xfeatures = Dataset_2['inputs']\n",
        "ylabels = Dataset_2['responses']"
      ],
      "metadata": {
        "id": "YEwiDuno4QZH"
      },
      "execution_count": 57,
      "outputs": []
    },
    {
      "cell_type": "code",
      "source": [
        "#  Split Data\n",
        "x_train,x_test,y_train,y_test = train_test_split(Xfeatures,ylabels,test_size=0.4,random_state=42)\n",
        "clf = tree.DecisionTreeClassifier(random_state=0)"
      ],
      "metadata": {
        "id": "y1x1FTYR4Qdm"
      },
      "execution_count": 58,
      "outputs": []
    },
    {
      "cell_type": "code",
      "source": [
        "# Decision Tree Pipeline\n",
        "pipe_lr = Pipeline(steps=[('cv',CountVectorizer()),('lr',clf)])"
      ],
      "metadata": {
        "id": "US8YwZwZ4Qhe"
      },
      "execution_count": 59,
      "outputs": []
    },
    {
      "cell_type": "code",
      "source": [
        "# Train and Fit Data\n",
        "pipe_lr.fit(x_train,y_train)"
      ],
      "metadata": {
        "colab": {
          "base_uri": "https://localhost:8080/"
        },
        "id": "XqBAQ3pZ4dhQ",
        "outputId": "bc2d7df4-505a-4143-e127-a95fc209b6b4"
      },
      "execution_count": 60,
      "outputs": [
        {
          "output_type": "execute_result",
          "data": {
            "text/plain": [
              "Pipeline(steps=[('cv', CountVectorizer()),\n",
              "                ('lr', DecisionTreeClassifier(random_state=0))])"
            ]
          },
          "metadata": {},
          "execution_count": 60
        }
      ]
    },
    {
      "cell_type": "code",
      "source": [
        "pipe_lr"
      ],
      "metadata": {
        "colab": {
          "base_uri": "https://localhost:8080/"
        },
        "id": "Q6RngaVQ4dkq",
        "outputId": "dcb49dc4-4d6c-49f5-ca24-1be3e6e8a9b2"
      },
      "execution_count": 61,
      "outputs": [
        {
          "output_type": "execute_result",
          "data": {
            "text/plain": [
              "Pipeline(steps=[('cv', CountVectorizer()),\n",
              "                ('lr', DecisionTreeClassifier(random_state=0))])"
            ]
          },
          "metadata": {},
          "execution_count": 61
        }
      ]
    },
    {
      "cell_type": "code",
      "source": [
        "# Check Accuracy\n",
        "Accuracy_DT_R=pipe_lr.score(x_test,y_test)\n",
        "Accuracy_DT_R"
      ],
      "metadata": {
        "colab": {
          "base_uri": "https://localhost:8080/"
        },
        "id": "TmqtR7dO4gs8",
        "outputId": "c45c4251-1812-428b-db85-fe699806331b"
      },
      "execution_count": 62,
      "outputs": [
        {
          "output_type": "execute_result",
          "data": {
            "text/plain": [
              "0.5862068965517241"
            ]
          },
          "metadata": {},
          "execution_count": 62
        }
      ]
    },
    {
      "cell_type": "code",
      "source": [
        "# Make A Prediction\n",
        "ex1 = \"can you prove you have a conscious\"\n",
        "pipe_lr.predict([ex1])"
      ],
      "metadata": {
        "colab": {
          "base_uri": "https://localhost:8080/"
        },
        "id": "PX3TPfjo4gzh",
        "outputId": "15e906c2-af2d-4c9e-a0fe-cc01d1b076cc"
      },
      "execution_count": 63,
      "outputs": [
        {
          "output_type": "execute_result",
          "data": {
            "text/plain": [
              "array(['that is an interesting question, can you prove that you are?that is an difficult question, can you prove that you are?that depends, can you prove that you are?'],\n",
              "      dtype=object)"
            ]
          },
          "metadata": {},
          "execution_count": 63
        }
      ]
    },
    {
      "cell_type": "markdown",
      "source": [
        "# SVM Model (Ali)"
      ],
      "metadata": {
        "id": "_qSHJe_c0TRk"
      }
    },
    {
      "cell_type": "markdown",
      "source": [
        "Prediction of Intents (tags)"
      ],
      "metadata": {
        "id": "eOGLIBQt3hPp"
      }
    },
    {
      "cell_type": "code",
      "source": [
        "Xfeatures = Dataset_1['inputs']\n",
        "ylabels = Dataset_1['Intent']"
      ],
      "metadata": {
        "id": "36zhFxV53rvA"
      },
      "execution_count": 64,
      "outputs": []
    },
    {
      "cell_type": "code",
      "source": [
        "#  Split Data\n",
        "x_train,x_test,y_train,y_test = train_test_split(Xfeatures,ylabels,test_size=0.3,random_state=42)"
      ],
      "metadata": {
        "id": "PRAzevoa4_Ja"
      },
      "execution_count": 65,
      "outputs": []
    },
    {
      "cell_type": "code",
      "source": [
        "from sklearn.svm import SVC\n",
        "model_1=SVC(kernel='linear',random_state=0)"
      ],
      "metadata": {
        "id": "qe3l78000rLq"
      },
      "execution_count": 66,
      "outputs": []
    },
    {
      "cell_type": "code",
      "source": [
        "pipe_lr = Pipeline(steps=[('cv',CountVectorizer()),('lr',model_1)])"
      ],
      "metadata": {
        "id": "S4pJrMHO05fW"
      },
      "execution_count": 67,
      "outputs": []
    },
    {
      "cell_type": "code",
      "source": [
        "pipe_lr.fit(x_train,y_train)"
      ],
      "metadata": {
        "colab": {
          "base_uri": "https://localhost:8080/"
        },
        "id": "rRqus7BT08s2",
        "outputId": "45eeeaea-5d26-4ec0-9d5a-a5ec5e1eee3f"
      },
      "execution_count": 68,
      "outputs": [
        {
          "output_type": "execute_result",
          "data": {
            "text/plain": [
              "Pipeline(steps=[('cv', CountVectorizer()),\n",
              "                ('lr', SVC(kernel='linear', random_state=0))])"
            ]
          },
          "metadata": {},
          "execution_count": 68
        }
      ]
    },
    {
      "cell_type": "code",
      "source": [
        "pipe_lr"
      ],
      "metadata": {
        "colab": {
          "base_uri": "https://localhost:8080/"
        },
        "id": "NTUDj5xH1BKe",
        "outputId": "909b847e-3e2b-4d75-dac9-b563b0b6c333"
      },
      "execution_count": 69,
      "outputs": [
        {
          "output_type": "execute_result",
          "data": {
            "text/plain": [
              "Pipeline(steps=[('cv', CountVectorizer()),\n",
              "                ('lr', SVC(kernel='linear', random_state=0))])"
            ]
          },
          "metadata": {},
          "execution_count": 69
        }
      ]
    },
    {
      "cell_type": "code",
      "source": [
        "# Check Accuracy\n",
        "Accuracy_SVM_I=pipe_lr.score(x_test,y_test)\n",
        "Accuracy_SVM_I"
      ],
      "metadata": {
        "colab": {
          "base_uri": "https://localhost:8080/"
        },
        "id": "rpQVZ6Dy1EvF",
        "outputId": "decb8b3b-ca29-4111-dd4d-63421dd7120a"
      },
      "execution_count": 70,
      "outputs": [
        {
          "output_type": "execute_result",
          "data": {
            "text/plain": [
              "0.627906976744186"
            ]
          },
          "metadata": {},
          "execution_count": 70
        }
      ]
    },
    {
      "cell_type": "code",
      "source": [
        "# Make A Prediction\n",
        "ex1 = \"can you prove you have a conscious\"\n",
        "pipe_lr.predict([ex1])"
      ],
      "metadata": {
        "colab": {
          "base_uri": "https://localhost:8080/"
        },
        "id": "x3Pfr6VE1IMX",
        "outputId": "9bb49188-0022-4e32-c09c-edd24c72e46e"
      },
      "execution_count": 71,
      "outputs": [
        {
          "output_type": "execute_result",
          "data": {
            "text/plain": [
              "array(['SelfAware'], dtype=object)"
            ]
          },
          "metadata": {},
          "execution_count": 71
        }
      ]
    },
    {
      "cell_type": "code",
      "source": [
        "# To Know the available classes\n",
        "pipe_lr.classes_"
      ],
      "metadata": {
        "colab": {
          "base_uri": "https://localhost:8080/"
        },
        "id": "QVYWnIdG1SYm",
        "outputId": "cb206522-1527-4375-9ab4-fc5546438663"
      },
      "execution_count": 72,
      "outputs": [
        {
          "output_type": "execute_result",
          "data": {
            "text/plain": [
              "array(['Clever', 'CourtesyGoodBye', 'CourtesyGreeting',\n",
              "       'CourtesyGreetingResponse', 'CurrentHumanQuery', 'GoodBye',\n",
              "       'Gossip', 'Greeting', 'GreetingResponse', 'Jokes', 'NameQuery',\n",
              "       'NotTalking2U', 'PodBayDoor', 'PodBayDoorResponse',\n",
              "       'RealNameQuery', 'SelfAware', 'Shutup', 'Swearing', 'Thanks',\n",
              "       'TimeQuery', 'UnderstandQuery', 'WhoAmI'], dtype=object)"
            ]
          },
          "metadata": {},
          "execution_count": 72
        }
      ]
    },
    {
      "cell_type": "markdown",
      "source": [
        "Prediction of Responses"
      ],
      "metadata": {
        "id": "7xD38bw734ia"
      }
    },
    {
      "cell_type": "code",
      "source": [
        "Xfeatures = Dataset_2['inputs']\n",
        "ylabels = Dataset_2['responses']"
      ],
      "metadata": {
        "id": "lMcav7x52SMd"
      },
      "execution_count": 73,
      "outputs": []
    },
    {
      "cell_type": "code",
      "source": [
        "#  Split Data\n",
        "x_train,x_test,y_train,y_test = train_test_split(Xfeatures,ylabels,test_size=0.3,random_state=42)"
      ],
      "metadata": {
        "id": "0dEURp6c4x5e"
      },
      "execution_count": 74,
      "outputs": []
    },
    {
      "cell_type": "code",
      "source": [
        "model_1=SVC(kernel='linear',random_state=0)"
      ],
      "metadata": {
        "id": "eKJX2_sc4x9K"
      },
      "execution_count": 75,
      "outputs": []
    },
    {
      "cell_type": "code",
      "source": [
        "pipe_lr = Pipeline(steps=[('cv',CountVectorizer()),('lr',model_1)])"
      ],
      "metadata": {
        "id": "AG8gcIW84y9R"
      },
      "execution_count": 76,
      "outputs": []
    },
    {
      "cell_type": "code",
      "source": [
        "pipe_lr.fit(x_train,y_train)"
      ],
      "metadata": {
        "colab": {
          "base_uri": "https://localhost:8080/"
        },
        "id": "Y-IGTR9C4zAb",
        "outputId": "b88c06b6-4f5b-49f9-d8fb-2b26ee75a656"
      },
      "execution_count": 77,
      "outputs": [
        {
          "output_type": "execute_result",
          "data": {
            "text/plain": [
              "Pipeline(steps=[('cv', CountVectorizer()),\n",
              "                ('lr', SVC(kernel='linear', random_state=0))])"
            ]
          },
          "metadata": {},
          "execution_count": 77
        }
      ]
    },
    {
      "cell_type": "code",
      "source": [
        "pipe_lr"
      ],
      "metadata": {
        "colab": {
          "base_uri": "https://localhost:8080/"
        },
        "id": "pqHW6a-b5RpY",
        "outputId": "3b9a6fd6-44e3-4fd5-91f3-b1d2905b1357"
      },
      "execution_count": 78,
      "outputs": [
        {
          "output_type": "execute_result",
          "data": {
            "text/plain": [
              "Pipeline(steps=[('cv', CountVectorizer()),\n",
              "                ('lr', SVC(kernel='linear', random_state=0))])"
            ]
          },
          "metadata": {},
          "execution_count": 78
        }
      ]
    },
    {
      "cell_type": "code",
      "source": [
        "# Check Accuracy\n",
        "Accuracy_SVM_R=pipe_lr.score(x_test,y_test)\n",
        "Accuracy_SVM_R"
      ],
      "metadata": {
        "colab": {
          "base_uri": "https://localhost:8080/"
        },
        "id": "vvmurGyf5RtH",
        "outputId": "09b5b6c9-a705-494e-de19-23657b82dfe1"
      },
      "execution_count": 79,
      "outputs": [
        {
          "output_type": "execute_result",
          "data": {
            "text/plain": [
              "0.7209302325581395"
            ]
          },
          "metadata": {},
          "execution_count": 79
        }
      ]
    },
    {
      "cell_type": "code",
      "source": [
        "# Make A Prediction\n",
        "ex1 = \"can you prove you have a conscious\"\n",
        "pipe_lr.predict([ex1])"
      ],
      "metadata": {
        "colab": {
          "base_uri": "https://localhost:8080/"
        },
        "id": "QYs7bt3R5WDO",
        "outputId": "66f2b7d9-42aa-443d-d91f-94e28deceb03"
      },
      "execution_count": 80,
      "outputs": [
        {
          "output_type": "execute_result",
          "data": {
            "text/plain": [
              "array(['that is an interesting question, can you prove that you are?that is an difficult question, can you prove that you are?that depends, can you prove that you are?'],\n",
              "      dtype=object)"
            ]
          },
          "metadata": {},
          "execution_count": 80
        }
      ]
    },
    {
      "cell_type": "code",
      "source": [
        "# To Know the available classes\n",
        "#pipe_lr.classes_"
      ],
      "metadata": {
        "id": "f_yd35-O5gHk"
      },
      "execution_count": 81,
      "outputs": []
    },
    {
      "cell_type": "markdown",
      "source": [
        "# KNN (Suhaila)"
      ],
      "metadata": {
        "id": "WCRJ6beB7HZt"
      }
    },
    {
      "cell_type": "code",
      "source": [
        "Xfeatures = Dataset_1['inputs']\n",
        "ylabels = Dataset_1['Intent']"
      ],
      "metadata": {
        "id": "bRvjr6Ji7Ju1"
      },
      "execution_count": 82,
      "outputs": []
    },
    {
      "cell_type": "code",
      "source": [
        "#  Split Data\n",
        "x_train,x_test,y_train,y_test = train_test_split(Xfeatures,ylabels,test_size=0.3,random_state=0)"
      ],
      "metadata": {
        "id": "XRn3R9kN8Lsd"
      },
      "execution_count": 83,
      "outputs": []
    },
    {
      "cell_type": "code",
      "source": [
        "from sklearn.neighbors import KNeighborsClassifier\n",
        "knn= KNeighborsClassifier(n_neighbors=5, metric= 'euclidean')# sqrt of num of data points (43)"
      ],
      "metadata": {
        "id": "aU7NxYil7Qxt"
      },
      "execution_count": 84,
      "outputs": []
    },
    {
      "cell_type": "code",
      "source": [
        "#KNN Pipeline\n",
        "pipe_knn = Pipeline(steps=[('cv',CountVectorizer()),('KNN',knn)])"
      ],
      "metadata": {
        "id": "gddKmHsC7RUt"
      },
      "execution_count": 85,
      "outputs": []
    },
    {
      "cell_type": "code",
      "source": [
        "pipe_lr.fit(x_train,y_train)"
      ],
      "metadata": {
        "colab": {
          "base_uri": "https://localhost:8080/"
        },
        "id": "xqe-rMoL7toF",
        "outputId": "df39deed-75ae-4b7f-f9a3-2c4c560c2cbb"
      },
      "execution_count": 86,
      "outputs": [
        {
          "output_type": "execute_result",
          "data": {
            "text/plain": [
              "Pipeline(steps=[('cv', CountVectorizer()),\n",
              "                ('lr', SVC(kernel='linear', random_state=0))])"
            ]
          },
          "metadata": {},
          "execution_count": 86
        }
      ]
    },
    {
      "cell_type": "code",
      "source": [
        "pipe_lr"
      ],
      "metadata": {
        "colab": {
          "base_uri": "https://localhost:8080/"
        },
        "id": "xUN8VlKX7tra",
        "outputId": "262e222f-231b-48d9-f5f3-20dcf4064a82"
      },
      "execution_count": 87,
      "outputs": [
        {
          "output_type": "execute_result",
          "data": {
            "text/plain": [
              "Pipeline(steps=[('cv', CountVectorizer()),\n",
              "                ('lr', SVC(kernel='linear', random_state=0))])"
            ]
          },
          "metadata": {},
          "execution_count": 87
        }
      ]
    },
    {
      "cell_type": "code",
      "source": [
        "# Check Accuracy\n",
        "Accuracy_KNN_I=pipe_lr.score(x_test,y_test)\n",
        "Accuracy_KNN_I"
      ],
      "metadata": {
        "colab": {
          "base_uri": "https://localhost:8080/"
        },
        "id": "1scjavPB7tuQ",
        "outputId": "85d159f8-7b38-4558-859a-d64171da8f9e"
      },
      "execution_count": 88,
      "outputs": [
        {
          "output_type": "execute_result",
          "data": {
            "text/plain": [
              "0.6511627906976745"
            ]
          },
          "metadata": {},
          "execution_count": 88
        }
      ]
    },
    {
      "cell_type": "code",
      "source": [
        "# Make A Prediction\n",
        "ex1 = \"can you prove you have a conscious\"\n",
        "pipe_lr.predict([ex1])"
      ],
      "metadata": {
        "colab": {
          "base_uri": "https://localhost:8080/"
        },
        "id": "jCthJjgW72sS",
        "outputId": "d61ff50e-8458-4317-ca14-07979c971e24"
      },
      "execution_count": 89,
      "outputs": [
        {
          "output_type": "execute_result",
          "data": {
            "text/plain": [
              "array(['SelfAware'], dtype=object)"
            ]
          },
          "metadata": {},
          "execution_count": 89
        }
      ]
    },
    {
      "cell_type": "markdown",
      "source": [
        "Predicting Responses"
      ],
      "metadata": {
        "id": "D_t5_aqG8AAk"
      }
    },
    {
      "cell_type": "code",
      "source": [
        "Xfeatures = Dataset_2['inputs']\n",
        "ylabels = Dataset_2['responses']"
      ],
      "metadata": {
        "id": "T5GPLbmA8DXY"
      },
      "execution_count": 90,
      "outputs": []
    },
    {
      "cell_type": "code",
      "source": [
        "#  Split Data\n",
        "x_train,x_test,y_train,y_test = train_test_split(Xfeatures,ylabels,test_size=0.3,random_state=0)"
      ],
      "metadata": {
        "id": "jLgIDfGX8go3"
      },
      "execution_count": 91,
      "outputs": []
    },
    {
      "cell_type": "code",
      "source": [
        "knn= KNeighborsClassifier(n_neighbors=5, metric= 'euclidean')# sqrt of num of data points (43)"
      ],
      "metadata": {
        "id": "zegQfSLa8gsZ"
      },
      "execution_count": 92,
      "outputs": []
    },
    {
      "cell_type": "code",
      "source": [
        "pipe_knn = Pipeline(steps=[('cv',CountVectorizer()),('KNN',knn)])"
      ],
      "metadata": {
        "id": "c5AnVL5E8gzE"
      },
      "execution_count": 93,
      "outputs": []
    },
    {
      "cell_type": "code",
      "source": [
        "pipe_lr.fit(x_train,y_train)"
      ],
      "metadata": {
        "colab": {
          "base_uri": "https://localhost:8080/"
        },
        "id": "Mp4uguRo8hDg",
        "outputId": "ec57c2fc-b4fa-4995-9070-3b574152a590"
      },
      "execution_count": 94,
      "outputs": [
        {
          "output_type": "execute_result",
          "data": {
            "text/plain": [
              "Pipeline(steps=[('cv', CountVectorizer()),\n",
              "                ('lr', SVC(kernel='linear', random_state=0))])"
            ]
          },
          "metadata": {},
          "execution_count": 94
        }
      ]
    },
    {
      "cell_type": "code",
      "source": [
        "pipe_lr"
      ],
      "metadata": {
        "colab": {
          "base_uri": "https://localhost:8080/"
        },
        "id": "UWvlxm0M8shN",
        "outputId": "e850df44-2151-4ac5-821b-d16ef501fdbd"
      },
      "execution_count": 95,
      "outputs": [
        {
          "output_type": "execute_result",
          "data": {
            "text/plain": [
              "Pipeline(steps=[('cv', CountVectorizer()),\n",
              "                ('lr', SVC(kernel='linear', random_state=0))])"
            ]
          },
          "metadata": {},
          "execution_count": 95
        }
      ]
    },
    {
      "cell_type": "code",
      "source": [
        "# Check Accuracy\n",
        "Accuracy_KNN_R=pipe_lr.score(x_test,y_test)\n",
        "Accuracy_KNN_R"
      ],
      "metadata": {
        "colab": {
          "base_uri": "https://localhost:8080/"
        },
        "id": "lEci70eQ-k3s",
        "outputId": "22b783e2-e55d-4a3f-def3-7b9f3a11de6f"
      },
      "execution_count": 96,
      "outputs": [
        {
          "output_type": "execute_result",
          "data": {
            "text/plain": [
              "0.6744186046511628"
            ]
          },
          "metadata": {},
          "execution_count": 96
        }
      ]
    },
    {
      "cell_type": "code",
      "source": [
        "# Make A Prediction\n",
        "ex1 = \"can you prove you have a conscious\"\n",
        "pipe_lr.predict([ex1])"
      ],
      "metadata": {
        "colab": {
          "base_uri": "https://localhost:8080/"
        },
        "id": "s1DG7vg--k-z",
        "outputId": "80254810-25f0-403c-d761-4a399793e34d"
      },
      "execution_count": 97,
      "outputs": [
        {
          "output_type": "execute_result",
          "data": {
            "text/plain": [
              "array(['that is an interesting question, can you prove that you are?that is an difficult question, can you prove that you are?that depends, can you prove that you are?'],\n",
              "      dtype=object)"
            ]
          },
          "metadata": {},
          "execution_count": 97
        }
      ]
    },
    {
      "cell_type": "markdown",
      "source": [
        "#Naive Bayes (Kareem)"
      ],
      "metadata": {
        "id": "AsdB2pq5_jj2"
      }
    },
    {
      "cell_type": "markdown",
      "source": [
        "Prediction of Intent"
      ],
      "metadata": {
        "id": "uTVlWceOBg6P"
      }
    },
    {
      "cell_type": "code",
      "source": [
        "from sklearn.naive_bayes import GaussianNB\n",
        "gNB = GaussianNB()"
      ],
      "metadata": {
        "id": "-tLyTFDFARey"
      },
      "execution_count": 98,
      "outputs": []
    },
    {
      "cell_type": "code",
      "source": [
        "#  Split Data\n",
        "x_train,x_test,y_train,y_test = train_test_split(Xfeatures,ylabels,test_size=0.3,random_state=42)"
      ],
      "metadata": {
        "id": "ZZt_GfzGAdqv"
      },
      "execution_count": 99,
      "outputs": []
    },
    {
      "cell_type": "code",
      "source": [
        "# Build Pipeline\n",
        "from sklearn.pipeline import Pipeline\n",
        "from sklearn.pipeline import make_pipeline"
      ],
      "metadata": {
        "id": "EO4WiP2UASeI"
      },
      "execution_count": 100,
      "outputs": []
    },
    {
      "cell_type": "code",
      "source": [
        "from sklearn.preprocessing import FunctionTransformer\n",
        "pipeline = make_pipeline( CountVectorizer(), FunctionTransformer(lambda x_train: x_train.todense(), accept_sparse=True), gNB )"
      ],
      "metadata": {
        "id": "fFB0cOfGBHxm"
      },
      "execution_count": 101,
      "outputs": []
    },
    {
      "cell_type": "code",
      "source": [
        "# Train and Fit Data\n",
        "pipeline.fit(x_train,y_train)"
      ],
      "metadata": {
        "colab": {
          "base_uri": "https://localhost:8080/"
        },
        "id": "yPOTm0bMAZz_",
        "outputId": "0057781f-c7ef-46b7-9b9e-f60c0821890f"
      },
      "execution_count": 102,
      "outputs": [
        {
          "output_type": "stream",
          "name": "stderr",
          "text": [
            "/usr/local/lib/python3.8/dist-packages/sklearn/utils/validation.py:593: FutureWarning: np.matrix usage is deprecated in 1.0 and will raise a TypeError in 1.2. Please convert to a numpy array with np.asarray. For more information see: https://numpy.org/doc/stable/reference/generated/numpy.matrix.html\n",
            "  warnings.warn(\n"
          ]
        },
        {
          "output_type": "execute_result",
          "data": {
            "text/plain": [
              "Pipeline(steps=[('countvectorizer', CountVectorizer()),\n",
              "                ('functiontransformer',\n",
              "                 FunctionTransformer(accept_sparse=True,\n",
              "                                     func=<function <lambda> at 0x7fda28a59ee0>)),\n",
              "                ('gaussiannb', GaussianNB())])"
            ]
          },
          "metadata": {},
          "execution_count": 102
        }
      ]
    },
    {
      "cell_type": "code",
      "source": [
        "pipeline"
      ],
      "metadata": {
        "colab": {
          "base_uri": "https://localhost:8080/"
        },
        "id": "GUtW6U0QBBIx",
        "outputId": "882d2084-cdc0-43c9-c909-8380db231163"
      },
      "execution_count": 103,
      "outputs": [
        {
          "output_type": "execute_result",
          "data": {
            "text/plain": [
              "Pipeline(steps=[('countvectorizer', CountVectorizer()),\n",
              "                ('functiontransformer',\n",
              "                 FunctionTransformer(accept_sparse=True,\n",
              "                                     func=<function <lambda> at 0x7fda28a59ee0>)),\n",
              "                ('gaussiannb', GaussianNB())])"
            ]
          },
          "metadata": {},
          "execution_count": 103
        }
      ]
    },
    {
      "cell_type": "code",
      "source": [
        "#Check Accuracy\n",
        "Accuracy_NB_I=pipeline.score(x_test,y_test)\n",
        "Accuracy_NB_I"
      ],
      "metadata": {
        "colab": {
          "base_uri": "https://localhost:8080/"
        },
        "id": "s1_v2RDmBO1V",
        "outputId": "ca3dcc1b-737d-4527-f93f-4b4138b72045"
      },
      "execution_count": 104,
      "outputs": [
        {
          "output_type": "stream",
          "name": "stderr",
          "text": [
            "/usr/local/lib/python3.8/dist-packages/sklearn/utils/validation.py:593: FutureWarning: np.matrix usage is deprecated in 1.0 and will raise a TypeError in 1.2. Please convert to a numpy array with np.asarray. For more information see: https://numpy.org/doc/stable/reference/generated/numpy.matrix.html\n",
            "  warnings.warn(\n"
          ]
        },
        {
          "output_type": "execute_result",
          "data": {
            "text/plain": [
              "0.7906976744186046"
            ]
          },
          "metadata": {},
          "execution_count": 104
        }
      ]
    },
    {
      "cell_type": "code",
      "source": [
        "# Make A Prediction\n",
        "ex1 = \"hola how are you\"\n",
        "pipeline.predict([ex1])"
      ],
      "metadata": {
        "colab": {
          "base_uri": "https://localhost:8080/"
        },
        "id": "hWnsVP7eBPFn",
        "outputId": "1bac3451-cd9f-418d-ca62-b2ddae4f00c3"
      },
      "execution_count": 105,
      "outputs": [
        {
          "output_type": "stream",
          "name": "stderr",
          "text": [
            "/usr/local/lib/python3.8/dist-packages/sklearn/utils/validation.py:593: FutureWarning: np.matrix usage is deprecated in 1.0 and will raise a TypeError in 1.2. Please convert to a numpy array with np.asarray. For more information see: https://numpy.org/doc/stable/reference/generated/numpy.matrix.html\n",
            "  warnings.warn(\n"
          ]
        },
        {
          "output_type": "execute_result",
          "data": {
            "text/plain": [
              "array(['hello, i am great, how are you? please tell me your genisys userhello, how are you? i am great thanks! please tell me your genisys userhello, i am good thank you, how are you? please tell me your genisys userhi, i am great, how are you? please tell me your genisys userhi, how are you? i am great thanks! please tell me your genisys userhi, i am good thank you, how are you? please tell me your genisys userhi, good thank you, how are you? please tell me your genisys user'],\n",
              "      dtype='<U24754')"
            ]
          },
          "metadata": {},
          "execution_count": 105
        }
      ]
    },
    {
      "cell_type": "code",
      "source": [
        "# To Know the classes\n",
        "#pipeline.classes_"
      ],
      "metadata": {
        "id": "dkW97XhzBZSb"
      },
      "execution_count": 106,
      "outputs": []
    },
    {
      "cell_type": "markdown",
      "source": [
        "Prediction of Responses"
      ],
      "metadata": {
        "id": "OpUNXER2B_07"
      }
    },
    {
      "cell_type": "code",
      "source": [
        "Xfeatures = Dataset_2['inputs']\n",
        "ylabels = Dataset_2['responses']"
      ],
      "metadata": {
        "id": "ahF9UR5RBZZF"
      },
      "execution_count": 107,
      "outputs": []
    },
    {
      "cell_type": "code",
      "source": [
        "#  Split Data\n",
        "x_train,x_test,y_train,y_test = train_test_split(Xfeatures,ylabels,test_size=0.3,random_state=42)"
      ],
      "metadata": {
        "id": "izzLq0OWBZdu"
      },
      "execution_count": 108,
      "outputs": []
    },
    {
      "cell_type": "code",
      "source": [
        "gNB = GaussianNB()"
      ],
      "metadata": {
        "id": "ywjuZH1IBBNM"
      },
      "execution_count": 109,
      "outputs": []
    },
    {
      "cell_type": "code",
      "source": [
        "pipeline = make_pipeline( CountVectorizer(), FunctionTransformer(lambda x_train: x_train.todense(), accept_sparse=True), gNB )"
      ],
      "metadata": {
        "id": "11qTth6sAaCg"
      },
      "execution_count": 110,
      "outputs": []
    },
    {
      "cell_type": "code",
      "source": [
        "pipeline.fit(x_train,y_train)"
      ],
      "metadata": {
        "colab": {
          "base_uri": "https://localhost:8080/"
        },
        "id": "RI3oY7m0DiqV",
        "outputId": "58a54fe1-ba90-4c8c-ae1c-71b564396f5b"
      },
      "execution_count": 111,
      "outputs": [
        {
          "output_type": "stream",
          "name": "stderr",
          "text": [
            "/usr/local/lib/python3.8/dist-packages/sklearn/utils/validation.py:593: FutureWarning: np.matrix usage is deprecated in 1.0 and will raise a TypeError in 1.2. Please convert to a numpy array with np.asarray. For more information see: https://numpy.org/doc/stable/reference/generated/numpy.matrix.html\n",
            "  warnings.warn(\n"
          ]
        },
        {
          "output_type": "execute_result",
          "data": {
            "text/plain": [
              "Pipeline(steps=[('countvectorizer', CountVectorizer()),\n",
              "                ('functiontransformer',\n",
              "                 FunctionTransformer(accept_sparse=True,\n",
              "                                     func=<function <lambda> at 0x7fda264e3dc0>)),\n",
              "                ('gaussiannb', GaussianNB())])"
            ]
          },
          "metadata": {},
          "execution_count": 111
        }
      ]
    },
    {
      "cell_type": "code",
      "source": [
        "pipeline"
      ],
      "metadata": {
        "colab": {
          "base_uri": "https://localhost:8080/"
        },
        "id": "Q9rwWjQlDiv6",
        "outputId": "b50119d5-73a8-46f5-ac52-9c8604fa6d3f"
      },
      "execution_count": 112,
      "outputs": [
        {
          "output_type": "execute_result",
          "data": {
            "text/plain": [
              "Pipeline(steps=[('countvectorizer', CountVectorizer()),\n",
              "                ('functiontransformer',\n",
              "                 FunctionTransformer(accept_sparse=True,\n",
              "                                     func=<function <lambda> at 0x7fda264e3dc0>)),\n",
              "                ('gaussiannb', GaussianNB())])"
            ]
          },
          "metadata": {},
          "execution_count": 112
        }
      ]
    },
    {
      "cell_type": "code",
      "source": [
        "# Check Accuracy\n",
        "Accuracy_NB_R=pipeline.score(x_test,y_test)\n",
        "Accuracy_NB_R"
      ],
      "metadata": {
        "colab": {
          "base_uri": "https://localhost:8080/"
        },
        "id": "o97s9_0oDl1r",
        "outputId": "9b990571-8f71-42d7-811c-629c7b5b6cc9"
      },
      "execution_count": 113,
      "outputs": [
        {
          "output_type": "stream",
          "name": "stderr",
          "text": [
            "/usr/local/lib/python3.8/dist-packages/sklearn/utils/validation.py:593: FutureWarning: np.matrix usage is deprecated in 1.0 and will raise a TypeError in 1.2. Please convert to a numpy array with np.asarray. For more information see: https://numpy.org/doc/stable/reference/generated/numpy.matrix.html\n",
            "  warnings.warn(\n"
          ]
        },
        {
          "output_type": "execute_result",
          "data": {
            "text/plain": [
              "0.7906976744186046"
            ]
          },
          "metadata": {},
          "execution_count": 113
        }
      ]
    },
    {
      "cell_type": "code",
      "source": [
        "# Make A Prediction\n",
        "ex1 = \"hola how are you\"\n",
        "pipeline.predict([ex1])"
      ],
      "metadata": {
        "colab": {
          "base_uri": "https://localhost:8080/"
        },
        "id": "J1IfBXQEDl61",
        "outputId": "6a247e07-f711-45d1-d68a-bc9c6ee1a90e"
      },
      "execution_count": 114,
      "outputs": [
        {
          "output_type": "stream",
          "name": "stderr",
          "text": [
            "/usr/local/lib/python3.8/dist-packages/sklearn/utils/validation.py:593: FutureWarning: np.matrix usage is deprecated in 1.0 and will raise a TypeError in 1.2. Please convert to a numpy array with np.asarray. For more information see: https://numpy.org/doc/stable/reference/generated/numpy.matrix.html\n",
            "  warnings.warn(\n"
          ]
        },
        {
          "output_type": "execute_result",
          "data": {
            "text/plain": [
              "array(['hello, i am great, how are you? please tell me your genisys userhello, how are you? i am great thanks! please tell me your genisys userhello, i am good thank you, how are you? please tell me your genisys userhi, i am great, how are you? please tell me your genisys userhi, how are you? i am great thanks! please tell me your genisys userhi, i am good thank you, how are you? please tell me your genisys userhi, good thank you, how are you? please tell me your genisys user'],\n",
              "      dtype='<U24754')"
            ]
          },
          "metadata": {},
          "execution_count": 114
        }
      ]
    },
    {
      "cell_type": "markdown",
      "source": [
        "# Logistic Regression(Salma)"
      ],
      "metadata": {
        "id": "YWcsjxiJDrL6"
      }
    },
    {
      "cell_type": "code",
      "source": [
        "Xfeatures = Dataset_1['inputs']\n",
        "ylabels = Dataset_1['Intent']"
      ],
      "metadata": {
        "id": "ZAEviPDxDvJB"
      },
      "execution_count": 115,
      "outputs": []
    },
    {
      "cell_type": "code",
      "source": [
        "#  Split Data\n",
        "x_train,x_test,y_train,y_test = train_test_split(Xfeatures,ylabels,test_size=0.3,random_state=0)"
      ],
      "metadata": {
        "id": "dlsUXPvHd46M"
      },
      "execution_count": 116,
      "outputs": []
    },
    {
      "cell_type": "code",
      "source": [
        "from sklearn.linear_model import LogisticRegression\n",
        "#The LogisticRegression class can be configured for multinomial logistic regression by \n",
        "#setting the “multi_class” argument to “multinomial” and the “solver” argument to a solver \n",
        "#that supports multinomial logistic regression, such as “lbfgs“.\n",
        "\n",
        "# define the multinomial logistic regression model\n",
        "logisticRegr = LogisticRegression(multi_class='multinomial', solver='lbfgs')"
      ],
      "metadata": {
        "id": "_sSdFs8Dd7xq"
      },
      "execution_count": 117,
      "outputs": []
    },
    {
      "cell_type": "code",
      "source": [
        "#LogRegression Pipeline\n",
        "pipe_lr = Pipeline(steps=[('cv',CountVectorizer()),('lr',logisticRegr)])"
      ],
      "metadata": {
        "id": "6QUrOGrGfJR9"
      },
      "execution_count": 118,
      "outputs": []
    },
    {
      "cell_type": "code",
      "source": [
        "pipe_lr.fit(x_train,y_train)"
      ],
      "metadata": {
        "id": "JaJWVG7JfwzC",
        "colab": {
          "base_uri": "https://localhost:8080/"
        },
        "outputId": "559eff65-bc2d-4722-e1fd-b568f716170c"
      },
      "execution_count": 119,
      "outputs": [
        {
          "output_type": "execute_result",
          "data": {
            "text/plain": [
              "Pipeline(steps=[('cv', CountVectorizer()),\n",
              "                ('lr', LogisticRegression(multi_class='multinomial'))])"
            ]
          },
          "metadata": {},
          "execution_count": 119
        }
      ]
    },
    {
      "cell_type": "code",
      "source": [
        "pipe_lr"
      ],
      "metadata": {
        "id": "nQawW3oyfyAK",
        "colab": {
          "base_uri": "https://localhost:8080/"
        },
        "outputId": "e8de639d-3950-4560-9885-a06c0f9167c4"
      },
      "execution_count": 120,
      "outputs": [
        {
          "output_type": "execute_result",
          "data": {
            "text/plain": [
              "Pipeline(steps=[('cv', CountVectorizer()),\n",
              "                ('lr', LogisticRegression(multi_class='multinomial'))])"
            ]
          },
          "metadata": {},
          "execution_count": 120
        }
      ]
    },
    {
      "cell_type": "code",
      "source": [
        "# Check Accuracy\n",
        "Accuracy_LG_I=pipe_lr.score(x_test,y_test)\n",
        "Accuracy_LG_I"
      ],
      "metadata": {
        "id": "SPscTNASf0SZ",
        "colab": {
          "base_uri": "https://localhost:8080/"
        },
        "outputId": "153bd511-e85f-4b17-cbee-39f54cc8e234"
      },
      "execution_count": 133,
      "outputs": [
        {
          "output_type": "execute_result",
          "data": {
            "text/plain": [
              "0.7209302325581395"
            ]
          },
          "metadata": {},
          "execution_count": 133
        }
      ]
    },
    {
      "cell_type": "code",
      "source": [
        "# Make A Prediction\n",
        "ex1 = \"can you prove you have a conscious\"\n",
        "pipe_lr.predict([ex1])"
      ],
      "metadata": {
        "id": "Z2Hs1_LKf1xM",
        "colab": {
          "base_uri": "https://localhost:8080/"
        },
        "outputId": "16c52c36-059c-467f-cfe7-d44488c06da1"
      },
      "execution_count": 122,
      "outputs": [
        {
          "output_type": "execute_result",
          "data": {
            "text/plain": [
              "array(['SelfAware'], dtype=object)"
            ]
          },
          "metadata": {},
          "execution_count": 122
        }
      ]
    },
    {
      "cell_type": "markdown",
      "source": [
        "Prediction Of Responses"
      ],
      "metadata": {
        "id": "-3vDGd2igFOu"
      }
    },
    {
      "cell_type": "code",
      "source": [
        "Xfeatures = Dataset_2['inputs']\n",
        "ylabels = Dataset_2['responses']"
      ],
      "metadata": {
        "id": "Ktmb_OEngIXv"
      },
      "execution_count": 123,
      "outputs": []
    },
    {
      "cell_type": "code",
      "source": [
        "#  Split Data\n",
        "x_train,x_test,y_train,y_test = train_test_split(Xfeatures,ylabels,test_size=0.3,random_state=42)"
      ],
      "metadata": {
        "id": "PCJS8Q0ogJ8h"
      },
      "execution_count": 124,
      "outputs": []
    },
    {
      "cell_type": "code",
      "source": [
        "logisticRegr = LogisticRegression(multi_class='multinomial', solver='lbfgs')"
      ],
      "metadata": {
        "id": "3ECuaNOuiYdz"
      },
      "execution_count": 125,
      "outputs": []
    },
    {
      "cell_type": "code",
      "source": [
        "#LogRegression Pipeline\n",
        "pipe_lr = Pipeline(steps=[('cv',CountVectorizer()),('lr',logisticRegr)])"
      ],
      "metadata": {
        "id": "8WC6rEHvgNkw"
      },
      "execution_count": 126,
      "outputs": []
    },
    {
      "cell_type": "code",
      "source": [
        "# Train and Fit Data\n",
        "pipe_lr.fit(x_train,y_train)"
      ],
      "metadata": {
        "id": "ocOjaCKZgPCJ",
        "colab": {
          "base_uri": "https://localhost:8080/"
        },
        "outputId": "6812eb2f-d54d-42e6-d3d9-a6611d368d18"
      },
      "execution_count": 127,
      "outputs": [
        {
          "output_type": "execute_result",
          "data": {
            "text/plain": [
              "Pipeline(steps=[('cv', CountVectorizer()),\n",
              "                ('lr', LogisticRegression(multi_class='multinomial'))])"
            ]
          },
          "metadata": {},
          "execution_count": 127
        }
      ]
    },
    {
      "cell_type": "code",
      "source": [
        "pipe_lr"
      ],
      "metadata": {
        "id": "Cnc4VQFnh_PG",
        "colab": {
          "base_uri": "https://localhost:8080/"
        },
        "outputId": "c7e6ff9e-7429-41c2-a9ab-226baf0d17b4"
      },
      "execution_count": 128,
      "outputs": [
        {
          "output_type": "execute_result",
          "data": {
            "text/plain": [
              "Pipeline(steps=[('cv', CountVectorizer()),\n",
              "                ('lr', LogisticRegression(multi_class='multinomial'))])"
            ]
          },
          "metadata": {},
          "execution_count": 128
        }
      ]
    },
    {
      "cell_type": "code",
      "source": [
        "# Check Accuracy\n",
        "Accuracy_LG_R=pipe_lr.score(x_test,y_test)\n",
        "Accuracy_LG_R"
      ],
      "metadata": {
        "id": "wwTsmfgoiBJ4",
        "colab": {
          "base_uri": "https://localhost:8080/"
        },
        "outputId": "50503963-c214-4243-d7e8-80eb6e6618cb"
      },
      "execution_count": 134,
      "outputs": [
        {
          "output_type": "execute_result",
          "data": {
            "text/plain": [
              "0.7209302325581395"
            ]
          },
          "metadata": {},
          "execution_count": 134
        }
      ]
    },
    {
      "cell_type": "code",
      "source": [
        "# Make A Prediction\n",
        "ex1 = \"can you prove you have a conscious\"\n",
        "pipe_lr.predict([ex1])"
      ],
      "metadata": {
        "id": "vKTy32w3iDcU",
        "colab": {
          "base_uri": "https://localhost:8080/"
        },
        "outputId": "0618cfad-455b-44fe-87e6-122e8e8f30a2"
      },
      "execution_count": 130,
      "outputs": [
        {
          "output_type": "execute_result",
          "data": {
            "text/plain": [
              "array(['that is an interesting question, can you prove that you are?that is an difficult question, can you prove that you are?that depends, can you prove that you are?'],\n",
              "      dtype=object)"
            ]
          },
          "metadata": {},
          "execution_count": 130
        }
      ]
    },
    {
      "cell_type": "markdown",
      "source": [
        "Evaluation ( Averaging  models accuracy )"
      ],
      "metadata": {
        "id": "1CeNQlHHlje9"
      }
    },
    {
      "cell_type": "code",
      "source": [
        "#  Model averaging: Instead of picking a single model, it might be better to do a weighted average over the best fit models."
      ],
      "metadata": {
        "id": "ufOsXBDnlrKw"
      },
      "execution_count": 138,
      "outputs": []
    },
    {
      "cell_type": "markdown",
      "source": [
        "Results of Intent Prediction"
      ],
      "metadata": {
        "id": "RInDaWcXsiKO"
      }
    },
    {
      "cell_type": "code",
      "source": [
        "Accuracy_DT_I"
      ],
      "metadata": {
        "colab": {
          "base_uri": "https://localhost:8080/"
        },
        "id": "E8iL8SdzrxqU",
        "outputId": "253943fc-3682-4064-b8e6-06bde36b0bf2"
      },
      "execution_count": 139,
      "outputs": [
        {
          "output_type": "execute_result",
          "data": {
            "text/plain": [
              "0.5581395348837209"
            ]
          },
          "metadata": {},
          "execution_count": 139
        }
      ]
    },
    {
      "cell_type": "code",
      "source": [
        "Accuracy_SVM_I"
      ],
      "metadata": {
        "colab": {
          "base_uri": "https://localhost:8080/"
        },
        "id": "Jaojb7QCrx9T",
        "outputId": "da8b8435-ac6b-4143-f5a6-a1cfc4e030f7"
      },
      "execution_count": 140,
      "outputs": [
        {
          "output_type": "execute_result",
          "data": {
            "text/plain": [
              "0.627906976744186"
            ]
          },
          "metadata": {},
          "execution_count": 140
        }
      ]
    },
    {
      "cell_type": "code",
      "source": [
        "Accuracy_KNN_I"
      ],
      "metadata": {
        "colab": {
          "base_uri": "https://localhost:8080/"
        },
        "id": "yERI4s66ryDu",
        "outputId": "e5210e63-aadd-4195-924b-888c719e511d"
      },
      "execution_count": 141,
      "outputs": [
        {
          "output_type": "execute_result",
          "data": {
            "text/plain": [
              "0.6511627906976745"
            ]
          },
          "metadata": {},
          "execution_count": 141
        }
      ]
    },
    {
      "cell_type": "code",
      "source": [
        "Accuracy_NB_I"
      ],
      "metadata": {
        "colab": {
          "base_uri": "https://localhost:8080/"
        },
        "id": "we0KYBihrydM",
        "outputId": "df9fdc92-4768-41c4-c8c9-275897548dd8"
      },
      "execution_count": 142,
      "outputs": [
        {
          "output_type": "execute_result",
          "data": {
            "text/plain": [
              "0.7906976744186046"
            ]
          },
          "metadata": {},
          "execution_count": 142
        }
      ]
    },
    {
      "cell_type": "code",
      "source": [
        "Accuracy_LG_I"
      ],
      "metadata": {
        "colab": {
          "base_uri": "https://localhost:8080/"
        },
        "id": "EfMM3fMyr8zx",
        "outputId": "72867c2c-a071-4231-e5ba-63e4a9341fad"
      },
      "execution_count": 143,
      "outputs": [
        {
          "output_type": "execute_result",
          "data": {
            "text/plain": [
              "0.7209302325581395"
            ]
          },
          "metadata": {},
          "execution_count": 143
        }
      ]
    },
    {
      "cell_type": "code",
      "source": [
        "Models_Accuracy_Average_Dataset_1=((Accuracy_DT_I)+(Accuracy_SVM_I)+(Accuracy_KNN_I)+(Accuracy_NB_I)+(Accuracy_LG_I))/5\n",
        "Models_Accuracy_Average_Dataset_1"
      ],
      "metadata": {
        "colab": {
          "base_uri": "https://localhost:8080/"
        },
        "id": "kEyaIUBamJ0v",
        "outputId": "30108723-1ab4-4810-9fd6-22e1a71be019"
      },
      "execution_count": 144,
      "outputs": [
        {
          "output_type": "execute_result",
          "data": {
            "text/plain": [
              "0.6697674418604651"
            ]
          },
          "metadata": {},
          "execution_count": 144
        }
      ]
    },
    {
      "cell_type": "markdown",
      "source": [
        "Results of Responses Prediction"
      ],
      "metadata": {
        "id": "Lmbd34IIsN62"
      }
    },
    {
      "cell_type": "code",
      "source": [
        "Accuracy_DT_R"
      ],
      "metadata": {
        "colab": {
          "base_uri": "https://localhost:8080/"
        },
        "id": "j7oZUg-8sC50",
        "outputId": "2c8b61ed-688e-458f-bf60-0335cd3b7e6e"
      },
      "execution_count": 145,
      "outputs": [
        {
          "output_type": "execute_result",
          "data": {
            "text/plain": [
              "0.5862068965517241"
            ]
          },
          "metadata": {},
          "execution_count": 145
        }
      ]
    },
    {
      "cell_type": "code",
      "source": [
        "Accuracy_SVM_R"
      ],
      "metadata": {
        "colab": {
          "base_uri": "https://localhost:8080/"
        },
        "id": "yIAUJDJJsE8t",
        "outputId": "51cd0ec7-a0df-4424-ea7c-44cde4a98066"
      },
      "execution_count": 146,
      "outputs": [
        {
          "output_type": "execute_result",
          "data": {
            "text/plain": [
              "0.7209302325581395"
            ]
          },
          "metadata": {},
          "execution_count": 146
        }
      ]
    },
    {
      "cell_type": "code",
      "source": [
        "Accuracy_KNN_R"
      ],
      "metadata": {
        "colab": {
          "base_uri": "https://localhost:8080/"
        },
        "id": "CbkLw_GJsFAI",
        "outputId": "841148ac-5e03-4256-a994-51f19fb0f4ff"
      },
      "execution_count": 147,
      "outputs": [
        {
          "output_type": "execute_result",
          "data": {
            "text/plain": [
              "0.6744186046511628"
            ]
          },
          "metadata": {},
          "execution_count": 147
        }
      ]
    },
    {
      "cell_type": "code",
      "source": [
        "Accuracy_NB_R"
      ],
      "metadata": {
        "colab": {
          "base_uri": "https://localhost:8080/"
        },
        "id": "wKnqEWJcsFEG",
        "outputId": "0a6d089a-7cc5-4d9e-bc23-9b8b6f95c4e5"
      },
      "execution_count": 148,
      "outputs": [
        {
          "output_type": "execute_result",
          "data": {
            "text/plain": [
              "0.7906976744186046"
            ]
          },
          "metadata": {},
          "execution_count": 148
        }
      ]
    },
    {
      "cell_type": "code",
      "source": [
        "Accuracy_LG_R"
      ],
      "metadata": {
        "colab": {
          "base_uri": "https://localhost:8080/"
        },
        "id": "rYmtE8fxsFHt",
        "outputId": "6a79e83c-56ab-4610-8bef-a3916c11b2cd"
      },
      "execution_count": 149,
      "outputs": [
        {
          "output_type": "execute_result",
          "data": {
            "text/plain": [
              "0.7209302325581395"
            ]
          },
          "metadata": {},
          "execution_count": 149
        }
      ]
    },
    {
      "cell_type": "code",
      "source": [
        "Models_Accuracy_Average_Dataset_2=((Accuracy_DT_R)+(Accuracy_SVM_R)+(Accuracy_KNN_R)+(Accuracy_NB_R)+(Accuracy_LG_R))/5\n",
        "Models_Accuracy_Average_Dataset_2"
      ],
      "metadata": {
        "colab": {
          "base_uri": "https://localhost:8080/"
        },
        "id": "crLgBtLcrU3A",
        "outputId": "89dca61d-adf4-4b2b-b8a7-7d9c52a5967e"
      },
      "execution_count": 150,
      "outputs": [
        {
          "output_type": "execute_result",
          "data": {
            "text/plain": [
              "0.6986367281475541"
            ]
          },
          "metadata": {},
          "execution_count": 150
        }
      ]
    }
  ]
}